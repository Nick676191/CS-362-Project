{
 "cells": [
  {
   "cell_type": "markdown",
   "id": "a784aaea",
   "metadata": {},
   "source": [
    "# Port-au-Prince Data Analysis "
   ]
  },
  {
   "cell_type": "markdown",
   "id": "9097bed2",
   "metadata": {},
   "source": [
    "### Authors: Carter Murphy, Nick Bourgeois, Mackenzie Kummer, Nolan Penoyer"
   ]
  },
  {
   "cell_type": "markdown",
   "id": "f08e9a6c",
   "metadata": {},
   "source": [
    "## Importing Packages"
   ]
  },
  {
   "cell_type": "code",
   "execution_count": 317,
   "id": "79ff68bb",
   "metadata": {},
   "outputs": [],
   "source": [
    "import pandas as pd\n",
    "import numpy as np\n",
    "import matplotlib.pyplot as plt\n",
    "import seaborn as sns\n",
    "import math\n",
    "import scipy.stats as stats\n",
    "from fitter import Fitter, get_common_distributions, get_distributions\n",
    "from statsmodels.sandbox.stats.runs import runstest_1samp\n",
    "from datetime import *"
   ]
  },
  {
   "cell_type": "markdown",
   "id": "bb2b826e",
   "metadata": {},
   "source": [
    "## Reading the Data"
   ]
  },
  {
   "cell_type": "markdown",
   "id": "05414943",
   "metadata": {},
   "source": [
    "### Aircraft Capabilities DF: Goes through all aircraft types, then lists the capacity (in tons) of each type of aircraft and the average load of each type of aircraft. "
   ]
  },
  {
   "cell_type": "code",
   "execution_count": 318,
   "id": "0d88c6d9",
   "metadata": {
    "scrolled": true
   },
   "outputs": [
    {
     "data": {
      "text/html": [
       "<div>\n",
       "<style scoped>\n",
       "    .dataframe tbody tr th:only-of-type {\n",
       "        vertical-align: middle;\n",
       "    }\n",
       "\n",
       "    .dataframe tbody tr th {\n",
       "        vertical-align: top;\n",
       "    }\n",
       "\n",
       "    .dataframe thead th {\n",
       "        text-align: right;\n",
       "    }\n",
       "</style>\n",
       "<table border=\"1\" class=\"dataframe\">\n",
       "  <thead>\n",
       "    <tr style=\"text-align: right;\">\n",
       "      <th></th>\n",
       "      <th>Aircraft Type</th>\n",
       "      <th>Capacity (sTon)</th>\n",
       "      <th>Avg Load (sTon)</th>\n",
       "    </tr>\n",
       "  </thead>\n",
       "  <tbody>\n",
       "    <tr>\n",
       "      <th>0</th>\n",
       "      <td>707</td>\n",
       "      <td>26.0</td>\n",
       "      <td>20.28</td>\n",
       "    </tr>\n",
       "    <tr>\n",
       "      <th>1</th>\n",
       "      <td>727</td>\n",
       "      <td>13.0</td>\n",
       "      <td>10.14</td>\n",
       "    </tr>\n",
       "    <tr>\n",
       "      <th>2</th>\n",
       "      <td>737</td>\n",
       "      <td>11.0</td>\n",
       "      <td>8.58</td>\n",
       "    </tr>\n",
       "    <tr>\n",
       "      <th>3</th>\n",
       "      <td>747</td>\n",
       "      <td>78.0</td>\n",
       "      <td>60.84</td>\n",
       "    </tr>\n",
       "    <tr>\n",
       "      <th>4</th>\n",
       "      <td>767</td>\n",
       "      <td>58.0</td>\n",
       "      <td>45.24</td>\n",
       "    </tr>\n",
       "  </tbody>\n",
       "</table>\n",
       "</div>"
      ],
      "text/plain": [
       "  Aircraft Type  Capacity (sTon)  Avg Load (sTon)\n",
       "0           707             26.0            20.28\n",
       "1           727             13.0            10.14\n",
       "2           737             11.0             8.58\n",
       "3           747             78.0            60.84\n",
       "4           767             58.0            45.24"
      ]
     },
     "execution_count": 318,
     "metadata": {},
     "output_type": "execute_result"
    }
   ],
   "source": [
    "aircraft_capabilities = pd.read_excel(\"AircraftCapabilities.xlsx\")\n",
    "aircraft_capabilities.columns = ['Aircraft Type','Capacity (sTon)','Avg Load (sTon)']\n",
    "aircraft_capabilities.head()"
   ]
  },
  {
   "cell_type": "markdown",
   "id": "051b4646",
   "metadata": {},
   "source": [
    "### Ground Time DF: Lists an ID for each plane that can also be found in HFOCC data, and pairs the ground time (in hours) for every aircraft. Each ground time observation can be understood as the time from landing at the Port-au-Prince airport to leaving the airport. The ground time is measured in hours. "
   ]
  },
  {
   "cell_type": "code",
   "execution_count": 319,
   "id": "6acc463d",
   "metadata": {
    "scrolled": true
   },
   "outputs": [
    {
     "data": {
      "text/html": [
       "<div>\n",
       "<style scoped>\n",
       "    .dataframe tbody tr th:only-of-type {\n",
       "        vertical-align: middle;\n",
       "    }\n",
       "\n",
       "    .dataframe tbody tr th {\n",
       "        vertical-align: top;\n",
       "    }\n",
       "\n",
       "    .dataframe thead th {\n",
       "        text-align: right;\n",
       "    }\n",
       "</style>\n",
       "<table border=\"1\" class=\"dataframe\">\n",
       "  <thead>\n",
       "    <tr style=\"text-align: right;\">\n",
       "      <th></th>\n",
       "      <th>Ground Time (Hrs)</th>\n",
       "      <th>ID</th>\n",
       "    </tr>\n",
       "  </thead>\n",
       "  <tbody>\n",
       "    <tr>\n",
       "      <th>0</th>\n",
       "      <td>1.872</td>\n",
       "      <td>2706</td>\n",
       "    </tr>\n",
       "    <tr>\n",
       "      <th>1</th>\n",
       "      <td>0.748</td>\n",
       "      <td>2707</td>\n",
       "    </tr>\n",
       "    <tr>\n",
       "      <th>2</th>\n",
       "      <td>1.454</td>\n",
       "      <td>2708</td>\n",
       "    </tr>\n",
       "    <tr>\n",
       "      <th>3</th>\n",
       "      <td>1.178</td>\n",
       "      <td>2709</td>\n",
       "    </tr>\n",
       "    <tr>\n",
       "      <th>4</th>\n",
       "      <td>1.202</td>\n",
       "      <td>2710</td>\n",
       "    </tr>\n",
       "  </tbody>\n",
       "</table>\n",
       "</div>"
      ],
      "text/plain": [
       "   Ground Time (Hrs)    ID\n",
       "0              1.872  2706\n",
       "1              0.748  2707\n",
       "2              1.454  2708\n",
       "3              1.178  2709\n",
       "4              1.202  2710"
      ]
     },
     "execution_count": 319,
     "metadata": {},
     "output_type": "execute_result"
    }
   ],
   "source": [
    "ground_time = pd.read_excel(\"GroundTime.xlsx\")\n",
    "ground_time = ground_time.drop(ground_time.columns[[2,3]], axis=1)\n",
    "ground_time.columns = ['Ground Time (Hrs)', 'ID']\n",
    "ground_time.head()"
   ]
  },
  {
   "cell_type": "markdown",
   "id": "da90e360",
   "metadata": {},
   "source": [
    "### Daily Demand DF: Lists the average daily demand (in tons) of water, food, medical supplies, and logistics over the specified dates"
   ]
  },
  {
   "cell_type": "code",
   "execution_count": 320,
   "id": "34bd3f26",
   "metadata": {},
   "outputs": [
    {
     "data": {
      "text/html": [
       "<div>\n",
       "<style scoped>\n",
       "    .dataframe tbody tr th:only-of-type {\n",
       "        vertical-align: middle;\n",
       "    }\n",
       "\n",
       "    .dataframe tbody tr th {\n",
       "        vertical-align: top;\n",
       "    }\n",
       "\n",
       "    .dataframe thead th {\n",
       "        text-align: right;\n",
       "    }\n",
       "</style>\n",
       "<table border=\"1\" class=\"dataframe\">\n",
       "  <thead>\n",
       "    <tr style=\"text-align: right;\">\n",
       "      <th></th>\n",
       "      <th>Dates</th>\n",
       "      <th>Water</th>\n",
       "      <th>Food</th>\n",
       "      <th>Medical</th>\n",
       "      <th>Logistics</th>\n",
       "    </tr>\n",
       "  </thead>\n",
       "  <tbody>\n",
       "    <tr>\n",
       "      <th>0</th>\n",
       "      <td>13 Jan-28 Jan</td>\n",
       "      <td>390</td>\n",
       "      <td>290</td>\n",
       "      <td>250</td>\n",
       "      <td>700</td>\n",
       "    </tr>\n",
       "    <tr>\n",
       "      <th>1</th>\n",
       "      <td>29 Jan-28 Feb</td>\n",
       "      <td>195</td>\n",
       "      <td>145</td>\n",
       "      <td>125</td>\n",
       "      <td>200</td>\n",
       "    </tr>\n",
       "  </tbody>\n",
       "</table>\n",
       "</div>"
      ],
      "text/plain": [
       "           Dates  Water  Food  Medical  Logistics\n",
       "0  13 Jan-28 Jan    390   290      250        700\n",
       "1  29 Jan-28 Feb    195   145      125        200"
      ]
     },
     "execution_count": 320,
     "metadata": {},
     "output_type": "execute_result"
    }
   ],
   "source": [
    "data = [['13 Jan-28 Jan',390,290,250,700],['29 Jan-28 Feb',195,145,125,200]]\n",
    "daily_demand = pd.DataFrame(data,columns=['Dates','Water','Food','Medical','Logistics'])\n",
    "daily_demand"
   ]
  },
  {
   "cell_type": "markdown",
   "id": "c322f572",
   "metadata": {},
   "source": [
    "### HFOCC DF: Has an observation of every aircraft that enters the Port-au-Prince Airport. Lists important items for each of these planes that can be used for the arrival data. "
   ]
  },
  {
   "cell_type": "code",
   "execution_count": 321,
   "id": "df8c1176",
   "metadata": {
    "scrolled": true
   },
   "outputs": [
    {
     "data": {
      "text/html": [
       "<div>\n",
       "<style scoped>\n",
       "    .dataframe tbody tr th:only-of-type {\n",
       "        vertical-align: middle;\n",
       "    }\n",
       "\n",
       "    .dataframe tbody tr th {\n",
       "        vertical-align: top;\n",
       "    }\n",
       "\n",
       "    .dataframe thead th {\n",
       "        text-align: right;\n",
       "    }\n",
       "</style>\n",
       "<table border=\"1\" class=\"dataframe\">\n",
       "  <thead>\n",
       "    <tr style=\"text-align: right;\">\n",
       "      <th></th>\n",
       "      <th>Request Status</th>\n",
       "      <th>Arrival Date</th>\n",
       "      <th>Arrival Time</th>\n",
       "      <th>Date/Time</th>\n",
       "      <th>Interarrival Time (hours)</th>\n",
       "      <th>Organization</th>\n",
       "      <th>Aircraft Type</th>\n",
       "      <th>Call Sign</th>\n",
       "      <th>Tail #</th>\n",
       "      <th>A/C Size</th>\n",
       "      <th>...</th>\n",
       "      <th>Nationality</th>\n",
       "      <th>Mission purpose</th>\n",
       "      <th># Pax</th>\n",
       "      <th>CNX DATE</th>\n",
       "      <th>CNX TIME</th>\n",
       "      <th>AF Planner Remarks</th>\n",
       "      <th>AF Manager Remarks</th>\n",
       "      <th>ID</th>\n",
       "      <th>Modified</th>\n",
       "      <th>Created</th>\n",
       "    </tr>\n",
       "  </thead>\n",
       "  <tbody>\n",
       "    <tr>\n",
       "      <th>0</th>\n",
       "      <td>Complete</td>\n",
       "      <td>2010-01-16</td>\n",
       "      <td>0400Z</td>\n",
       "      <td>2010-01-16 04:00:00</td>\n",
       "      <td>0.0</td>\n",
       "      <td>US SENATOR</td>\n",
       "      <td>GULFSTREAM</td>\n",
       "      <td>N450GD</td>\n",
       "      <td>N450GD</td>\n",
       "      <td>N</td>\n",
       "      <td>...</td>\n",
       "      <td>UNITED STATES</td>\n",
       "      <td>PICK UP EVACUEES</td>\n",
       "      <td>14</td>\n",
       "      <td>NaN</td>\n",
       "      <td>NaN</td>\n",
       "      <td>NaN</td>\n",
       "      <td>NaN</td>\n",
       "      <td>2708</td>\n",
       "      <td>2010-02-06 15:01:10</td>\n",
       "      <td>2010-02-03 09:08:54</td>\n",
       "    </tr>\n",
       "    <tr>\n",
       "      <th>1</th>\n",
       "      <td>Complete</td>\n",
       "      <td>2010-01-16</td>\n",
       "      <td>1200Z</td>\n",
       "      <td>2010-01-16 12:00:00</td>\n",
       "      <td>8.0</td>\n",
       "      <td>MEXICAN GOVT</td>\n",
       "      <td>C130</td>\n",
       "      <td>MEXICAN AF 3616</td>\n",
       "      <td>3616</td>\n",
       "      <td>N</td>\n",
       "      <td>...</td>\n",
       "      <td>MEXICO</td>\n",
       "      <td>HUMANITARIAN AID</td>\n",
       "      <td>UNK</td>\n",
       "      <td>NaN</td>\n",
       "      <td>NaN</td>\n",
       "      <td>NaN</td>\n",
       "      <td>NaN</td>\n",
       "      <td>2716</td>\n",
       "      <td>2010-02-11 10:48:28</td>\n",
       "      <td>2010-02-03 09:08:54</td>\n",
       "    </tr>\n",
       "    <tr>\n",
       "      <th>2</th>\n",
       "      <td>Complete</td>\n",
       "      <td>2010-01-16</td>\n",
       "      <td>1300Z</td>\n",
       "      <td>2010-01-16 13:00:00</td>\n",
       "      <td>1.0</td>\n",
       "      <td>UK GOVT</td>\n",
       "      <td>B727</td>\n",
       "      <td>AJT401</td>\n",
       "      <td>N199AJ</td>\n",
       "      <td>N</td>\n",
       "      <td>...</td>\n",
       "      <td>UK</td>\n",
       "      <td>UNKNOWN</td>\n",
       "      <td>UNK</td>\n",
       "      <td>NaN</td>\n",
       "      <td>NaN</td>\n",
       "      <td>NaN</td>\n",
       "      <td>NaN</td>\n",
       "      <td>2722</td>\n",
       "      <td>2010-02-06 17:17:08</td>\n",
       "      <td>2010-02-03 09:08:55</td>\n",
       "    </tr>\n",
       "    <tr>\n",
       "      <th>3</th>\n",
       "      <td>Complete</td>\n",
       "      <td>2010-01-16</td>\n",
       "      <td>1900Z</td>\n",
       "      <td>2010-01-16 19:00:00</td>\n",
       "      <td>6.0</td>\n",
       "      <td>USCG</td>\n",
       "      <td>C130</td>\n",
       "      <td>CG1720</td>\n",
       "      <td>Unknown</td>\n",
       "      <td>N</td>\n",
       "      <td>...</td>\n",
       "      <td>UNITED STATES</td>\n",
       "      <td>SECRETARY OF STATE</td>\n",
       "      <td>UNK</td>\n",
       "      <td>NaN</td>\n",
       "      <td>NaN</td>\n",
       "      <td>NaN</td>\n",
       "      <td>NaN</td>\n",
       "      <td>2748</td>\n",
       "      <td>2010-02-07 03:07:53</td>\n",
       "      <td>2010-02-03 09:08:55</td>\n",
       "    </tr>\n",
       "    <tr>\n",
       "      <th>4</th>\n",
       "      <td>Complete</td>\n",
       "      <td>2010-01-16</td>\n",
       "      <td>2000Z</td>\n",
       "      <td>2010-01-16 20:00:00</td>\n",
       "      <td>1.0</td>\n",
       "      <td>USCG</td>\n",
       "      <td>FALCON</td>\n",
       "      <td>C2117</td>\n",
       "      <td>2117</td>\n",
       "      <td>N</td>\n",
       "      <td>...</td>\n",
       "      <td>UNITED STATES</td>\n",
       "      <td>PAX</td>\n",
       "      <td>2</td>\n",
       "      <td>NaN</td>\n",
       "      <td>NaN</td>\n",
       "      <td>NaN</td>\n",
       "      <td>NaN</td>\n",
       "      <td>2755</td>\n",
       "      <td>2010-02-06 15:01:32</td>\n",
       "      <td>2010-02-03 09:08:55</td>\n",
       "    </tr>\n",
       "  </tbody>\n",
       "</table>\n",
       "<p>5 rows × 23 columns</p>\n",
       "</div>"
      ],
      "text/plain": [
       "  Request Status Arrival Date Arrival Time           Date/Time  \\\n",
       "0       Complete   2010-01-16        0400Z 2010-01-16 04:00:00   \n",
       "1       Complete   2010-01-16        1200Z 2010-01-16 12:00:00   \n",
       "2       Complete   2010-01-16        1300Z 2010-01-16 13:00:00   \n",
       "3       Complete   2010-01-16        1900Z 2010-01-16 19:00:00   \n",
       "4       Complete   2010-01-16        2000Z 2010-01-16 20:00:00   \n",
       "\n",
       "   Interarrival Time (hours)  Organization Aircraft Type        Call Sign  \\\n",
       "0                        0.0    US SENATOR    GULFSTREAM           N450GD   \n",
       "1                        8.0  MEXICAN GOVT          C130  MEXICAN AF 3616   \n",
       "2                        1.0       UK GOVT          B727           AJT401   \n",
       "3                        6.0          USCG          C130           CG1720   \n",
       "4                        1.0          USCG        FALCON            C2117   \n",
       "\n",
       "    Tail # A/C Size  ...    Nationality     Mission purpose  # Pax CNX DATE  \\\n",
       "0   N450GD        N  ...  UNITED STATES    PICK UP EVACUEES     14      NaN   \n",
       "1     3616        N  ...         MEXICO    HUMANITARIAN AID    UNK      NaN   \n",
       "2   N199AJ        N  ...             UK             UNKNOWN    UNK      NaN   \n",
       "3  Unknown        N  ...  UNITED STATES  SECRETARY OF STATE    UNK      NaN   \n",
       "4     2117        N  ...  UNITED STATES                 PAX      2      NaN   \n",
       "\n",
       "  CNX TIME AF Planner Remarks  AF Manager Remarks    ID            Modified  \\\n",
       "0      NaN                NaN                 NaN  2708 2010-02-06 15:01:10   \n",
       "1      NaN                NaN                 NaN  2716 2010-02-11 10:48:28   \n",
       "2      NaN                NaN                 NaN  2722 2010-02-06 17:17:08   \n",
       "3      NaN                NaN                 NaN  2748 2010-02-07 03:07:53   \n",
       "4      NaN                NaN                 NaN  2755 2010-02-06 15:01:32   \n",
       "\n",
       "              Created  \n",
       "0 2010-02-03 09:08:54  \n",
       "1 2010-02-03 09:08:54  \n",
       "2 2010-02-03 09:08:55  \n",
       "3 2010-02-03 09:08:55  \n",
       "4 2010-02-03 09:08:55  \n",
       "\n",
       "[5 rows x 23 columns]"
      ]
     },
     "execution_count": 321,
     "metadata": {},
     "output_type": "execute_result"
    }
   ],
   "source": [
    "hfocc = pd.read_excel(\"HFOCC_Interrarrival_times_hours.xlsx\")\n",
    "hfocc.head()"
   ]
  },
  {
   "cell_type": "code",
   "execution_count": 322,
   "id": "e11df5bc",
   "metadata": {},
   "outputs": [
    {
     "data": {
      "text/plain": [
       "3237"
      ]
     },
     "execution_count": 322,
     "metadata": {},
     "output_type": "execute_result"
    }
   ],
   "source": [
    "# Total planes that arrive\n",
    "len(hfocc)"
   ]
  },
  {
   "cell_type": "code",
   "execution_count": 323,
   "id": "7ee9bf26",
   "metadata": {},
   "outputs": [
    {
     "name": "stdout",
     "output_type": "stream",
     "text": [
      "['Request Status', 'Arrival Date', 'Arrival Time', 'Date/Time', 'Interarrival Time (hours)', 'Organization', 'Aircraft Type', 'Call Sign', 'Tail #', 'A/C Size', 'Affiliation', 'Request ID', 'Chg', 'Nationality', 'Mission purpose', '# Pax', 'CNX DATE', 'CNX TIME', 'AF Planner Remarks', 'AF Manager Remarks', 'ID', 'Modified', 'Created']\n"
     ]
    }
   ],
   "source": [
    "print(hfocc.columns.tolist())"
   ]
  },
  {
   "cell_type": "code",
   "execution_count": 324,
   "id": "24813018",
   "metadata": {
    "scrolled": false
   },
   "outputs": [
    {
     "data": {
      "text/plain": [
       "2.8535681186283597"
      ]
     },
     "execution_count": 324,
     "metadata": {},
     "output_type": "execute_result"
    }
   ],
   "source": [
    "# Average interarrival time between all aircraft\n",
    "hfocc['Interarrival Time (hours)'].mean()"
   ]
  },
  {
   "cell_type": "markdown",
   "id": "7af7d52b",
   "metadata": {},
   "source": [
    "## Input Data Analysis of Arrivals"
   ]
  },
  {
   "cell_type": "code",
   "execution_count": 325,
   "id": "d586b2ba",
   "metadata": {},
   "outputs": [
    {
     "data": {
      "text/html": [
       "<div>\n",
       "<style scoped>\n",
       "    .dataframe tbody tr th:only-of-type {\n",
       "        vertical-align: middle;\n",
       "    }\n",
       "\n",
       "    .dataframe tbody tr th {\n",
       "        vertical-align: top;\n",
       "    }\n",
       "\n",
       "    .dataframe thead th {\n",
       "        text-align: right;\n",
       "    }\n",
       "</style>\n",
       "<table border=\"1\" class=\"dataframe\">\n",
       "  <thead>\n",
       "    <tr style=\"text-align: right;\">\n",
       "      <th></th>\n",
       "      <th>Request Status</th>\n",
       "      <th>Arrival Time</th>\n",
       "      <th>Date/Time</th>\n",
       "      <th>Interarrival Time (hours)</th>\n",
       "      <th>Organization</th>\n",
       "      <th>Aircraft Type</th>\n",
       "      <th>Call Sign</th>\n",
       "      <th>Tail #</th>\n",
       "      <th>A/C Size</th>\n",
       "      <th>Affiliation</th>\n",
       "      <th>...</th>\n",
       "      <th>Nationality</th>\n",
       "      <th>Mission purpose</th>\n",
       "      <th># Pax</th>\n",
       "      <th>CNX DATE</th>\n",
       "      <th>CNX TIME</th>\n",
       "      <th>AF Planner Remarks</th>\n",
       "      <th>AF Manager Remarks</th>\n",
       "      <th>ID</th>\n",
       "      <th>Modified</th>\n",
       "      <th>Created</th>\n",
       "    </tr>\n",
       "    <tr>\n",
       "      <th>Arrival Date</th>\n",
       "      <th></th>\n",
       "      <th></th>\n",
       "      <th></th>\n",
       "      <th></th>\n",
       "      <th></th>\n",
       "      <th></th>\n",
       "      <th></th>\n",
       "      <th></th>\n",
       "      <th></th>\n",
       "      <th></th>\n",
       "      <th></th>\n",
       "      <th></th>\n",
       "      <th></th>\n",
       "      <th></th>\n",
       "      <th></th>\n",
       "      <th></th>\n",
       "      <th></th>\n",
       "      <th></th>\n",
       "      <th></th>\n",
       "      <th></th>\n",
       "      <th></th>\n",
       "    </tr>\n",
       "  </thead>\n",
       "  <tbody>\n",
       "    <tr>\n",
       "      <th>2010-01-12</th>\n",
       "      <td>1</td>\n",
       "      <td>1</td>\n",
       "      <td>1</td>\n",
       "      <td>1</td>\n",
       "      <td>1</td>\n",
       "      <td>1</td>\n",
       "      <td>1</td>\n",
       "      <td>1</td>\n",
       "      <td>1</td>\n",
       "      <td>1</td>\n",
       "      <td>...</td>\n",
       "      <td>1</td>\n",
       "      <td>1</td>\n",
       "      <td>1</td>\n",
       "      <td>0</td>\n",
       "      <td>0</td>\n",
       "      <td>1</td>\n",
       "      <td>0</td>\n",
       "      <td>1</td>\n",
       "      <td>1</td>\n",
       "      <td>1</td>\n",
       "    </tr>\n",
       "    <tr>\n",
       "      <th>2010-01-15</th>\n",
       "      <td>1</td>\n",
       "      <td>1</td>\n",
       "      <td>1</td>\n",
       "      <td>1</td>\n",
       "      <td>1</td>\n",
       "      <td>1</td>\n",
       "      <td>1</td>\n",
       "      <td>1</td>\n",
       "      <td>1</td>\n",
       "      <td>1</td>\n",
       "      <td>...</td>\n",
       "      <td>1</td>\n",
       "      <td>1</td>\n",
       "      <td>1</td>\n",
       "      <td>0</td>\n",
       "      <td>0</td>\n",
       "      <td>0</td>\n",
       "      <td>0</td>\n",
       "      <td>1</td>\n",
       "      <td>1</td>\n",
       "      <td>1</td>\n",
       "    </tr>\n",
       "    <tr>\n",
       "      <th>2010-01-16</th>\n",
       "      <td>74</td>\n",
       "      <td>74</td>\n",
       "      <td>74</td>\n",
       "      <td>74</td>\n",
       "      <td>74</td>\n",
       "      <td>74</td>\n",
       "      <td>74</td>\n",
       "      <td>74</td>\n",
       "      <td>74</td>\n",
       "      <td>74</td>\n",
       "      <td>...</td>\n",
       "      <td>74</td>\n",
       "      <td>74</td>\n",
       "      <td>74</td>\n",
       "      <td>0</td>\n",
       "      <td>1</td>\n",
       "      <td>1</td>\n",
       "      <td>0</td>\n",
       "      <td>74</td>\n",
       "      <td>74</td>\n",
       "      <td>74</td>\n",
       "    </tr>\n",
       "    <tr>\n",
       "      <th>2010-01-17</th>\n",
       "      <td>132</td>\n",
       "      <td>132</td>\n",
       "      <td>132</td>\n",
       "      <td>132</td>\n",
       "      <td>132</td>\n",
       "      <td>132</td>\n",
       "      <td>132</td>\n",
       "      <td>132</td>\n",
       "      <td>132</td>\n",
       "      <td>132</td>\n",
       "      <td>...</td>\n",
       "      <td>132</td>\n",
       "      <td>132</td>\n",
       "      <td>132</td>\n",
       "      <td>0</td>\n",
       "      <td>0</td>\n",
       "      <td>0</td>\n",
       "      <td>0</td>\n",
       "      <td>132</td>\n",
       "      <td>132</td>\n",
       "      <td>132</td>\n",
       "    </tr>\n",
       "    <tr>\n",
       "      <th>2010-01-18</th>\n",
       "      <td>134</td>\n",
       "      <td>134</td>\n",
       "      <td>134</td>\n",
       "      <td>134</td>\n",
       "      <td>134</td>\n",
       "      <td>134</td>\n",
       "      <td>134</td>\n",
       "      <td>134</td>\n",
       "      <td>134</td>\n",
       "      <td>134</td>\n",
       "      <td>...</td>\n",
       "      <td>134</td>\n",
       "      <td>134</td>\n",
       "      <td>134</td>\n",
       "      <td>0</td>\n",
       "      <td>0</td>\n",
       "      <td>0</td>\n",
       "      <td>0</td>\n",
       "      <td>134</td>\n",
       "      <td>134</td>\n",
       "      <td>134</td>\n",
       "    </tr>\n",
       "  </tbody>\n",
       "</table>\n",
       "<p>5 rows × 22 columns</p>\n",
       "</div>"
      ],
      "text/plain": [
       "              Request Status  Arrival Time  Date/Time  \\\n",
       "Arrival Date                                            \n",
       "2010-01-12                 1             1          1   \n",
       "2010-01-15                 1             1          1   \n",
       "2010-01-16                74            74         74   \n",
       "2010-01-17               132           132        132   \n",
       "2010-01-18               134           134        134   \n",
       "\n",
       "              Interarrival Time (hours)  Organization  Aircraft Type  \\\n",
       "Arrival Date                                                           \n",
       "2010-01-12                            1             1              1   \n",
       "2010-01-15                            1             1              1   \n",
       "2010-01-16                           74            74             74   \n",
       "2010-01-17                          132           132            132   \n",
       "2010-01-18                          134           134            134   \n",
       "\n",
       "              Call Sign  Tail #  A/C Size  Affiliation  ...  Nationality  \\\n",
       "Arrival Date                                            ...                \n",
       "2010-01-12            1       1         1            1  ...            1   \n",
       "2010-01-15            1       1         1            1  ...            1   \n",
       "2010-01-16           74      74        74           74  ...           74   \n",
       "2010-01-17          132     132       132          132  ...          132   \n",
       "2010-01-18          134     134       134          134  ...          134   \n",
       "\n",
       "              Mission purpose  # Pax  CNX DATE  CNX TIME  AF Planner Remarks  \\\n",
       "Arrival Date                                                                   \n",
       "2010-01-12                  1      1         0         0                   1   \n",
       "2010-01-15                  1      1         0         0                   0   \n",
       "2010-01-16                 74     74         0         1                   1   \n",
       "2010-01-17                132    132         0         0                   0   \n",
       "2010-01-18                134    134         0         0                   0   \n",
       "\n",
       "              AF Manager Remarks   ID  Modified  Created  \n",
       "Arrival Date                                              \n",
       "2010-01-12                     0    1         1        1  \n",
       "2010-01-15                     0    1         1        1  \n",
       "2010-01-16                     0   74        74       74  \n",
       "2010-01-17                     0  132       132      132  \n",
       "2010-01-18                     0  134       134      134  \n",
       "\n",
       "[5 rows x 22 columns]"
      ]
     },
     "execution_count": 325,
     "metadata": {},
     "output_type": "execute_result"
    }
   ],
   "source": [
    "Date_number = hfocc.groupby(['Arrival Date']).count()\n",
    "Date_number.head()"
   ]
  },
  {
   "cell_type": "code",
   "execution_count": 326,
   "id": "eed1bc54",
   "metadata": {},
   "outputs": [
    {
     "data": {
      "text/html": [
       "<div>\n",
       "<style scoped>\n",
       "    .dataframe tbody tr th:only-of-type {\n",
       "        vertical-align: middle;\n",
       "    }\n",
       "\n",
       "    .dataframe tbody tr th {\n",
       "        vertical-align: top;\n",
       "    }\n",
       "\n",
       "    .dataframe thead th {\n",
       "        text-align: right;\n",
       "    }\n",
       "</style>\n",
       "<table border=\"1\" class=\"dataframe\">\n",
       "  <thead>\n",
       "    <tr style=\"text-align: right;\">\n",
       "      <th></th>\n",
       "      <th>Count</th>\n",
       "    </tr>\n",
       "  </thead>\n",
       "  <tbody>\n",
       "    <tr>\n",
       "      <th>1</th>\n",
       "      <td>1</td>\n",
       "    </tr>\n",
       "    <tr>\n",
       "      <th>2</th>\n",
       "      <td>1</td>\n",
       "    </tr>\n",
       "    <tr>\n",
       "      <th>3</th>\n",
       "      <td>74</td>\n",
       "    </tr>\n",
       "    <tr>\n",
       "      <th>4</th>\n",
       "      <td>132</td>\n",
       "    </tr>\n",
       "    <tr>\n",
       "      <th>5</th>\n",
       "      <td>134</td>\n",
       "    </tr>\n",
       "  </tbody>\n",
       "</table>\n",
       "</div>"
      ],
      "text/plain": [
       "   Count\n",
       "1      1\n",
       "2      1\n",
       "3     74\n",
       "4    132\n",
       "5    134"
      ]
     },
     "execution_count": 326,
     "metadata": {},
     "output_type": "execute_result"
    }
   ],
   "source": [
    "number_plane_date = pd.DataFrame({\"Count\": list(Date_number[\"Request Status\"])}, index=list(range(1,48)))\n",
    "number_plane_date.head()"
   ]
  },
  {
   "cell_type": "markdown",
   "id": "45b2f85c",
   "metadata": {},
   "source": [
    "#### Although the amount of planes arriving at the airport can only take on whole numbers, it will still follow a continuous distribution. This is because two planes can't arrive at the Port-au-Prince airport at the same time. Therefore this data is continuous"
   ]
  },
  {
   "cell_type": "code",
   "execution_count": 327,
   "id": "fbcc0f1d",
   "metadata": {},
   "outputs": [
    {
     "data": {
      "image/png": "[encoded data removed]",
      "text/plain": [
       "<Figure size 432x288 with 1 Axes>"
      ]
     },
     "metadata": {
      "needs_background": "light"
     },
     "output_type": "display_data"
    }
   ],
   "source": [
    "sns.histplot(data=number_plane_date, x=\"Count\").set_xlabel(\"Number of Planes in a Day\")\n",
    "plt.show()"
   ]
  },
  {
   "cell_type": "code",
   "execution_count": 501,
   "id": "0041a4e0",
   "metadata": {},
   "outputs": [
    {
     "data": {
      "image/png": "[encoded data removed]",
      "text/plain": [
       "<Figure size 432x288 with 1 Axes>"
      ]
     },
     "metadata": {
      "needs_background": "light"
     },
     "output_type": "display_data"
    }
   ],
   "source": [
    "plt.plot(number_plane_date['Count'].values)\n",
    "plt.show()"
   ]
  },
  {
   "cell_type": "markdown",
   "id": "895ad7d0",
   "metadata": {},
   "source": [
    "### The data is homogenous because it all belongs to one distinct distribution as shown above by the histogram. Also according to the histogram it looks like the data follows an exponential distribution. Meaning that the interarrival time between aircraft follows an exponential distribution."
   ]
  },
  {
   "cell_type": "markdown",
   "id": "a7af82ff",
   "metadata": {},
   "source": [
    "### The amount of aircraft that arrive per day increases significantly and then decreases until around day 15. This is where the amount of planes per day starts to level off and decrease slighty less. Coincidentally, the 15th day of the simulation is around the same time when the pier re-opened in Haiti. So we will split the data up at the 15th day and see how the data looks. We will also get rid of the first two days because those days only had one plane come in that day. "
   ]
  },
  {
   "cell_type": "code",
   "execution_count": 329,
   "id": "31efaa6a",
   "metadata": {},
   "outputs": [],
   "source": [
    "first15 = number_plane_date.iloc[2:15,]"
   ]
  },
  {
   "cell_type": "code",
   "execution_count": 330,
   "id": "5142b3bb",
   "metadata": {},
   "outputs": [],
   "source": [
    "remain = number_plane_date.iloc[15:,]"
   ]
  },
  {
   "cell_type": "markdown",
   "id": "241b5bce",
   "metadata": {},
   "source": [
    "### Now we can recheck for Homogeneity and Stationarity on both DataFrames"
   ]
  },
  {
   "cell_type": "markdown",
   "id": "bf9d49de",
   "metadata": {},
   "source": [
    "#### Before Port Reopened"
   ]
  },
  {
   "cell_type": "code",
   "execution_count": 331,
   "id": "0a4b3f8e",
   "metadata": {},
   "outputs": [
    {
     "data": {
      "text/plain": [
       "[]"
      ]
     },
     "execution_count": 331,
     "metadata": {},
     "output_type": "execute_result"
    },
    {
     "data": {
      "image/png": "[encoded data removed]",
      "text/plain": [
       "<Figure size 432x288 with 1 Axes>"
      ]
     },
     "metadata": {
      "needs_background": "light"
     },
     "output_type": "display_data"
    }
   ],
   "source": [
    "sns.histplot(data=first15, x=\"Count\").set_xlabel(\"Number of Planes per Day\")\n",
    "plt.plot()"
   ]
  },
  {
   "cell_type": "code",
   "execution_count": 332,
   "id": "e1b82f50",
   "metadata": {},
   "outputs": [
    {
     "data": {
      "image/png": "[encoded data removed]",
      "text/plain": [
       "<Figure size 432x288 with 1 Axes>"
      ]
     },
     "metadata": {
      "needs_background": "light"
     },
     "output_type": "display_data"
    }
   ],
   "source": [
    "plt.plot(first15[\"Count\"].values)\n",
    "plt.show()"
   ]
  },
  {
   "cell_type": "markdown",
   "id": "2005553d",
   "metadata": {},
   "source": [
    "#### After Port Reopened"
   ]
  },
  {
   "cell_type": "code",
   "execution_count": 333,
   "id": "0fcc2560",
   "metadata": {},
   "outputs": [
    {
     "data": {
      "text/plain": [
       "[]"
      ]
     },
     "execution_count": 333,
     "metadata": {},
     "output_type": "execute_result"
    },
    {
     "data": {
      "image/png": "[encoded data removed]",
      "text/plain": [
       "<Figure size 432x288 with 1 Axes>"
      ]
     },
     "metadata": {
      "needs_background": "light"
     },
     "output_type": "display_data"
    }
   ],
   "source": [
    "sns.histplot(data=remain, x=\"Count\").set_xlabel(\"Number of Planes per Day\")\n",
    "plt.plot()"
   ]
  },
  {
   "cell_type": "code",
   "execution_count": 334,
   "id": "cbc288f8",
   "metadata": {
    "scrolled": true
   },
   "outputs": [
    {
     "data": {
      "image/png": "[encoded data removed]",
      "text/plain": [
       "<Figure size 432x288 with 1 Axes>"
      ]
     },
     "metadata": {
      "needs_background": "light"
     },
     "output_type": "display_data"
    }
   ],
   "source": [
    "plt.plot(remain[\"Count\"].values)\n",
    "plt.show()"
   ]
  },
  {
   "cell_type": "markdown",
   "id": "54440e9c",
   "metadata": {},
   "source": [
    "### The data for before and after the port opened is homogenous, but is still not stationary. This is because the data does not show a constant trend over time"
   ]
  },
  {
   "cell_type": "markdown",
   "id": "21294089",
   "metadata": {},
   "source": [
    "#### Check Independence using a Turning Points Test"
   ]
  },
  {
   "cell_type": "markdown",
   "id": "367b486c",
   "metadata": {},
   "source": [
    "#### Before the pier re-opened"
   ]
  },
  {
   "cell_type": "code",
   "execution_count": 335,
   "id": "9223e9c7",
   "metadata": {},
   "outputs": [],
   "source": [
    "def turning_points_test(x):\n",
    "    dx = np.diff(x)\n",
    "    return np.sum(dx[1:] * dx[:-1] < 0)"
   ]
  },
  {
   "cell_type": "code",
   "execution_count": 336,
   "id": "1d94be2b",
   "metadata": {},
   "outputs": [
    {
     "data": {
      "text/plain": [
       "3"
      ]
     },
     "execution_count": 336,
     "metadata": {},
     "output_type": "execute_result"
    }
   ],
   "source": [
    "turning_points_test(first15[\"Count\"].values)"
   ]
  },
  {
   "cell_type": "code",
   "execution_count": 337,
   "id": "d35aaabe",
   "metadata": {},
   "outputs": [],
   "source": [
    "Mean_R = ((2*len(first15))-4) / 3"
   ]
  },
  {
   "cell_type": "code",
   "execution_count": 338,
   "id": "d1a1fde4",
   "metadata": {},
   "outputs": [],
   "source": [
    "Sigma_R2 = ((16*len(first15))-29) / 90"
   ]
  },
  {
   "cell_type": "code",
   "execution_count": 339,
   "id": "41cfaa16",
   "metadata": {},
   "outputs": [],
   "source": [
    "test_stat = (3 - Mean_R) / math.sqrt(Sigma_R2)"
   ]
  },
  {
   "cell_type": "code",
   "execution_count": 340,
   "id": "4e922819",
   "metadata": {},
   "outputs": [
    {
     "data": {
      "text/plain": [
       "-1.9599639845400545"
      ]
     },
     "execution_count": 340,
     "metadata": {},
     "output_type": "execute_result"
    }
   ],
   "source": [
    "stats.norm.ppf(0.025)"
   ]
  },
  {
   "cell_type": "code",
   "execution_count": 341,
   "id": "705197cc",
   "metadata": {},
   "outputs": [
    {
     "data": {
      "text/plain": [
       "1.959963984540054"
      ]
     },
     "execution_count": 341,
     "metadata": {},
     "output_type": "execute_result"
    }
   ],
   "source": [
    "stats.norm.ppf(0.975)"
   ]
  },
  {
   "cell_type": "code",
   "execution_count": 342,
   "id": "6e8f9a87",
   "metadata": {},
   "outputs": [
    {
     "name": "stdout",
     "output_type": "stream",
     "text": [
      "Reject the null hypothesis that the data is independent\n"
     ]
    }
   ],
   "source": [
    "if test_stat < stats.norm.ppf(0.025) or test_stat > stats.norm.ppf(0.975):\n",
    "    print(\"Reject the null hypothesis that the data is independent\")\n",
    "else:\n",
    "    print(\"Fail to reject the null hypothesis that the data is independent\")"
   ]
  },
  {
   "cell_type": "markdown",
   "id": "e1d63874",
   "metadata": {},
   "source": [
    "#### After the pier re-opened"
   ]
  },
  {
   "cell_type": "code",
   "execution_count": 343,
   "id": "eecc0f14",
   "metadata": {},
   "outputs": [
    {
     "data": {
      "text/plain": [
       "16"
      ]
     },
     "execution_count": 343,
     "metadata": {},
     "output_type": "execute_result"
    }
   ],
   "source": [
    "turning_points_test(remain[\"Count\"].values)"
   ]
  },
  {
   "cell_type": "code",
   "execution_count": 344,
   "id": "aebdf9ff",
   "metadata": {},
   "outputs": [],
   "source": [
    "Mean_R = ((2*len(remain))-4) / 3"
   ]
  },
  {
   "cell_type": "code",
   "execution_count": 345,
   "id": "732535a1",
   "metadata": {},
   "outputs": [],
   "source": [
    "Sigma_R2 = ((16*len(remain))-29) / 90"
   ]
  },
  {
   "cell_type": "code",
   "execution_count": 346,
   "id": "5dd45122",
   "metadata": {},
   "outputs": [],
   "source": [
    "test_stat = (16 - Mean_R) / math.sqrt(Sigma_R2)"
   ]
  },
  {
   "cell_type": "code",
   "execution_count": 347,
   "id": "102f9357",
   "metadata": {},
   "outputs": [
    {
     "name": "stdout",
     "output_type": "stream",
     "text": [
      "Fail to reject the null hypothesis that the data is independent\n"
     ]
    }
   ],
   "source": [
    "if test_stat < stats.norm.ppf(0.025) or test_stat > stats.norm.ppf(0.975):\n",
    "    print(\"Reject the null hypothesis that the data is independent\")\n",
    "else:\n",
    "    print(\"Fail to reject the null hypothesis that the data is independent\")"
   ]
  },
  {
   "cell_type": "markdown",
   "id": "f227d52f",
   "metadata": {},
   "source": [
    "### The turning points test indicated that the data before the pier opened is not independent, but that the data after the pier opened is independent. This could be explained by the sudden increase in planes at the start of the crisis and then the slight decrease as less supplies were needed by the Haitian people. "
   ]
  },
  {
   "cell_type": "markdown",
   "id": "e4b06314",
   "metadata": {},
   "source": [
    "## Manipulation of the HFOCC DF"
   ]
  },
  {
   "cell_type": "markdown",
   "id": "b3ec2677",
   "metadata": {},
   "source": [
    "### HFOCC1 DF: Merging the original HFOCC DF with the Aircraft Capabilities DF on the Aircraft Type column that they share. This adds the average load and capacity for every aircraft that enters the Port-au-Prince airport. "
   ]
  },
  {
   "cell_type": "code",
   "execution_count": 348,
   "id": "72285237",
   "metadata": {
    "scrolled": true
   },
   "outputs": [
    {
     "data": {
      "text/html": [
       "<div>\n",
       "<style scoped>\n",
       "    .dataframe tbody tr th:only-of-type {\n",
       "        vertical-align: middle;\n",
       "    }\n",
       "\n",
       "    .dataframe tbody tr th {\n",
       "        vertical-align: top;\n",
       "    }\n",
       "\n",
       "    .dataframe thead th {\n",
       "        text-align: right;\n",
       "    }\n",
       "</style>\n",
       "<table border=\"1\" class=\"dataframe\">\n",
       "  <thead>\n",
       "    <tr style=\"text-align: right;\">\n",
       "      <th></th>\n",
       "      <th>Request Status</th>\n",
       "      <th>Arrival Date</th>\n",
       "      <th>Arrival Time</th>\n",
       "      <th>Date/Time</th>\n",
       "      <th>Interarrival Time (hours)</th>\n",
       "      <th>Organization</th>\n",
       "      <th>Aircraft Type</th>\n",
       "      <th>Call Sign</th>\n",
       "      <th>Tail #</th>\n",
       "      <th>A/C Size</th>\n",
       "      <th>...</th>\n",
       "      <th># Pax</th>\n",
       "      <th>CNX DATE</th>\n",
       "      <th>CNX TIME</th>\n",
       "      <th>AF Planner Remarks</th>\n",
       "      <th>AF Manager Remarks</th>\n",
       "      <th>ID</th>\n",
       "      <th>Modified</th>\n",
       "      <th>Created</th>\n",
       "      <th>Capacity (sTon)</th>\n",
       "      <th>Avg Load (sTon)</th>\n",
       "    </tr>\n",
       "  </thead>\n",
       "  <tbody>\n",
       "    <tr>\n",
       "      <th>0</th>\n",
       "      <td>Complete</td>\n",
       "      <td>2010-01-16</td>\n",
       "      <td>0400Z</td>\n",
       "      <td>2010-01-16 04:00:00</td>\n",
       "      <td>0.000000</td>\n",
       "      <td>US SENATOR</td>\n",
       "      <td>GULFSTREAM</td>\n",
       "      <td>N450GD</td>\n",
       "      <td>N450GD</td>\n",
       "      <td>N</td>\n",
       "      <td>...</td>\n",
       "      <td>14</td>\n",
       "      <td>NaN</td>\n",
       "      <td>NaN</td>\n",
       "      <td>NaN</td>\n",
       "      <td>NaN</td>\n",
       "      <td>2708</td>\n",
       "      <td>2010-02-06 15:01:10</td>\n",
       "      <td>2010-02-03 09:08:54</td>\n",
       "      <td>0.5</td>\n",
       "      <td>0.39</td>\n",
       "    </tr>\n",
       "    <tr>\n",
       "      <th>1</th>\n",
       "      <td>Complete</td>\n",
       "      <td>2010-01-16</td>\n",
       "      <td>0400Z</td>\n",
       "      <td>2010-01-16 04:00:00</td>\n",
       "      <td>0.000000</td>\n",
       "      <td>US SENATOR</td>\n",
       "      <td>GULFSTREAM</td>\n",
       "      <td>N450GD</td>\n",
       "      <td>N450GD</td>\n",
       "      <td>N</td>\n",
       "      <td>...</td>\n",
       "      <td>14</td>\n",
       "      <td>NaN</td>\n",
       "      <td>NaN</td>\n",
       "      <td>NaN</td>\n",
       "      <td>NaN</td>\n",
       "      <td>2708</td>\n",
       "      <td>2010-02-06 15:01:10</td>\n",
       "      <td>2010-02-03 09:08:54</td>\n",
       "      <td>0.5</td>\n",
       "      <td>0.39</td>\n",
       "    </tr>\n",
       "    <tr>\n",
       "      <th>2</th>\n",
       "      <td>Complete</td>\n",
       "      <td>2010-01-18</td>\n",
       "      <td>0840Z</td>\n",
       "      <td>2010-01-18 08:40:00</td>\n",
       "      <td>2.666667</td>\n",
       "      <td>FAA</td>\n",
       "      <td>GULFSTREAM</td>\n",
       "      <td>N922H</td>\n",
       "      <td>N922H</td>\n",
       "      <td>N</td>\n",
       "      <td>...</td>\n",
       "      <td>UNK</td>\n",
       "      <td>NaN</td>\n",
       "      <td>NaN</td>\n",
       "      <td>NaN</td>\n",
       "      <td>NaN</td>\n",
       "      <td>2957</td>\n",
       "      <td>2010-02-06 15:02:01</td>\n",
       "      <td>2010-02-03 09:08:59</td>\n",
       "      <td>0.5</td>\n",
       "      <td>0.39</td>\n",
       "    </tr>\n",
       "    <tr>\n",
       "      <th>3</th>\n",
       "      <td>Complete</td>\n",
       "      <td>2010-01-18</td>\n",
       "      <td>0840Z</td>\n",
       "      <td>2010-01-18 08:40:00</td>\n",
       "      <td>2.666667</td>\n",
       "      <td>FAA</td>\n",
       "      <td>GULFSTREAM</td>\n",
       "      <td>N922H</td>\n",
       "      <td>N922H</td>\n",
       "      <td>N</td>\n",
       "      <td>...</td>\n",
       "      <td>UNK</td>\n",
       "      <td>NaN</td>\n",
       "      <td>NaN</td>\n",
       "      <td>NaN</td>\n",
       "      <td>NaN</td>\n",
       "      <td>2957</td>\n",
       "      <td>2010-02-06 15:02:01</td>\n",
       "      <td>2010-02-03 09:08:59</td>\n",
       "      <td>0.5</td>\n",
       "      <td>0.39</td>\n",
       "    </tr>\n",
       "    <tr>\n",
       "      <th>4</th>\n",
       "      <td>Complete</td>\n",
       "      <td>2010-01-23</td>\n",
       "      <td>2000Z</td>\n",
       "      <td>2010-01-23 20:00:00</td>\n",
       "      <td>3.000000</td>\n",
       "      <td>PHOENIX AIR GROUP</td>\n",
       "      <td>GULFSTREAM</td>\n",
       "      <td>PHOENIX 173</td>\n",
       "      <td>N173PA</td>\n",
       "      <td>N</td>\n",
       "      <td>...</td>\n",
       "      <td>UNK</td>\n",
       "      <td>NaN</td>\n",
       "      <td>NaN</td>\n",
       "      <td>NaN</td>\n",
       "      <td>NaN</td>\n",
       "      <td>3699</td>\n",
       "      <td>2010-02-06 15:01:15</td>\n",
       "      <td>2010-02-03 09:09:14</td>\n",
       "      <td>0.5</td>\n",
       "      <td>0.39</td>\n",
       "    </tr>\n",
       "    <tr>\n",
       "      <th>...</th>\n",
       "      <td>...</td>\n",
       "      <td>...</td>\n",
       "      <td>...</td>\n",
       "      <td>...</td>\n",
       "      <td>...</td>\n",
       "      <td>...</td>\n",
       "      <td>...</td>\n",
       "      <td>...</td>\n",
       "      <td>...</td>\n",
       "      <td>...</td>\n",
       "      <td>...</td>\n",
       "      <td>...</td>\n",
       "      <td>...</td>\n",
       "      <td>...</td>\n",
       "      <td>...</td>\n",
       "      <td>...</td>\n",
       "      <td>...</td>\n",
       "      <td>...</td>\n",
       "      <td>...</td>\n",
       "      <td>...</td>\n",
       "      <td>...</td>\n",
       "    </tr>\n",
       "    <tr>\n",
       "      <th>4266</th>\n",
       "      <td>Complete</td>\n",
       "      <td>2010-03-01</td>\n",
       "      <td>1430Z</td>\n",
       "      <td>2010-03-01 14:30:00</td>\n",
       "      <td>16.250000</td>\n",
       "      <td>USVI HAITIAN RELIEF</td>\n",
       "      <td>BEECH55G</td>\n",
       "      <td>N621G</td>\n",
       "      <td>N621G</td>\n",
       "      <td>S</td>\n",
       "      <td>...</td>\n",
       "      <td>NaN</td>\n",
       "      <td>NaN</td>\n",
       "      <td>NaN</td>\n",
       "      <td>NaN</td>\n",
       "      <td>NaN</td>\n",
       "      <td>8385</td>\n",
       "      <td>2010-03-01 10:52:14</td>\n",
       "      <td>2010-02-27 15:29:33</td>\n",
       "      <td>0.5</td>\n",
       "      <td>0.39</td>\n",
       "    </tr>\n",
       "    <tr>\n",
       "      <th>4267</th>\n",
       "      <td>Complete</td>\n",
       "      <td>2010-01-21</td>\n",
       "      <td>2140Z</td>\n",
       "      <td>2010-01-21 21:40:00</td>\n",
       "      <td>4.666667</td>\n",
       "      <td>EMSI</td>\n",
       "      <td>DC12</td>\n",
       "      <td>N654JC</td>\n",
       "      <td>N654JC</td>\n",
       "      <td>W</td>\n",
       "      <td>...</td>\n",
       "      <td>UNK</td>\n",
       "      <td>NaN</td>\n",
       "      <td>NaN</td>\n",
       "      <td>NaN</td>\n",
       "      <td>NaN</td>\n",
       "      <td>3457</td>\n",
       "      <td>2010-02-06 15:14:30</td>\n",
       "      <td>2010-02-03 09:09:09</td>\n",
       "      <td>52.0</td>\n",
       "      <td>40.56</td>\n",
       "    </tr>\n",
       "    <tr>\n",
       "      <th>4268</th>\n",
       "      <td>Complete</td>\n",
       "      <td>2010-01-27</td>\n",
       "      <td>1400Z</td>\n",
       "      <td>2010-01-27 14:00:00</td>\n",
       "      <td>26.000000</td>\n",
       "      <td>ELAL</td>\n",
       "      <td>B777</td>\n",
       "      <td>ELY2601</td>\n",
       "      <td>4XECD</td>\n",
       "      <td>W</td>\n",
       "      <td>...</td>\n",
       "      <td>20</td>\n",
       "      <td>NaN</td>\n",
       "      <td>NaN</td>\n",
       "      <td>NaN</td>\n",
       "      <td>NaN</td>\n",
       "      <td>4068</td>\n",
       "      <td>2010-02-06 16:51:24</td>\n",
       "      <td>2010-02-03 09:09:21</td>\n",
       "      <td>119.0</td>\n",
       "      <td>92.82</td>\n",
       "    </tr>\n",
       "    <tr>\n",
       "      <th>4269</th>\n",
       "      <td>Complete</td>\n",
       "      <td>2010-02-27</td>\n",
       "      <td>1600Z</td>\n",
       "      <td>2010-02-27 16:00:00</td>\n",
       "      <td>4.000000</td>\n",
       "      <td>MINUSTAH (UN)</td>\n",
       "      <td>B777</td>\n",
       "      <td>KE9073</td>\n",
       "      <td>UNKNOWN</td>\n",
       "      <td>W</td>\n",
       "      <td>...</td>\n",
       "      <td>310</td>\n",
       "      <td>NaN</td>\n",
       "      <td>NaN</td>\n",
       "      <td>NaN</td>\n",
       "      <td>NaN</td>\n",
       "      <td>7302</td>\n",
       "      <td>2010-02-27 14:38:15</td>\n",
       "      <td>2010-02-09 17:24:18</td>\n",
       "      <td>119.0</td>\n",
       "      <td>92.82</td>\n",
       "    </tr>\n",
       "    <tr>\n",
       "      <th>4270</th>\n",
       "      <td>Complete</td>\n",
       "      <td>2010-02-16</td>\n",
       "      <td>1200Z</td>\n",
       "      <td>2010-02-16 12:00:00</td>\n",
       "      <td>20.000000</td>\n",
       "      <td>CANADIAN DEPT OF FOREIGN AFFAIRS</td>\n",
       "      <td>AB310</td>\n",
       "      <td>TSC64</td>\n",
       "      <td>CGVAT</td>\n",
       "      <td>W</td>\n",
       "      <td>...</td>\n",
       "      <td>10</td>\n",
       "      <td>NaN</td>\n",
       "      <td>NaN</td>\n",
       "      <td>NaN</td>\n",
       "      <td>NaN</td>\n",
       "      <td>6522</td>\n",
       "      <td>2010-02-16 10:33:56</td>\n",
       "      <td>2010-02-03 18:56:15</td>\n",
       "      <td>168.0</td>\n",
       "      <td>131.04</td>\n",
       "    </tr>\n",
       "  </tbody>\n",
       "</table>\n",
       "<p>4271 rows × 25 columns</p>\n",
       "</div>"
      ],
      "text/plain": [
       "     Request Status Arrival Date Arrival Time           Date/Time  \\\n",
       "0          Complete   2010-01-16        0400Z 2010-01-16 04:00:00   \n",
       "1          Complete   2010-01-16        0400Z 2010-01-16 04:00:00   \n",
       "2          Complete   2010-01-18        0840Z 2010-01-18 08:40:00   \n",
       "3          Complete   2010-01-18        0840Z 2010-01-18 08:40:00   \n",
       "4          Complete   2010-01-23        2000Z 2010-01-23 20:00:00   \n",
       "...             ...          ...          ...                 ...   \n",
       "4266       Complete   2010-03-01        1430Z 2010-03-01 14:30:00   \n",
       "4267       Complete   2010-01-21        2140Z 2010-01-21 21:40:00   \n",
       "4268       Complete   2010-01-27        1400Z 2010-01-27 14:00:00   \n",
       "4269       Complete   2010-02-27        1600Z 2010-02-27 16:00:00   \n",
       "4270       Complete   2010-02-16        1200Z 2010-02-16 12:00:00   \n",
       "\n",
       "      Interarrival Time (hours)                      Organization  \\\n",
       "0                      0.000000                        US SENATOR   \n",
       "1                      0.000000                        US SENATOR   \n",
       "2                      2.666667                               FAA   \n",
       "3                      2.666667                               FAA   \n",
       "4                      3.000000                 PHOENIX AIR GROUP   \n",
       "...                         ...                               ...   \n",
       "4266                  16.250000               USVI HAITIAN RELIEF   \n",
       "4267                   4.666667                              EMSI   \n",
       "4268                  26.000000                              ELAL   \n",
       "4269                   4.000000                     MINUSTAH (UN)   \n",
       "4270                  20.000000  CANADIAN DEPT OF FOREIGN AFFAIRS   \n",
       "\n",
       "     Aircraft Type    Call Sign   Tail # A/C Size  ... # Pax CNX DATE  \\\n",
       "0       GULFSTREAM       N450GD   N450GD        N  ...    14      NaN   \n",
       "1       GULFSTREAM       N450GD   N450GD        N  ...    14      NaN   \n",
       "2       GULFSTREAM        N922H    N922H        N  ...   UNK      NaN   \n",
       "3       GULFSTREAM        N922H    N922H        N  ...   UNK      NaN   \n",
       "4       GULFSTREAM  PHOENIX 173   N173PA        N  ...   UNK      NaN   \n",
       "...            ...          ...      ...      ...  ...   ...      ...   \n",
       "4266      BEECH55G        N621G    N621G        S  ...   NaN      NaN   \n",
       "4267          DC12       N654JC   N654JC        W  ...   UNK      NaN   \n",
       "4268          B777      ELY2601    4XECD        W  ...    20      NaN   \n",
       "4269          B777       KE9073  UNKNOWN        W  ...   310      NaN   \n",
       "4270         AB310        TSC64    CGVAT        W  ...    10      NaN   \n",
       "\n",
       "      CNX TIME AF Planner Remarks AF Manager Remarks    ID  \\\n",
       "0          NaN                NaN                NaN  2708   \n",
       "1          NaN                NaN                NaN  2708   \n",
       "2          NaN                NaN                NaN  2957   \n",
       "3          NaN                NaN                NaN  2957   \n",
       "4          NaN                NaN                NaN  3699   \n",
       "...        ...                ...                ...   ...   \n",
       "4266       NaN                NaN                NaN  8385   \n",
       "4267       NaN                NaN                NaN  3457   \n",
       "4268       NaN                NaN                NaN  4068   \n",
       "4269       NaN                NaN                NaN  7302   \n",
       "4270       NaN                NaN                NaN  6522   \n",
       "\n",
       "                Modified             Created Capacity (sTon) Avg Load (sTon)  \n",
       "0    2010-02-06 15:01:10 2010-02-03 09:08:54             0.5            0.39  \n",
       "1    2010-02-06 15:01:10 2010-02-03 09:08:54             0.5            0.39  \n",
       "2    2010-02-06 15:02:01 2010-02-03 09:08:59             0.5            0.39  \n",
       "3    2010-02-06 15:02:01 2010-02-03 09:08:59             0.5            0.39  \n",
       "4    2010-02-06 15:01:15 2010-02-03 09:09:14             0.5            0.39  \n",
       "...                  ...                 ...             ...             ...  \n",
       "4266 2010-03-01 10:52:14 2010-02-27 15:29:33             0.5            0.39  \n",
       "4267 2010-02-06 15:14:30 2010-02-03 09:09:09            52.0           40.56  \n",
       "4268 2010-02-06 16:51:24 2010-02-03 09:09:21           119.0           92.82  \n",
       "4269 2010-02-27 14:38:15 2010-02-09 17:24:18           119.0           92.82  \n",
       "4270 2010-02-16 10:33:56 2010-02-03 18:56:15           168.0          131.04  \n",
       "\n",
       "[4271 rows x 25 columns]"
      ]
     },
     "execution_count": 348,
     "metadata": {},
     "output_type": "execute_result"
    }
   ],
   "source": [
    "hfocc1 = pd.merge(hfocc, aircraft_capabilities, on=\"Aircraft Type\")\n",
    "hfocc1"
   ]
  },
  {
   "cell_type": "code",
   "execution_count": 349,
   "id": "abcb3b89",
   "metadata": {},
   "outputs": [
    {
     "data": {
      "text/plain": [
       "3187"
      ]
     },
     "execution_count": 349,
     "metadata": {},
     "output_type": "execute_result"
    }
   ],
   "source": [
    "# Dropping duplicate observations that show up due to merging the dataframe\n",
    "hfocc2 = hfocc1.drop_duplicates()\n",
    "len(hfocc2)"
   ]
  },
  {
   "cell_type": "markdown",
   "id": "2fdc0673",
   "metadata": {},
   "source": [
    "## Splitting HFOCC DF Into Pre & Post Pier Opening"
   ]
  },
  {
   "cell_type": "code",
   "execution_count": 350,
   "id": "f41dd190",
   "metadata": {},
   "outputs": [
    {
     "data": {
      "text/html": [
       "<div>\n",
       "<style scoped>\n",
       "    .dataframe tbody tr th:only-of-type {\n",
       "        vertical-align: middle;\n",
       "    }\n",
       "\n",
       "    .dataframe tbody tr th {\n",
       "        vertical-align: top;\n",
       "    }\n",
       "\n",
       "    .dataframe thead th {\n",
       "        text-align: right;\n",
       "    }\n",
       "</style>\n",
       "<table border=\"1\" class=\"dataframe\">\n",
       "  <thead>\n",
       "    <tr style=\"text-align: right;\">\n",
       "      <th></th>\n",
       "      <th>Request Status</th>\n",
       "      <th>Arrival Date</th>\n",
       "      <th>Arrival Time</th>\n",
       "      <th>Date/Time</th>\n",
       "      <th>Interarrival Time (hours)</th>\n",
       "      <th>Organization</th>\n",
       "      <th>Aircraft Type</th>\n",
       "      <th>Call Sign</th>\n",
       "      <th>Tail #</th>\n",
       "      <th>A/C Size</th>\n",
       "      <th>...</th>\n",
       "      <th># Pax</th>\n",
       "      <th>CNX DATE</th>\n",
       "      <th>CNX TIME</th>\n",
       "      <th>AF Planner Remarks</th>\n",
       "      <th>AF Manager Remarks</th>\n",
       "      <th>ID</th>\n",
       "      <th>Modified</th>\n",
       "      <th>Created</th>\n",
       "      <th>Capacity (sTon)</th>\n",
       "      <th>Avg Load (sTon)</th>\n",
       "    </tr>\n",
       "  </thead>\n",
       "  <tbody>\n",
       "    <tr>\n",
       "      <th>0</th>\n",
       "      <td>Complete</td>\n",
       "      <td>2010-01-16</td>\n",
       "      <td>0400Z</td>\n",
       "      <td>2010-01-16 04:00:00</td>\n",
       "      <td>0.000000</td>\n",
       "      <td>US SENATOR</td>\n",
       "      <td>GULFSTREAM</td>\n",
       "      <td>N450GD</td>\n",
       "      <td>N450GD</td>\n",
       "      <td>N</td>\n",
       "      <td>...</td>\n",
       "      <td>14</td>\n",
       "      <td>NaN</td>\n",
       "      <td>NaN</td>\n",
       "      <td>NaN</td>\n",
       "      <td>NaN</td>\n",
       "      <td>2708</td>\n",
       "      <td>2010-02-06 15:01:10</td>\n",
       "      <td>2010-02-03 09:08:54</td>\n",
       "      <td>0.5</td>\n",
       "      <td>0.39</td>\n",
       "    </tr>\n",
       "    <tr>\n",
       "      <th>2</th>\n",
       "      <td>Complete</td>\n",
       "      <td>2010-01-18</td>\n",
       "      <td>0840Z</td>\n",
       "      <td>2010-01-18 08:40:00</td>\n",
       "      <td>2.666667</td>\n",
       "      <td>FAA</td>\n",
       "      <td>GULFSTREAM</td>\n",
       "      <td>N922H</td>\n",
       "      <td>N922H</td>\n",
       "      <td>N</td>\n",
       "      <td>...</td>\n",
       "      <td>UNK</td>\n",
       "      <td>NaN</td>\n",
       "      <td>NaN</td>\n",
       "      <td>NaN</td>\n",
       "      <td>NaN</td>\n",
       "      <td>2957</td>\n",
       "      <td>2010-02-06 15:02:01</td>\n",
       "      <td>2010-02-03 09:08:59</td>\n",
       "      <td>0.5</td>\n",
       "      <td>0.39</td>\n",
       "    </tr>\n",
       "    <tr>\n",
       "      <th>4</th>\n",
       "      <td>Complete</td>\n",
       "      <td>2010-01-23</td>\n",
       "      <td>2000Z</td>\n",
       "      <td>2010-01-23 20:00:00</td>\n",
       "      <td>3.000000</td>\n",
       "      <td>PHOENIX AIR GROUP</td>\n",
       "      <td>GULFSTREAM</td>\n",
       "      <td>PHOENIX 173</td>\n",
       "      <td>N173PA</td>\n",
       "      <td>N</td>\n",
       "      <td>...</td>\n",
       "      <td>UNK</td>\n",
       "      <td>NaN</td>\n",
       "      <td>NaN</td>\n",
       "      <td>NaN</td>\n",
       "      <td>NaN</td>\n",
       "      <td>3699</td>\n",
       "      <td>2010-02-06 15:01:15</td>\n",
       "      <td>2010-02-03 09:09:14</td>\n",
       "      <td>0.5</td>\n",
       "      <td>0.39</td>\n",
       "    </tr>\n",
       "    <tr>\n",
       "      <th>6</th>\n",
       "      <td>Complete</td>\n",
       "      <td>2010-01-24</td>\n",
       "      <td>2000Z</td>\n",
       "      <td>2010-01-24 20:00:00</td>\n",
       "      <td>5.666667</td>\n",
       "      <td>PHOENIX AIR GROUP</td>\n",
       "      <td>GULFSTREAM</td>\n",
       "      <td>PHOENIX 173</td>\n",
       "      <td>N173PA</td>\n",
       "      <td>N</td>\n",
       "      <td>...</td>\n",
       "      <td>UNK</td>\n",
       "      <td>NaN</td>\n",
       "      <td>NaN</td>\n",
       "      <td>NaN</td>\n",
       "      <td>NaN</td>\n",
       "      <td>3811</td>\n",
       "      <td>2010-02-06 15:01:15</td>\n",
       "      <td>2010-02-03 09:09:16</td>\n",
       "      <td>0.5</td>\n",
       "      <td>0.39</td>\n",
       "    </tr>\n",
       "    <tr>\n",
       "      <th>24</th>\n",
       "      <td>Complete</td>\n",
       "      <td>2010-01-16</td>\n",
       "      <td>1700Z</td>\n",
       "      <td>2010-01-16 17:00:00</td>\n",
       "      <td>0.000000</td>\n",
       "      <td>MEDSHARE</td>\n",
       "      <td>GULFSTREAM</td>\n",
       "      <td>N954L</td>\n",
       "      <td>Unknown</td>\n",
       "      <td>N</td>\n",
       "      <td>...</td>\n",
       "      <td>UNK</td>\n",
       "      <td>NaN</td>\n",
       "      <td>NaN</td>\n",
       "      <td>NaN</td>\n",
       "      <td>NaN</td>\n",
       "      <td>2736</td>\n",
       "      <td>2010-02-07 02:35:01</td>\n",
       "      <td>2010-02-03 09:08:55</td>\n",
       "      <td>0.5</td>\n",
       "      <td>0.39</td>\n",
       "    </tr>\n",
       "  </tbody>\n",
       "</table>\n",
       "<p>5 rows × 25 columns</p>\n",
       "</div>"
      ],
      "text/plain": [
       "   Request Status Arrival Date Arrival Time           Date/Time  \\\n",
       "0        Complete   2010-01-16        0400Z 2010-01-16 04:00:00   \n",
       "2        Complete   2010-01-18        0840Z 2010-01-18 08:40:00   \n",
       "4        Complete   2010-01-23        2000Z 2010-01-23 20:00:00   \n",
       "6        Complete   2010-01-24        2000Z 2010-01-24 20:00:00   \n",
       "24       Complete   2010-01-16        1700Z 2010-01-16 17:00:00   \n",
       "\n",
       "    Interarrival Time (hours)       Organization Aircraft Type    Call Sign  \\\n",
       "0                    0.000000         US SENATOR    GULFSTREAM       N450GD   \n",
       "2                    2.666667                FAA    GULFSTREAM        N922H   \n",
       "4                    3.000000  PHOENIX AIR GROUP    GULFSTREAM  PHOENIX 173   \n",
       "6                    5.666667  PHOENIX AIR GROUP    GULFSTREAM  PHOENIX 173   \n",
       "24                   0.000000           MEDSHARE    GULFSTREAM        N954L   \n",
       "\n",
       "     Tail # A/C Size  ... # Pax CNX DATE  CNX TIME AF Planner Remarks  \\\n",
       "0    N450GD        N  ...    14      NaN       NaN                NaN   \n",
       "2     N922H        N  ...   UNK      NaN       NaN                NaN   \n",
       "4    N173PA        N  ...   UNK      NaN       NaN                NaN   \n",
       "6    N173PA        N  ...   UNK      NaN       NaN                NaN   \n",
       "24  Unknown        N  ...   UNK      NaN       NaN                NaN   \n",
       "\n",
       "   AF Manager Remarks    ID            Modified             Created  \\\n",
       "0                 NaN  2708 2010-02-06 15:01:10 2010-02-03 09:08:54   \n",
       "2                 NaN  2957 2010-02-06 15:02:01 2010-02-03 09:08:59   \n",
       "4                 NaN  3699 2010-02-06 15:01:15 2010-02-03 09:09:14   \n",
       "6                 NaN  3811 2010-02-06 15:01:15 2010-02-03 09:09:16   \n",
       "24                NaN  2736 2010-02-07 02:35:01 2010-02-03 09:08:55   \n",
       "\n",
       "   Capacity (sTon) Avg Load (sTon)  \n",
       "0              0.5            0.39  \n",
       "2              0.5            0.39  \n",
       "4              0.5            0.39  \n",
       "6              0.5            0.39  \n",
       "24             0.5            0.39  \n",
       "\n",
       "[5 rows x 25 columns]"
      ]
     },
     "execution_count": 350,
     "metadata": {},
     "output_type": "execute_result"
    }
   ],
   "source": [
    "Before_Pier = hfocc2[hfocc2[\"Arrival Date\"] < \"2010-01-28\"]\n",
    "Before_Pier.head()"
   ]
  },
  {
   "cell_type": "code",
   "execution_count": 351,
   "id": "c6583ec2",
   "metadata": {},
   "outputs": [
    {
     "data": {
      "text/html": [
       "<div>\n",
       "<style scoped>\n",
       "    .dataframe tbody tr th:only-of-type {\n",
       "        vertical-align: middle;\n",
       "    }\n",
       "\n",
       "    .dataframe tbody tr th {\n",
       "        vertical-align: top;\n",
       "    }\n",
       "\n",
       "    .dataframe thead th {\n",
       "        text-align: right;\n",
       "    }\n",
       "</style>\n",
       "<table border=\"1\" class=\"dataframe\">\n",
       "  <thead>\n",
       "    <tr style=\"text-align: right;\">\n",
       "      <th></th>\n",
       "      <th>Request Status</th>\n",
       "      <th>Arrival Date</th>\n",
       "      <th>Arrival Time</th>\n",
       "      <th>Date/Time</th>\n",
       "      <th>Interarrival Time (hours)</th>\n",
       "      <th>Organization</th>\n",
       "      <th>Aircraft Type</th>\n",
       "      <th>Call Sign</th>\n",
       "      <th>Tail #</th>\n",
       "      <th>A/C Size</th>\n",
       "      <th>...</th>\n",
       "      <th># Pax</th>\n",
       "      <th>CNX DATE</th>\n",
       "      <th>CNX TIME</th>\n",
       "      <th>AF Planner Remarks</th>\n",
       "      <th>AF Manager Remarks</th>\n",
       "      <th>ID</th>\n",
       "      <th>Modified</th>\n",
       "      <th>Created</th>\n",
       "      <th>Capacity (sTon)</th>\n",
       "      <th>Avg Load (sTon)</th>\n",
       "    </tr>\n",
       "  </thead>\n",
       "  <tbody>\n",
       "    <tr>\n",
       "      <th>8</th>\n",
       "      <td>Complete</td>\n",
       "      <td>2010-01-30</td>\n",
       "      <td>0215Z</td>\n",
       "      <td>2010-01-30 02:15:00</td>\n",
       "      <td>1.50</td>\n",
       "      <td>CDC</td>\n",
       "      <td>GULFSTREAM</td>\n",
       "      <td>PHOENIX 173</td>\n",
       "      <td>N173PA</td>\n",
       "      <td>N</td>\n",
       "      <td>...</td>\n",
       "      <td>UNK</td>\n",
       "      <td>NaN</td>\n",
       "      <td>NaN</td>\n",
       "      <td>NaN</td>\n",
       "      <td>NaN</td>\n",
       "      <td>4325</td>\n",
       "      <td>2010-02-06 15:01:29</td>\n",
       "      <td>2010-02-03 09:09:26</td>\n",
       "      <td>0.5</td>\n",
       "      <td>0.39</td>\n",
       "    </tr>\n",
       "    <tr>\n",
       "      <th>10</th>\n",
       "      <td>Complete</td>\n",
       "      <td>2010-01-31</td>\n",
       "      <td>2015Z</td>\n",
       "      <td>2010-01-31 20:15:00</td>\n",
       "      <td>7.50</td>\n",
       "      <td>PHOENIX AIR GROUP</td>\n",
       "      <td>GULFSTREAM</td>\n",
       "      <td>PHOENIX 173</td>\n",
       "      <td>N173PA</td>\n",
       "      <td>N</td>\n",
       "      <td>...</td>\n",
       "      <td>UNK</td>\n",
       "      <td>NaN</td>\n",
       "      <td>NaN</td>\n",
       "      <td>NaN</td>\n",
       "      <td>NaN</td>\n",
       "      <td>4477</td>\n",
       "      <td>2010-02-06 15:01:15</td>\n",
       "      <td>2010-02-03 09:09:30</td>\n",
       "      <td>0.5</td>\n",
       "      <td>0.39</td>\n",
       "    </tr>\n",
       "    <tr>\n",
       "      <th>12</th>\n",
       "      <td>Complete</td>\n",
       "      <td>2010-02-04</td>\n",
       "      <td>2230Z</td>\n",
       "      <td>2010-02-04 22:30:00</td>\n",
       "      <td>2.25</td>\n",
       "      <td>SKY LIMO AIR CHARTER</td>\n",
       "      <td>GULFSTREAM</td>\n",
       "      <td>212BA</td>\n",
       "      <td>212BA</td>\n",
       "      <td>N</td>\n",
       "      <td>...</td>\n",
       "      <td>10</td>\n",
       "      <td>NaN</td>\n",
       "      <td>NaN</td>\n",
       "      <td>Duplicate of 3818</td>\n",
       "      <td>NaN</td>\n",
       "      <td>4810</td>\n",
       "      <td>2010-02-12 08:28:24</td>\n",
       "      <td>2010-02-03 09:09:36</td>\n",
       "      <td>0.5</td>\n",
       "      <td>0.39</td>\n",
       "    </tr>\n",
       "    <tr>\n",
       "      <th>14</th>\n",
       "      <td>Complete</td>\n",
       "      <td>2010-02-07</td>\n",
       "      <td>1600Z</td>\n",
       "      <td>2010-02-07 16:00:00</td>\n",
       "      <td>5.25</td>\n",
       "      <td>PHOENIX AIR GROUP</td>\n",
       "      <td>GULFSTREAM</td>\n",
       "      <td>PHA173</td>\n",
       "      <td>N173PA</td>\n",
       "      <td>N</td>\n",
       "      <td>...</td>\n",
       "      <td>UNK</td>\n",
       "      <td>NaN</td>\n",
       "      <td>NaN</td>\n",
       "      <td>NaN</td>\n",
       "      <td>NaN</td>\n",
       "      <td>4993</td>\n",
       "      <td>2010-02-11 13:24:53</td>\n",
       "      <td>2010-02-03 09:09:40</td>\n",
       "      <td>0.5</td>\n",
       "      <td>0.39</td>\n",
       "    </tr>\n",
       "    <tr>\n",
       "      <th>16</th>\n",
       "      <td>Complete</td>\n",
       "      <td>2010-02-11</td>\n",
       "      <td>2045Z</td>\n",
       "      <td>2010-02-11 20:45:00</td>\n",
       "      <td>29.50</td>\n",
       "      <td>CDC</td>\n",
       "      <td>GULFSTREAM</td>\n",
       "      <td>PHA173</td>\n",
       "      <td>N173PA</td>\n",
       "      <td>N</td>\n",
       "      <td>...</td>\n",
       "      <td>12</td>\n",
       "      <td>NaN</td>\n",
       "      <td>NaN</td>\n",
       "      <td>NaN</td>\n",
       "      <td>NaN</td>\n",
       "      <td>5153</td>\n",
       "      <td>2010-02-11 15:47:15</td>\n",
       "      <td>2010-02-03 09:09:43</td>\n",
       "      <td>0.5</td>\n",
       "      <td>0.39</td>\n",
       "    </tr>\n",
       "  </tbody>\n",
       "</table>\n",
       "<p>5 rows × 25 columns</p>\n",
       "</div>"
      ],
      "text/plain": [
       "   Request Status Arrival Date Arrival Time           Date/Time  \\\n",
       "8        Complete   2010-01-30        0215Z 2010-01-30 02:15:00   \n",
       "10       Complete   2010-01-31        2015Z 2010-01-31 20:15:00   \n",
       "12       Complete   2010-02-04        2230Z 2010-02-04 22:30:00   \n",
       "14       Complete   2010-02-07        1600Z 2010-02-07 16:00:00   \n",
       "16       Complete   2010-02-11        2045Z 2010-02-11 20:45:00   \n",
       "\n",
       "    Interarrival Time (hours)          Organization Aircraft Type  \\\n",
       "8                        1.50                   CDC    GULFSTREAM   \n",
       "10                       7.50     PHOENIX AIR GROUP    GULFSTREAM   \n",
       "12                       2.25  SKY LIMO AIR CHARTER    GULFSTREAM   \n",
       "14                       5.25     PHOENIX AIR GROUP    GULFSTREAM   \n",
       "16                      29.50                   CDC    GULFSTREAM   \n",
       "\n",
       "      Call Sign  Tail # A/C Size  ... # Pax CNX DATE  CNX TIME  \\\n",
       "8   PHOENIX 173  N173PA        N  ...   UNK      NaN       NaN   \n",
       "10  PHOENIX 173  N173PA        N  ...   UNK      NaN       NaN   \n",
       "12        212BA   212BA        N  ...    10      NaN       NaN   \n",
       "14       PHA173  N173PA        N  ...   UNK      NaN       NaN   \n",
       "16       PHA173  N173PA        N  ...    12      NaN       NaN   \n",
       "\n",
       "   AF Planner Remarks AF Manager Remarks    ID            Modified  \\\n",
       "8                 NaN                NaN  4325 2010-02-06 15:01:29   \n",
       "10                NaN                NaN  4477 2010-02-06 15:01:15   \n",
       "12  Duplicate of 3818                NaN  4810 2010-02-12 08:28:24   \n",
       "14                NaN                NaN  4993 2010-02-11 13:24:53   \n",
       "16                NaN                NaN  5153 2010-02-11 15:47:15   \n",
       "\n",
       "               Created Capacity (sTon) Avg Load (sTon)  \n",
       "8  2010-02-03 09:09:26             0.5            0.39  \n",
       "10 2010-02-03 09:09:30             0.5            0.39  \n",
       "12 2010-02-03 09:09:36             0.5            0.39  \n",
       "14 2010-02-03 09:09:40             0.5            0.39  \n",
       "16 2010-02-03 09:09:43             0.5            0.39  \n",
       "\n",
       "[5 rows x 25 columns]"
      ]
     },
     "execution_count": 351,
     "metadata": {},
     "output_type": "execute_result"
    }
   ],
   "source": [
    "After_Pier = hfocc2[hfocc2[\"Arrival Date\"] >= \"2010-01-28\"]\n",
    "After_Pier.head()"
   ]
  },
  {
   "cell_type": "markdown",
   "id": "d1fbf6fd",
   "metadata": {},
   "source": [
    "### HFOCC3 DF: Gets rid of all of the small planes from the HFOCC2 DF. This will help when calculating the distributions for the primary offloading ramps"
   ]
  },
  {
   "cell_type": "code",
   "execution_count": 352,
   "id": "20db69a4",
   "metadata": {},
   "outputs": [],
   "source": [
    "hfocc3_before = Before_Pier[Before_Pier['A/C Size'] != \"S\"]"
   ]
  },
  {
   "cell_type": "code",
   "execution_count": 353,
   "id": "8b48cf5b",
   "metadata": {},
   "outputs": [],
   "source": [
    "hfocc3_after = After_Pier[After_Pier['A/C Size'] != \"S\"]"
   ]
  },
  {
   "cell_type": "markdown",
   "id": "a22a4ddf",
   "metadata": {},
   "source": [
    "### HFOCC TIDY DF: Grabs important variables from HFOCC Dataframes for the whole simulation, and then before and after the pier opened"
   ]
  },
  {
   "cell_type": "code",
   "execution_count": 354,
   "id": "9cb261b0",
   "metadata": {},
   "outputs": [
    {
     "data": {
      "text/html": [
       "<div>\n",
       "<style scoped>\n",
       "    .dataframe tbody tr th:only-of-type {\n",
       "        vertical-align: middle;\n",
       "    }\n",
       "\n",
       "    .dataframe tbody tr th {\n",
       "        vertical-align: top;\n",
       "    }\n",
       "\n",
       "    .dataframe thead th {\n",
       "        text-align: right;\n",
       "    }\n",
       "</style>\n",
       "<table border=\"1\" class=\"dataframe\">\n",
       "  <thead>\n",
       "    <tr style=\"text-align: right;\">\n",
       "      <th></th>\n",
       "      <th>Request Status</th>\n",
       "      <th>Arrival Date</th>\n",
       "      <th>Interarrival Time (hours)</th>\n",
       "      <th>Aircraft Type</th>\n",
       "      <th>A/C Size</th>\n",
       "      <th>Affiliation</th>\n",
       "      <th>Avg Load (sTon)</th>\n",
       "    </tr>\n",
       "  </thead>\n",
       "  <tbody>\n",
       "    <tr>\n",
       "      <th>0</th>\n",
       "      <td>Complete</td>\n",
       "      <td>2010-01-16</td>\n",
       "      <td>0.000000</td>\n",
       "      <td>GULFSTREAM</td>\n",
       "      <td>N</td>\n",
       "      <td>GOV</td>\n",
       "      <td>0.39</td>\n",
       "    </tr>\n",
       "    <tr>\n",
       "      <th>2</th>\n",
       "      <td>Complete</td>\n",
       "      <td>2010-01-18</td>\n",
       "      <td>2.666667</td>\n",
       "      <td>GULFSTREAM</td>\n",
       "      <td>N</td>\n",
       "      <td>GOV</td>\n",
       "      <td>0.39</td>\n",
       "    </tr>\n",
       "    <tr>\n",
       "      <th>4</th>\n",
       "      <td>Complete</td>\n",
       "      <td>2010-01-23</td>\n",
       "      <td>3.000000</td>\n",
       "      <td>GULFSTREAM</td>\n",
       "      <td>N</td>\n",
       "      <td>GOV</td>\n",
       "      <td>0.39</td>\n",
       "    </tr>\n",
       "    <tr>\n",
       "      <th>6</th>\n",
       "      <td>Complete</td>\n",
       "      <td>2010-01-24</td>\n",
       "      <td>5.666667</td>\n",
       "      <td>GULFSTREAM</td>\n",
       "      <td>N</td>\n",
       "      <td>GOV</td>\n",
       "      <td>0.39</td>\n",
       "    </tr>\n",
       "    <tr>\n",
       "      <th>8</th>\n",
       "      <td>Complete</td>\n",
       "      <td>2010-01-30</td>\n",
       "      <td>1.500000</td>\n",
       "      <td>GULFSTREAM</td>\n",
       "      <td>N</td>\n",
       "      <td>GOV</td>\n",
       "      <td>0.39</td>\n",
       "    </tr>\n",
       "  </tbody>\n",
       "</table>\n",
       "</div>"
      ],
      "text/plain": [
       "  Request Status Arrival Date  Interarrival Time (hours) Aircraft Type  \\\n",
       "0       Complete   2010-01-16                   0.000000    GULFSTREAM   \n",
       "2       Complete   2010-01-18                   2.666667    GULFSTREAM   \n",
       "4       Complete   2010-01-23                   3.000000    GULFSTREAM   \n",
       "6       Complete   2010-01-24                   5.666667    GULFSTREAM   \n",
       "8       Complete   2010-01-30                   1.500000    GULFSTREAM   \n",
       "\n",
       "  A/C Size Affiliation  Avg Load (sTon)  \n",
       "0        N         GOV             0.39  \n",
       "2        N         GOV             0.39  \n",
       "4        N         GOV             0.39  \n",
       "6        N         GOV             0.39  \n",
       "8        N         GOV             0.39  "
      ]
     },
     "execution_count": 354,
     "metadata": {},
     "output_type": "execute_result"
    }
   ],
   "source": [
    "hfocc_tidy = hfocc2[['Request Status','Arrival Date','Interarrival Time (hours)','Aircraft Type','A/C Size','Affiliation','Avg Load (sTon)']]\n",
    "hfocc_tidy.head()"
   ]
  },
  {
   "cell_type": "code",
   "execution_count": 355,
   "id": "cb3889d4",
   "metadata": {
    "scrolled": false
   },
   "outputs": [
    {
     "data": {
      "text/html": [
       "<div>\n",
       "<style scoped>\n",
       "    .dataframe tbody tr th:only-of-type {\n",
       "        vertical-align: middle;\n",
       "    }\n",
       "\n",
       "    .dataframe tbody tr th {\n",
       "        vertical-align: top;\n",
       "    }\n",
       "\n",
       "    .dataframe thead th {\n",
       "        text-align: right;\n",
       "    }\n",
       "</style>\n",
       "<table border=\"1\" class=\"dataframe\">\n",
       "  <thead>\n",
       "    <tr style=\"text-align: right;\">\n",
       "      <th></th>\n",
       "      <th>Request Status</th>\n",
       "      <th>Arrival Date</th>\n",
       "      <th>Interarrival Time (hours)</th>\n",
       "      <th>Aircraft Type</th>\n",
       "      <th>A/C Size</th>\n",
       "      <th>Affiliation</th>\n",
       "      <th>Avg Load (sTon)</th>\n",
       "    </tr>\n",
       "  </thead>\n",
       "  <tbody>\n",
       "    <tr>\n",
       "      <th>0</th>\n",
       "      <td>Complete</td>\n",
       "      <td>2010-01-16</td>\n",
       "      <td>0.000000</td>\n",
       "      <td>GULFSTREAM</td>\n",
       "      <td>N</td>\n",
       "      <td>GOV</td>\n",
       "      <td>0.39</td>\n",
       "    </tr>\n",
       "    <tr>\n",
       "      <th>2</th>\n",
       "      <td>Complete</td>\n",
       "      <td>2010-01-18</td>\n",
       "      <td>2.666667</td>\n",
       "      <td>GULFSTREAM</td>\n",
       "      <td>N</td>\n",
       "      <td>GOV</td>\n",
       "      <td>0.39</td>\n",
       "    </tr>\n",
       "    <tr>\n",
       "      <th>4</th>\n",
       "      <td>Complete</td>\n",
       "      <td>2010-01-23</td>\n",
       "      <td>3.000000</td>\n",
       "      <td>GULFSTREAM</td>\n",
       "      <td>N</td>\n",
       "      <td>GOV</td>\n",
       "      <td>0.39</td>\n",
       "    </tr>\n",
       "    <tr>\n",
       "      <th>6</th>\n",
       "      <td>Complete</td>\n",
       "      <td>2010-01-24</td>\n",
       "      <td>5.666667</td>\n",
       "      <td>GULFSTREAM</td>\n",
       "      <td>N</td>\n",
       "      <td>GOV</td>\n",
       "      <td>0.39</td>\n",
       "    </tr>\n",
       "    <tr>\n",
       "      <th>24</th>\n",
       "      <td>Complete</td>\n",
       "      <td>2010-01-16</td>\n",
       "      <td>0.000000</td>\n",
       "      <td>GULFSTREAM</td>\n",
       "      <td>N</td>\n",
       "      <td>NGO</td>\n",
       "      <td>0.39</td>\n",
       "    </tr>\n",
       "  </tbody>\n",
       "</table>\n",
       "</div>"
      ],
      "text/plain": [
       "   Request Status Arrival Date  Interarrival Time (hours) Aircraft Type  \\\n",
       "0        Complete   2010-01-16                   0.000000    GULFSTREAM   \n",
       "2        Complete   2010-01-18                   2.666667    GULFSTREAM   \n",
       "4        Complete   2010-01-23                   3.000000    GULFSTREAM   \n",
       "6        Complete   2010-01-24                   5.666667    GULFSTREAM   \n",
       "24       Complete   2010-01-16                   0.000000    GULFSTREAM   \n",
       "\n",
       "   A/C Size Affiliation  Avg Load (sTon)  \n",
       "0         N         GOV             0.39  \n",
       "2         N         GOV             0.39  \n",
       "4         N         GOV             0.39  \n",
       "6         N         GOV             0.39  \n",
       "24        N         NGO             0.39  "
      ]
     },
     "execution_count": 355,
     "metadata": {},
     "output_type": "execute_result"
    }
   ],
   "source": [
    "hfocc_tidy_before = Before_Pier[['Request Status','Arrival Date','Interarrival Time (hours)','Aircraft Type','A/C Size','Affiliation','Avg Load (sTon)']]\n",
    "hfocc_tidy_before.head()"
   ]
  },
  {
   "cell_type": "code",
   "execution_count": 356,
   "id": "dc3dfa08",
   "metadata": {},
   "outputs": [
    {
     "data": {
      "text/html": [
       "<div>\n",
       "<style scoped>\n",
       "    .dataframe tbody tr th:only-of-type {\n",
       "        vertical-align: middle;\n",
       "    }\n",
       "\n",
       "    .dataframe tbody tr th {\n",
       "        vertical-align: top;\n",
       "    }\n",
       "\n",
       "    .dataframe thead th {\n",
       "        text-align: right;\n",
       "    }\n",
       "</style>\n",
       "<table border=\"1\" class=\"dataframe\">\n",
       "  <thead>\n",
       "    <tr style=\"text-align: right;\">\n",
       "      <th></th>\n",
       "      <th>Request Status</th>\n",
       "      <th>Arrival Date</th>\n",
       "      <th>Interarrival Time (hours)</th>\n",
       "      <th>Aircraft Type</th>\n",
       "      <th>A/C Size</th>\n",
       "      <th>Affiliation</th>\n",
       "      <th>Avg Load (sTon)</th>\n",
       "    </tr>\n",
       "  </thead>\n",
       "  <tbody>\n",
       "    <tr>\n",
       "      <th>8</th>\n",
       "      <td>Complete</td>\n",
       "      <td>2010-01-30</td>\n",
       "      <td>1.50</td>\n",
       "      <td>GULFSTREAM</td>\n",
       "      <td>N</td>\n",
       "      <td>GOV</td>\n",
       "      <td>0.39</td>\n",
       "    </tr>\n",
       "    <tr>\n",
       "      <th>10</th>\n",
       "      <td>Complete</td>\n",
       "      <td>2010-01-31</td>\n",
       "      <td>7.50</td>\n",
       "      <td>GULFSTREAM</td>\n",
       "      <td>N</td>\n",
       "      <td>GOV</td>\n",
       "      <td>0.39</td>\n",
       "    </tr>\n",
       "    <tr>\n",
       "      <th>12</th>\n",
       "      <td>Complete</td>\n",
       "      <td>2010-02-04</td>\n",
       "      <td>2.25</td>\n",
       "      <td>GULFSTREAM</td>\n",
       "      <td>N</td>\n",
       "      <td>GOV</td>\n",
       "      <td>0.39</td>\n",
       "    </tr>\n",
       "    <tr>\n",
       "      <th>14</th>\n",
       "      <td>Complete</td>\n",
       "      <td>2010-02-07</td>\n",
       "      <td>5.25</td>\n",
       "      <td>GULFSTREAM</td>\n",
       "      <td>N</td>\n",
       "      <td>GOV</td>\n",
       "      <td>0.39</td>\n",
       "    </tr>\n",
       "    <tr>\n",
       "      <th>16</th>\n",
       "      <td>Complete</td>\n",
       "      <td>2010-02-11</td>\n",
       "      <td>29.50</td>\n",
       "      <td>GULFSTREAM</td>\n",
       "      <td>N</td>\n",
       "      <td>GOV</td>\n",
       "      <td>0.39</td>\n",
       "    </tr>\n",
       "  </tbody>\n",
       "</table>\n",
       "</div>"
      ],
      "text/plain": [
       "   Request Status Arrival Date  Interarrival Time (hours) Aircraft Type  \\\n",
       "8        Complete   2010-01-30                       1.50    GULFSTREAM   \n",
       "10       Complete   2010-01-31                       7.50    GULFSTREAM   \n",
       "12       Complete   2010-02-04                       2.25    GULFSTREAM   \n",
       "14       Complete   2010-02-07                       5.25    GULFSTREAM   \n",
       "16       Complete   2010-02-11                      29.50    GULFSTREAM   \n",
       "\n",
       "   A/C Size Affiliation  Avg Load (sTon)  \n",
       "8         N         GOV             0.39  \n",
       "10        N         GOV             0.39  \n",
       "12        N         GOV             0.39  \n",
       "14        N         GOV             0.39  \n",
       "16        N         GOV             0.39  "
      ]
     },
     "execution_count": 356,
     "metadata": {},
     "output_type": "execute_result"
    }
   ],
   "source": [
    "hfocc_tidy_after = After_Pier[['Request Status','Arrival Date','Interarrival Time (hours)','Aircraft Type','A/C Size','Affiliation','Avg Load (sTon)']]\n",
    "hfocc_tidy_after.head()"
   ]
  },
  {
   "cell_type": "markdown",
   "id": "b321149b",
   "metadata": {},
   "source": [
    "## Splitting HFOCC Tidy DF into 3 Seperate Dataframes Based on A/C Size for the whole simulation, and then before and after the pier opened"
   ]
  },
  {
   "cell_type": "code",
   "execution_count": 357,
   "id": "077a56ef",
   "metadata": {},
   "outputs": [
    {
     "data": {
      "text/html": [
       "<div>\n",
       "<style scoped>\n",
       "    .dataframe tbody tr th:only-of-type {\n",
       "        vertical-align: middle;\n",
       "    }\n",
       "\n",
       "    .dataframe tbody tr th {\n",
       "        vertical-align: top;\n",
       "    }\n",
       "\n",
       "    .dataframe thead th {\n",
       "        text-align: right;\n",
       "    }\n",
       "</style>\n",
       "<table border=\"1\" class=\"dataframe\">\n",
       "  <thead>\n",
       "    <tr style=\"text-align: right;\">\n",
       "      <th></th>\n",
       "      <th>Request Status</th>\n",
       "      <th>Arrival Date</th>\n",
       "      <th>Interarrival Time (hours)</th>\n",
       "      <th>Aircraft Type</th>\n",
       "      <th>A/C Size</th>\n",
       "      <th>Affiliation</th>\n",
       "      <th>Avg Load (sTon)</th>\n",
       "    </tr>\n",
       "  </thead>\n",
       "  <tbody>\n",
       "    <tr>\n",
       "      <th>0</th>\n",
       "      <td>Complete</td>\n",
       "      <td>2010-01-16</td>\n",
       "      <td>0.000000</td>\n",
       "      <td>GULFSTREAM</td>\n",
       "      <td>N</td>\n",
       "      <td>GOV</td>\n",
       "      <td>0.39</td>\n",
       "    </tr>\n",
       "    <tr>\n",
       "      <th>2</th>\n",
       "      <td>Complete</td>\n",
       "      <td>2010-01-18</td>\n",
       "      <td>2.666667</td>\n",
       "      <td>GULFSTREAM</td>\n",
       "      <td>N</td>\n",
       "      <td>GOV</td>\n",
       "      <td>0.39</td>\n",
       "    </tr>\n",
       "    <tr>\n",
       "      <th>4</th>\n",
       "      <td>Complete</td>\n",
       "      <td>2010-01-23</td>\n",
       "      <td>3.000000</td>\n",
       "      <td>GULFSTREAM</td>\n",
       "      <td>N</td>\n",
       "      <td>GOV</td>\n",
       "      <td>0.39</td>\n",
       "    </tr>\n",
       "    <tr>\n",
       "      <th>6</th>\n",
       "      <td>Complete</td>\n",
       "      <td>2010-01-24</td>\n",
       "      <td>5.666667</td>\n",
       "      <td>GULFSTREAM</td>\n",
       "      <td>N</td>\n",
       "      <td>GOV</td>\n",
       "      <td>0.39</td>\n",
       "    </tr>\n",
       "    <tr>\n",
       "      <th>8</th>\n",
       "      <td>Complete</td>\n",
       "      <td>2010-01-30</td>\n",
       "      <td>1.500000</td>\n",
       "      <td>GULFSTREAM</td>\n",
       "      <td>N</td>\n",
       "      <td>GOV</td>\n",
       "      <td>0.39</td>\n",
       "    </tr>\n",
       "  </tbody>\n",
       "</table>\n",
       "</div>"
      ],
      "text/plain": [
       "  Request Status Arrival Date  Interarrival Time (hours) Aircraft Type  \\\n",
       "0       Complete   2010-01-16                   0.000000    GULFSTREAM   \n",
       "2       Complete   2010-01-18                   2.666667    GULFSTREAM   \n",
       "4       Complete   2010-01-23                   3.000000    GULFSTREAM   \n",
       "6       Complete   2010-01-24                   5.666667    GULFSTREAM   \n",
       "8       Complete   2010-01-30                   1.500000    GULFSTREAM   \n",
       "\n",
       "  A/C Size Affiliation  Avg Load (sTon)  \n",
       "0        N         GOV             0.39  \n",
       "2        N         GOV             0.39  \n",
       "4        N         GOV             0.39  \n",
       "6        N         GOV             0.39  \n",
       "8        N         GOV             0.39  "
      ]
     },
     "execution_count": 357,
     "metadata": {},
     "output_type": "execute_result"
    }
   ],
   "source": [
    "plane_narrow = hfocc_tidy[hfocc_tidy['A/C Size'] == 'N']\n",
    "plane_narrow.head()"
   ]
  },
  {
   "cell_type": "code",
   "execution_count": 358,
   "id": "3ddb8241",
   "metadata": {},
   "outputs": [
    {
     "data": {
      "text/html": [
       "<div>\n",
       "<style scoped>\n",
       "    .dataframe tbody tr th:only-of-type {\n",
       "        vertical-align: middle;\n",
       "    }\n",
       "\n",
       "    .dataframe tbody tr th {\n",
       "        vertical-align: top;\n",
       "    }\n",
       "\n",
       "    .dataframe thead th {\n",
       "        text-align: right;\n",
       "    }\n",
       "</style>\n",
       "<table border=\"1\" class=\"dataframe\">\n",
       "  <thead>\n",
       "    <tr style=\"text-align: right;\">\n",
       "      <th></th>\n",
       "      <th>Request Status</th>\n",
       "      <th>Arrival Date</th>\n",
       "      <th>Interarrival Time (hours)</th>\n",
       "      <th>Aircraft Type</th>\n",
       "      <th>A/C Size</th>\n",
       "      <th>Affiliation</th>\n",
       "      <th>Avg Load (sTon)</th>\n",
       "    </tr>\n",
       "  </thead>\n",
       "  <tbody>\n",
       "    <tr>\n",
       "      <th>1496</th>\n",
       "      <td>Complete</td>\n",
       "      <td>2010-02-22</td>\n",
       "      <td>8.000000</td>\n",
       "      <td>IL76</td>\n",
       "      <td>W</td>\n",
       "      <td>GOV</td>\n",
       "      <td>14.820</td>\n",
       "    </tr>\n",
       "    <tr>\n",
       "      <th>1508</th>\n",
       "      <td>Complete</td>\n",
       "      <td>2010-01-29</td>\n",
       "      <td>51.250000</td>\n",
       "      <td>IL76</td>\n",
       "      <td>W</td>\n",
       "      <td>MIL</td>\n",
       "      <td>14.820</td>\n",
       "    </tr>\n",
       "    <tr>\n",
       "      <th>1820</th>\n",
       "      <td>Complete</td>\n",
       "      <td>2010-01-29</td>\n",
       "      <td>19.000000</td>\n",
       "      <td>CHALLENGER</td>\n",
       "      <td>W</td>\n",
       "      <td>NGO</td>\n",
       "      <td>0.156</td>\n",
       "    </tr>\n",
       "    <tr>\n",
       "      <th>1874</th>\n",
       "      <td>Complete</td>\n",
       "      <td>2010-01-19</td>\n",
       "      <td>13.000000</td>\n",
       "      <td>B747</td>\n",
       "      <td>W</td>\n",
       "      <td>GOV</td>\n",
       "      <td>60.840</td>\n",
       "    </tr>\n",
       "    <tr>\n",
       "      <th>1875</th>\n",
       "      <td>Complete</td>\n",
       "      <td>2010-01-21</td>\n",
       "      <td>6.016667</td>\n",
       "      <td>B747</td>\n",
       "      <td>W</td>\n",
       "      <td>GOV</td>\n",
       "      <td>60.840</td>\n",
       "    </tr>\n",
       "  </tbody>\n",
       "</table>\n",
       "</div>"
      ],
      "text/plain": [
       "     Request Status Arrival Date  Interarrival Time (hours) Aircraft Type  \\\n",
       "1496       Complete   2010-02-22                   8.000000          IL76   \n",
       "1508       Complete   2010-01-29                  51.250000          IL76   \n",
       "1820       Complete   2010-01-29                  19.000000    CHALLENGER   \n",
       "1874       Complete   2010-01-19                  13.000000          B747   \n",
       "1875       Complete   2010-01-21                   6.016667          B747   \n",
       "\n",
       "     A/C Size Affiliation  Avg Load (sTon)  \n",
       "1496        W         GOV           14.820  \n",
       "1508        W         MIL           14.820  \n",
       "1820        W         NGO            0.156  \n",
       "1874        W         GOV           60.840  \n",
       "1875        W         GOV           60.840  "
      ]
     },
     "execution_count": 358,
     "metadata": {},
     "output_type": "execute_result"
    }
   ],
   "source": [
    "plane_wide = hfocc_tidy[hfocc_tidy['A/C Size'] == 'W']\n",
    "plane_wide.head()"
   ]
  },
  {
   "cell_type": "code",
   "execution_count": 359,
   "id": "152abd9a",
   "metadata": {},
   "outputs": [
    {
     "data": {
      "text/html": [
       "<div>\n",
       "<style scoped>\n",
       "    .dataframe tbody tr th:only-of-type {\n",
       "        vertical-align: middle;\n",
       "    }\n",
       "\n",
       "    .dataframe tbody tr th {\n",
       "        vertical-align: top;\n",
       "    }\n",
       "\n",
       "    .dataframe thead th {\n",
       "        text-align: right;\n",
       "    }\n",
       "</style>\n",
       "<table border=\"1\" class=\"dataframe\">\n",
       "  <thead>\n",
       "    <tr style=\"text-align: right;\">\n",
       "      <th></th>\n",
       "      <th>Request Status</th>\n",
       "      <th>Arrival Date</th>\n",
       "      <th>Interarrival Time (hours)</th>\n",
       "      <th>Aircraft Type</th>\n",
       "      <th>A/C Size</th>\n",
       "      <th>Affiliation</th>\n",
       "      <th>Avg Load (sTon)</th>\n",
       "    </tr>\n",
       "  </thead>\n",
       "  <tbody>\n",
       "    <tr>\n",
       "      <th>166</th>\n",
       "      <td>Complete</td>\n",
       "      <td>2010-01-30</td>\n",
       "      <td>0.250000</td>\n",
       "      <td>GULFSTREAM</td>\n",
       "      <td>S</td>\n",
       "      <td>NGO</td>\n",
       "      <td>0.39</td>\n",
       "    </tr>\n",
       "    <tr>\n",
       "      <th>168</th>\n",
       "      <td>Complete</td>\n",
       "      <td>2010-01-31</td>\n",
       "      <td>1.266667</td>\n",
       "      <td>GULFSTREAM</td>\n",
       "      <td>S</td>\n",
       "      <td>NGO</td>\n",
       "      <td>0.39</td>\n",
       "    </tr>\n",
       "    <tr>\n",
       "      <th>170</th>\n",
       "      <td>Complete</td>\n",
       "      <td>2010-01-31</td>\n",
       "      <td>1.250000</td>\n",
       "      <td>GULFSTREAM</td>\n",
       "      <td>S</td>\n",
       "      <td>NGO</td>\n",
       "      <td>0.39</td>\n",
       "    </tr>\n",
       "    <tr>\n",
       "      <th>1258</th>\n",
       "      <td>Complete</td>\n",
       "      <td>2010-02-05</td>\n",
       "      <td>34.666667</td>\n",
       "      <td>C130</td>\n",
       "      <td>S</td>\n",
       "      <td>MIL</td>\n",
       "      <td>7.00</td>\n",
       "    </tr>\n",
       "    <tr>\n",
       "      <th>1427</th>\n",
       "      <td>Complete</td>\n",
       "      <td>2010-01-16</td>\n",
       "      <td>0.000000</td>\n",
       "      <td>FALCON</td>\n",
       "      <td>S</td>\n",
       "      <td>NGO</td>\n",
       "      <td>2.34</td>\n",
       "    </tr>\n",
       "  </tbody>\n",
       "</table>\n",
       "</div>"
      ],
      "text/plain": [
       "     Request Status Arrival Date  Interarrival Time (hours) Aircraft Type  \\\n",
       "166        Complete   2010-01-30                   0.250000    GULFSTREAM   \n",
       "168        Complete   2010-01-31                   1.266667    GULFSTREAM   \n",
       "170        Complete   2010-01-31                   1.250000    GULFSTREAM   \n",
       "1258       Complete   2010-02-05                  34.666667          C130   \n",
       "1427       Complete   2010-01-16                   0.000000        FALCON   \n",
       "\n",
       "     A/C Size Affiliation  Avg Load (sTon)  \n",
       "166         S         NGO             0.39  \n",
       "168         S         NGO             0.39  \n",
       "170         S         NGO             0.39  \n",
       "1258        S         MIL             7.00  \n",
       "1427        S         NGO             2.34  "
      ]
     },
     "execution_count": 359,
     "metadata": {},
     "output_type": "execute_result"
    }
   ],
   "source": [
    "plane_small = hfocc_tidy[hfocc_tidy['A/C Size'] == 'S']\n",
    "plane_small.head()"
   ]
  },
  {
   "cell_type": "code",
   "execution_count": 360,
   "id": "95d7bf07",
   "metadata": {
    "scrolled": false
   },
   "outputs": [
    {
     "data": {
      "text/html": [
       "<div>\n",
       "<style scoped>\n",
       "    .dataframe tbody tr th:only-of-type {\n",
       "        vertical-align: middle;\n",
       "    }\n",
       "\n",
       "    .dataframe tbody tr th {\n",
       "        vertical-align: top;\n",
       "    }\n",
       "\n",
       "    .dataframe thead th {\n",
       "        text-align: right;\n",
       "    }\n",
       "</style>\n",
       "<table border=\"1\" class=\"dataframe\">\n",
       "  <thead>\n",
       "    <tr style=\"text-align: right;\">\n",
       "      <th></th>\n",
       "      <th>Request Status</th>\n",
       "      <th>Arrival Date</th>\n",
       "      <th>Interarrival Time (hours)</th>\n",
       "      <th>Aircraft Type</th>\n",
       "      <th>A/C Size</th>\n",
       "      <th>Affiliation</th>\n",
       "      <th>Avg Load (sTon)</th>\n",
       "    </tr>\n",
       "  </thead>\n",
       "  <tbody>\n",
       "    <tr>\n",
       "      <th>0</th>\n",
       "      <td>Complete</td>\n",
       "      <td>2010-01-16</td>\n",
       "      <td>0.000000</td>\n",
       "      <td>GULFSTREAM</td>\n",
       "      <td>N</td>\n",
       "      <td>GOV</td>\n",
       "      <td>0.39</td>\n",
       "    </tr>\n",
       "    <tr>\n",
       "      <th>2</th>\n",
       "      <td>Complete</td>\n",
       "      <td>2010-01-18</td>\n",
       "      <td>2.666667</td>\n",
       "      <td>GULFSTREAM</td>\n",
       "      <td>N</td>\n",
       "      <td>GOV</td>\n",
       "      <td>0.39</td>\n",
       "    </tr>\n",
       "    <tr>\n",
       "      <th>4</th>\n",
       "      <td>Complete</td>\n",
       "      <td>2010-01-23</td>\n",
       "      <td>3.000000</td>\n",
       "      <td>GULFSTREAM</td>\n",
       "      <td>N</td>\n",
       "      <td>GOV</td>\n",
       "      <td>0.39</td>\n",
       "    </tr>\n",
       "    <tr>\n",
       "      <th>6</th>\n",
       "      <td>Complete</td>\n",
       "      <td>2010-01-24</td>\n",
       "      <td>5.666667</td>\n",
       "      <td>GULFSTREAM</td>\n",
       "      <td>N</td>\n",
       "      <td>GOV</td>\n",
       "      <td>0.39</td>\n",
       "    </tr>\n",
       "    <tr>\n",
       "      <th>24</th>\n",
       "      <td>Complete</td>\n",
       "      <td>2010-01-16</td>\n",
       "      <td>0.000000</td>\n",
       "      <td>GULFSTREAM</td>\n",
       "      <td>N</td>\n",
       "      <td>NGO</td>\n",
       "      <td>0.39</td>\n",
       "    </tr>\n",
       "  </tbody>\n",
       "</table>\n",
       "</div>"
      ],
      "text/plain": [
       "   Request Status Arrival Date  Interarrival Time (hours) Aircraft Type  \\\n",
       "0        Complete   2010-01-16                   0.000000    GULFSTREAM   \n",
       "2        Complete   2010-01-18                   2.666667    GULFSTREAM   \n",
       "4        Complete   2010-01-23                   3.000000    GULFSTREAM   \n",
       "6        Complete   2010-01-24                   5.666667    GULFSTREAM   \n",
       "24       Complete   2010-01-16                   0.000000    GULFSTREAM   \n",
       "\n",
       "   A/C Size Affiliation  Avg Load (sTon)  \n",
       "0         N         GOV             0.39  \n",
       "2         N         GOV             0.39  \n",
       "4         N         GOV             0.39  \n",
       "6         N         GOV             0.39  \n",
       "24        N         NGO             0.39  "
      ]
     },
     "execution_count": 360,
     "metadata": {},
     "output_type": "execute_result"
    }
   ],
   "source": [
    "plane_narrow_before = hfocc_tidy_before[hfocc_tidy_before['A/C Size'] == 'N']\n",
    "plane_narrow_before.head()"
   ]
  },
  {
   "cell_type": "code",
   "execution_count": 361,
   "id": "5673976d",
   "metadata": {},
   "outputs": [
    {
     "data": {
      "text/html": [
       "<div>\n",
       "<style scoped>\n",
       "    .dataframe tbody tr th:only-of-type {\n",
       "        vertical-align: middle;\n",
       "    }\n",
       "\n",
       "    .dataframe tbody tr th {\n",
       "        vertical-align: top;\n",
       "    }\n",
       "\n",
       "    .dataframe thead th {\n",
       "        text-align: right;\n",
       "    }\n",
       "</style>\n",
       "<table border=\"1\" class=\"dataframe\">\n",
       "  <thead>\n",
       "    <tr style=\"text-align: right;\">\n",
       "      <th></th>\n",
       "      <th>Request Status</th>\n",
       "      <th>Arrival Date</th>\n",
       "      <th>Interarrival Time (hours)</th>\n",
       "      <th>Aircraft Type</th>\n",
       "      <th>A/C Size</th>\n",
       "      <th>Affiliation</th>\n",
       "      <th>Avg Load (sTon)</th>\n",
       "    </tr>\n",
       "  </thead>\n",
       "  <tbody>\n",
       "    <tr>\n",
       "      <th>1874</th>\n",
       "      <td>Complete</td>\n",
       "      <td>2010-01-19</td>\n",
       "      <td>13.000000</td>\n",
       "      <td>B747</td>\n",
       "      <td>W</td>\n",
       "      <td>GOV</td>\n",
       "      <td>60.84</td>\n",
       "    </tr>\n",
       "    <tr>\n",
       "      <th>1875</th>\n",
       "      <td>Complete</td>\n",
       "      <td>2010-01-21</td>\n",
       "      <td>6.016667</td>\n",
       "      <td>B747</td>\n",
       "      <td>W</td>\n",
       "      <td>GOV</td>\n",
       "      <td>60.84</td>\n",
       "    </tr>\n",
       "    <tr>\n",
       "      <th>1876</th>\n",
       "      <td>Complete</td>\n",
       "      <td>2010-01-23</td>\n",
       "      <td>30.333333</td>\n",
       "      <td>B747</td>\n",
       "      <td>W</td>\n",
       "      <td>GOV</td>\n",
       "      <td>60.84</td>\n",
       "    </tr>\n",
       "    <tr>\n",
       "      <th>1881</th>\n",
       "      <td>Complete</td>\n",
       "      <td>2010-01-20</td>\n",
       "      <td>3.000000</td>\n",
       "      <td>B747</td>\n",
       "      <td>W</td>\n",
       "      <td>NGO</td>\n",
       "      <td>60.84</td>\n",
       "    </tr>\n",
       "    <tr>\n",
       "      <th>1882</th>\n",
       "      <td>Complete</td>\n",
       "      <td>2010-01-22</td>\n",
       "      <td>4.000000</td>\n",
       "      <td>B747</td>\n",
       "      <td>W</td>\n",
       "      <td>NGO</td>\n",
       "      <td>60.84</td>\n",
       "    </tr>\n",
       "  </tbody>\n",
       "</table>\n",
       "</div>"
      ],
      "text/plain": [
       "     Request Status Arrival Date  Interarrival Time (hours) Aircraft Type  \\\n",
       "1874       Complete   2010-01-19                  13.000000          B747   \n",
       "1875       Complete   2010-01-21                   6.016667          B747   \n",
       "1876       Complete   2010-01-23                  30.333333          B747   \n",
       "1881       Complete   2010-01-20                   3.000000          B747   \n",
       "1882       Complete   2010-01-22                   4.000000          B747   \n",
       "\n",
       "     A/C Size Affiliation  Avg Load (sTon)  \n",
       "1874        W         GOV            60.84  \n",
       "1875        W         GOV            60.84  \n",
       "1876        W         GOV            60.84  \n",
       "1881        W         NGO            60.84  \n",
       "1882        W         NGO            60.84  "
      ]
     },
     "execution_count": 361,
     "metadata": {},
     "output_type": "execute_result"
    }
   ],
   "source": [
    "plane_wide_before = hfocc_tidy_before[hfocc_tidy_before['A/C Size'] == 'W']\n",
    "plane_wide_before.head()"
   ]
  },
  {
   "cell_type": "code",
   "execution_count": 362,
   "id": "cc4161c4",
   "metadata": {
    "scrolled": true
   },
   "outputs": [
    {
     "data": {
      "text/html": [
       "<div>\n",
       "<style scoped>\n",
       "    .dataframe tbody tr th:only-of-type {\n",
       "        vertical-align: middle;\n",
       "    }\n",
       "\n",
       "    .dataframe tbody tr th {\n",
       "        vertical-align: top;\n",
       "    }\n",
       "\n",
       "    .dataframe thead th {\n",
       "        text-align: right;\n",
       "    }\n",
       "</style>\n",
       "<table border=\"1\" class=\"dataframe\">\n",
       "  <thead>\n",
       "    <tr style=\"text-align: right;\">\n",
       "      <th></th>\n",
       "      <th>Request Status</th>\n",
       "      <th>Arrival Date</th>\n",
       "      <th>Interarrival Time (hours)</th>\n",
       "      <th>Aircraft Type</th>\n",
       "      <th>A/C Size</th>\n",
       "      <th>Affiliation</th>\n",
       "      <th>Avg Load (sTon)</th>\n",
       "    </tr>\n",
       "  </thead>\n",
       "  <tbody>\n",
       "    <tr>\n",
       "      <th>1427</th>\n",
       "      <td>Complete</td>\n",
       "      <td>2010-01-16</td>\n",
       "      <td>0.0</td>\n",
       "      <td>FALCON</td>\n",
       "      <td>S</td>\n",
       "      <td>NGO</td>\n",
       "      <td>2.34</td>\n",
       "    </tr>\n",
       "    <tr>\n",
       "      <th>1428</th>\n",
       "      <td>Complete</td>\n",
       "      <td>2010-01-16</td>\n",
       "      <td>0.0</td>\n",
       "      <td>FALCON</td>\n",
       "      <td>S</td>\n",
       "      <td>NGO</td>\n",
       "      <td>2.34</td>\n",
       "    </tr>\n",
       "    <tr>\n",
       "      <th>1464</th>\n",
       "      <td>Complete</td>\n",
       "      <td>2010-01-15</td>\n",
       "      <td>0.0</td>\n",
       "      <td>UNKNOWN</td>\n",
       "      <td>S</td>\n",
       "      <td>MIL</td>\n",
       "      <td>0.78</td>\n",
       "    </tr>\n",
       "    <tr>\n",
       "      <th>1466</th>\n",
       "      <td>Complete</td>\n",
       "      <td>2010-01-16</td>\n",
       "      <td>0.0</td>\n",
       "      <td>UNKNOWN</td>\n",
       "      <td>S</td>\n",
       "      <td>NGO</td>\n",
       "      <td>0.78</td>\n",
       "    </tr>\n",
       "    <tr>\n",
       "      <th>1467</th>\n",
       "      <td>Complete</td>\n",
       "      <td>2010-01-16</td>\n",
       "      <td>0.5</td>\n",
       "      <td>UNKNOWN</td>\n",
       "      <td>S</td>\n",
       "      <td>NGO</td>\n",
       "      <td>0.78</td>\n",
       "    </tr>\n",
       "  </tbody>\n",
       "</table>\n",
       "</div>"
      ],
      "text/plain": [
       "     Request Status Arrival Date  Interarrival Time (hours) Aircraft Type  \\\n",
       "1427       Complete   2010-01-16                        0.0        FALCON   \n",
       "1428       Complete   2010-01-16                        0.0        FALCON   \n",
       "1464       Complete   2010-01-15                        0.0       UNKNOWN   \n",
       "1466       Complete   2010-01-16                        0.0       UNKNOWN   \n",
       "1467       Complete   2010-01-16                        0.5       UNKNOWN   \n",
       "\n",
       "     A/C Size Affiliation  Avg Load (sTon)  \n",
       "1427        S         NGO             2.34  \n",
       "1428        S         NGO             2.34  \n",
       "1464        S         MIL             0.78  \n",
       "1466        S         NGO             0.78  \n",
       "1467        S         NGO             0.78  "
      ]
     },
     "execution_count": 362,
     "metadata": {},
     "output_type": "execute_result"
    }
   ],
   "source": [
    "plane_small_before = hfocc_tidy_before[hfocc_tidy_before['A/C Size'] == 'S']\n",
    "plane_small_before.head()"
   ]
  },
  {
   "cell_type": "code",
   "execution_count": 363,
   "id": "b0055e4b",
   "metadata": {},
   "outputs": [
    {
     "data": {
      "text/html": [
       "<div>\n",
       "<style scoped>\n",
       "    .dataframe tbody tr th:only-of-type {\n",
       "        vertical-align: middle;\n",
       "    }\n",
       "\n",
       "    .dataframe tbody tr th {\n",
       "        vertical-align: top;\n",
       "    }\n",
       "\n",
       "    .dataframe thead th {\n",
       "        text-align: right;\n",
       "    }\n",
       "</style>\n",
       "<table border=\"1\" class=\"dataframe\">\n",
       "  <thead>\n",
       "    <tr style=\"text-align: right;\">\n",
       "      <th></th>\n",
       "      <th>Request Status</th>\n",
       "      <th>Arrival Date</th>\n",
       "      <th>Interarrival Time (hours)</th>\n",
       "      <th>Aircraft Type</th>\n",
       "      <th>A/C Size</th>\n",
       "      <th>Affiliation</th>\n",
       "      <th>Avg Load (sTon)</th>\n",
       "    </tr>\n",
       "  </thead>\n",
       "  <tbody>\n",
       "    <tr>\n",
       "      <th>8</th>\n",
       "      <td>Complete</td>\n",
       "      <td>2010-01-30</td>\n",
       "      <td>1.50</td>\n",
       "      <td>GULFSTREAM</td>\n",
       "      <td>N</td>\n",
       "      <td>GOV</td>\n",
       "      <td>0.39</td>\n",
       "    </tr>\n",
       "    <tr>\n",
       "      <th>10</th>\n",
       "      <td>Complete</td>\n",
       "      <td>2010-01-31</td>\n",
       "      <td>7.50</td>\n",
       "      <td>GULFSTREAM</td>\n",
       "      <td>N</td>\n",
       "      <td>GOV</td>\n",
       "      <td>0.39</td>\n",
       "    </tr>\n",
       "    <tr>\n",
       "      <th>12</th>\n",
       "      <td>Complete</td>\n",
       "      <td>2010-02-04</td>\n",
       "      <td>2.25</td>\n",
       "      <td>GULFSTREAM</td>\n",
       "      <td>N</td>\n",
       "      <td>GOV</td>\n",
       "      <td>0.39</td>\n",
       "    </tr>\n",
       "    <tr>\n",
       "      <th>14</th>\n",
       "      <td>Complete</td>\n",
       "      <td>2010-02-07</td>\n",
       "      <td>5.25</td>\n",
       "      <td>GULFSTREAM</td>\n",
       "      <td>N</td>\n",
       "      <td>GOV</td>\n",
       "      <td>0.39</td>\n",
       "    </tr>\n",
       "    <tr>\n",
       "      <th>16</th>\n",
       "      <td>Complete</td>\n",
       "      <td>2010-02-11</td>\n",
       "      <td>29.50</td>\n",
       "      <td>GULFSTREAM</td>\n",
       "      <td>N</td>\n",
       "      <td>GOV</td>\n",
       "      <td>0.39</td>\n",
       "    </tr>\n",
       "  </tbody>\n",
       "</table>\n",
       "</div>"
      ],
      "text/plain": [
       "   Request Status Arrival Date  Interarrival Time (hours) Aircraft Type  \\\n",
       "8        Complete   2010-01-30                       1.50    GULFSTREAM   \n",
       "10       Complete   2010-01-31                       7.50    GULFSTREAM   \n",
       "12       Complete   2010-02-04                       2.25    GULFSTREAM   \n",
       "14       Complete   2010-02-07                       5.25    GULFSTREAM   \n",
       "16       Complete   2010-02-11                      29.50    GULFSTREAM   \n",
       "\n",
       "   A/C Size Affiliation  Avg Load (sTon)  \n",
       "8         N         GOV             0.39  \n",
       "10        N         GOV             0.39  \n",
       "12        N         GOV             0.39  \n",
       "14        N         GOV             0.39  \n",
       "16        N         GOV             0.39  "
      ]
     },
     "execution_count": 363,
     "metadata": {},
     "output_type": "execute_result"
    }
   ],
   "source": [
    "plane_narrow_after = hfocc_tidy_after[hfocc_tidy_after['A/C Size'] == 'N']\n",
    "plane_narrow_after.head()"
   ]
  },
  {
   "cell_type": "code",
   "execution_count": 364,
   "id": "2f17bbf9",
   "metadata": {},
   "outputs": [
    {
     "data": {
      "text/html": [
       "<div>\n",
       "<style scoped>\n",
       "    .dataframe tbody tr th:only-of-type {\n",
       "        vertical-align: middle;\n",
       "    }\n",
       "\n",
       "    .dataframe tbody tr th {\n",
       "        vertical-align: top;\n",
       "    }\n",
       "\n",
       "    .dataframe thead th {\n",
       "        text-align: right;\n",
       "    }\n",
       "</style>\n",
       "<table border=\"1\" class=\"dataframe\">\n",
       "  <thead>\n",
       "    <tr style=\"text-align: right;\">\n",
       "      <th></th>\n",
       "      <th>Request Status</th>\n",
       "      <th>Arrival Date</th>\n",
       "      <th>Interarrival Time (hours)</th>\n",
       "      <th>Aircraft Type</th>\n",
       "      <th>A/C Size</th>\n",
       "      <th>Affiliation</th>\n",
       "      <th>Avg Load (sTon)</th>\n",
       "    </tr>\n",
       "  </thead>\n",
       "  <tbody>\n",
       "    <tr>\n",
       "      <th>1496</th>\n",
       "      <td>Complete</td>\n",
       "      <td>2010-02-22</td>\n",
       "      <td>8.00</td>\n",
       "      <td>IL76</td>\n",
       "      <td>W</td>\n",
       "      <td>GOV</td>\n",
       "      <td>14.820</td>\n",
       "    </tr>\n",
       "    <tr>\n",
       "      <th>1508</th>\n",
       "      <td>Complete</td>\n",
       "      <td>2010-01-29</td>\n",
       "      <td>51.25</td>\n",
       "      <td>IL76</td>\n",
       "      <td>W</td>\n",
       "      <td>MIL</td>\n",
       "      <td>14.820</td>\n",
       "    </tr>\n",
       "    <tr>\n",
       "      <th>1820</th>\n",
       "      <td>Complete</td>\n",
       "      <td>2010-01-29</td>\n",
       "      <td>19.00</td>\n",
       "      <td>CHALLENGER</td>\n",
       "      <td>W</td>\n",
       "      <td>NGO</td>\n",
       "      <td>0.156</td>\n",
       "    </tr>\n",
       "    <tr>\n",
       "      <th>1877</th>\n",
       "      <td>Complete</td>\n",
       "      <td>2010-02-02</td>\n",
       "      <td>72.00</td>\n",
       "      <td>B747</td>\n",
       "      <td>W</td>\n",
       "      <td>GOV</td>\n",
       "      <td>60.840</td>\n",
       "    </tr>\n",
       "    <tr>\n",
       "      <th>1878</th>\n",
       "      <td>Complete</td>\n",
       "      <td>2010-02-08</td>\n",
       "      <td>16.00</td>\n",
       "      <td>B747</td>\n",
       "      <td>W</td>\n",
       "      <td>GOV</td>\n",
       "      <td>60.840</td>\n",
       "    </tr>\n",
       "  </tbody>\n",
       "</table>\n",
       "</div>"
      ],
      "text/plain": [
       "     Request Status Arrival Date  Interarrival Time (hours) Aircraft Type  \\\n",
       "1496       Complete   2010-02-22                       8.00          IL76   \n",
       "1508       Complete   2010-01-29                      51.25          IL76   \n",
       "1820       Complete   2010-01-29                      19.00    CHALLENGER   \n",
       "1877       Complete   2010-02-02                      72.00          B747   \n",
       "1878       Complete   2010-02-08                      16.00          B747   \n",
       "\n",
       "     A/C Size Affiliation  Avg Load (sTon)  \n",
       "1496        W         GOV           14.820  \n",
       "1508        W         MIL           14.820  \n",
       "1820        W         NGO            0.156  \n",
       "1877        W         GOV           60.840  \n",
       "1878        W         GOV           60.840  "
      ]
     },
     "execution_count": 364,
     "metadata": {},
     "output_type": "execute_result"
    }
   ],
   "source": [
    "plane_wide_after = hfocc_tidy_after[hfocc_tidy_after['A/C Size'] == 'W']\n",
    "plane_wide_after.head()"
   ]
  },
  {
   "cell_type": "code",
   "execution_count": 365,
   "id": "fd881660",
   "metadata": {},
   "outputs": [
    {
     "data": {
      "text/html": [
       "<div>\n",
       "<style scoped>\n",
       "    .dataframe tbody tr th:only-of-type {\n",
       "        vertical-align: middle;\n",
       "    }\n",
       "\n",
       "    .dataframe tbody tr th {\n",
       "        vertical-align: top;\n",
       "    }\n",
       "\n",
       "    .dataframe thead th {\n",
       "        text-align: right;\n",
       "    }\n",
       "</style>\n",
       "<table border=\"1\" class=\"dataframe\">\n",
       "  <thead>\n",
       "    <tr style=\"text-align: right;\">\n",
       "      <th></th>\n",
       "      <th>Request Status</th>\n",
       "      <th>Arrival Date</th>\n",
       "      <th>Interarrival Time (hours)</th>\n",
       "      <th>Aircraft Type</th>\n",
       "      <th>A/C Size</th>\n",
       "      <th>Affiliation</th>\n",
       "      <th>Avg Load (sTon)</th>\n",
       "    </tr>\n",
       "  </thead>\n",
       "  <tbody>\n",
       "    <tr>\n",
       "      <th>166</th>\n",
       "      <td>Complete</td>\n",
       "      <td>2010-01-30</td>\n",
       "      <td>0.250000</td>\n",
       "      <td>GULFSTREAM</td>\n",
       "      <td>S</td>\n",
       "      <td>NGO</td>\n",
       "      <td>0.39</td>\n",
       "    </tr>\n",
       "    <tr>\n",
       "      <th>168</th>\n",
       "      <td>Complete</td>\n",
       "      <td>2010-01-31</td>\n",
       "      <td>1.266667</td>\n",
       "      <td>GULFSTREAM</td>\n",
       "      <td>S</td>\n",
       "      <td>NGO</td>\n",
       "      <td>0.39</td>\n",
       "    </tr>\n",
       "    <tr>\n",
       "      <th>170</th>\n",
       "      <td>Complete</td>\n",
       "      <td>2010-01-31</td>\n",
       "      <td>1.250000</td>\n",
       "      <td>GULFSTREAM</td>\n",
       "      <td>S</td>\n",
       "      <td>NGO</td>\n",
       "      <td>0.39</td>\n",
       "    </tr>\n",
       "    <tr>\n",
       "      <th>1258</th>\n",
       "      <td>Complete</td>\n",
       "      <td>2010-02-05</td>\n",
       "      <td>34.666667</td>\n",
       "      <td>C130</td>\n",
       "      <td>S</td>\n",
       "      <td>MIL</td>\n",
       "      <td>7.00</td>\n",
       "    </tr>\n",
       "    <tr>\n",
       "      <th>1429</th>\n",
       "      <td>Complete</td>\n",
       "      <td>2010-02-08</td>\n",
       "      <td>0.500000</td>\n",
       "      <td>FALCON</td>\n",
       "      <td>S</td>\n",
       "      <td>NGO</td>\n",
       "      <td>2.34</td>\n",
       "    </tr>\n",
       "  </tbody>\n",
       "</table>\n",
       "</div>"
      ],
      "text/plain": [
       "     Request Status Arrival Date  Interarrival Time (hours) Aircraft Type  \\\n",
       "166        Complete   2010-01-30                   0.250000    GULFSTREAM   \n",
       "168        Complete   2010-01-31                   1.266667    GULFSTREAM   \n",
       "170        Complete   2010-01-31                   1.250000    GULFSTREAM   \n",
       "1258       Complete   2010-02-05                  34.666667          C130   \n",
       "1429       Complete   2010-02-08                   0.500000        FALCON   \n",
       "\n",
       "     A/C Size Affiliation  Avg Load (sTon)  \n",
       "166         S         NGO             0.39  \n",
       "168         S         NGO             0.39  \n",
       "170         S         NGO             0.39  \n",
       "1258        S         MIL             7.00  \n",
       "1429        S         NGO             2.34  "
      ]
     },
     "execution_count": 365,
     "metadata": {},
     "output_type": "execute_result"
    }
   ],
   "source": [
    "plane_small_after = hfocc_tidy_after[hfocc_tidy_after['A/C Size'] == 'S']\n",
    "plane_small_after.head()"
   ]
  },
  {
   "cell_type": "markdown",
   "id": "f7e14a95",
   "metadata": {},
   "source": [
    "### The new data set containing important arrival and ground time data has been split into six different dataframes, 3 before the pier opened, and 3 after the pier opened. Each dataframe corresponds to the three different sizes of planes arriving into Port-au-Prince airport."
   ]
  },
  {
   "cell_type": "markdown",
   "id": "22cfa9c7",
   "metadata": {},
   "source": [
    "## Splitting the data into 9 dataframes based on A/C Size and Affiliation for before and after the pier opened"
   ]
  },
  {
   "cell_type": "markdown",
   "id": "4f07bf21",
   "metadata": {},
   "source": [
    "### Each plane has three dataframes. The first dataframe contains all of the planes over the whole simulation. The second dataframe contains all of the planes that arrived before the port re-opened in Haiti. The third and final dataframe contains all of the planes that arrived after the port re-opened in Haiti "
   ]
  },
  {
   "cell_type": "markdown",
   "id": "9bfd4582",
   "metadata": {},
   "source": [
    "### Wide military planes "
   ]
  },
  {
   "cell_type": "code",
   "execution_count": 366,
   "id": "0865942a",
   "metadata": {},
   "outputs": [
    {
     "data": {
      "text/html": [
       "<div>\n",
       "<style scoped>\n",
       "    .dataframe tbody tr th:only-of-type {\n",
       "        vertical-align: middle;\n",
       "    }\n",
       "\n",
       "    .dataframe tbody tr th {\n",
       "        vertical-align: top;\n",
       "    }\n",
       "\n",
       "    .dataframe thead th {\n",
       "        text-align: right;\n",
       "    }\n",
       "</style>\n",
       "<table border=\"1\" class=\"dataframe\">\n",
       "  <thead>\n",
       "    <tr style=\"text-align: right;\">\n",
       "      <th></th>\n",
       "      <th>Request Status</th>\n",
       "      <th>Arrival Date</th>\n",
       "      <th>Interarrival Time (hours)</th>\n",
       "      <th>Aircraft Type</th>\n",
       "      <th>A/C Size</th>\n",
       "      <th>Affiliation</th>\n",
       "      <th>Avg Load (sTon)</th>\n",
       "    </tr>\n",
       "  </thead>\n",
       "  <tbody>\n",
       "    <tr>\n",
       "      <th>1508</th>\n",
       "      <td>Complete</td>\n",
       "      <td>2010-01-29</td>\n",
       "      <td>51.25</td>\n",
       "      <td>IL76</td>\n",
       "      <td>W</td>\n",
       "      <td>MIL</td>\n",
       "      <td>14.82</td>\n",
       "    </tr>\n",
       "    <tr>\n",
       "      <th>2829</th>\n",
       "      <td>Complete</td>\n",
       "      <td>2010-01-17</td>\n",
       "      <td>7.00</td>\n",
       "      <td>A310</td>\n",
       "      <td>W</td>\n",
       "      <td>MIL</td>\n",
       "      <td>25.74</td>\n",
       "    </tr>\n",
       "    <tr>\n",
       "      <th>2830</th>\n",
       "      <td>Complete</td>\n",
       "      <td>2010-01-17</td>\n",
       "      <td>3.00</td>\n",
       "      <td>A310</td>\n",
       "      <td>W</td>\n",
       "      <td>MIL</td>\n",
       "      <td>25.74</td>\n",
       "    </tr>\n",
       "    <tr>\n",
       "      <th>2831</th>\n",
       "      <td>Complete</td>\n",
       "      <td>2010-01-17</td>\n",
       "      <td>2.00</td>\n",
       "      <td>A310</td>\n",
       "      <td>W</td>\n",
       "      <td>MIL</td>\n",
       "      <td>25.74</td>\n",
       "    </tr>\n",
       "    <tr>\n",
       "      <th>2832</th>\n",
       "      <td>Complete</td>\n",
       "      <td>2010-01-17</td>\n",
       "      <td>2.00</td>\n",
       "      <td>A310</td>\n",
       "      <td>W</td>\n",
       "      <td>MIL</td>\n",
       "      <td>25.74</td>\n",
       "    </tr>\n",
       "  </tbody>\n",
       "</table>\n",
       "</div>"
      ],
      "text/plain": [
       "     Request Status Arrival Date  Interarrival Time (hours) Aircraft Type  \\\n",
       "1508       Complete   2010-01-29                      51.25          IL76   \n",
       "2829       Complete   2010-01-17                       7.00          A310   \n",
       "2830       Complete   2010-01-17                       3.00          A310   \n",
       "2831       Complete   2010-01-17                       2.00          A310   \n",
       "2832       Complete   2010-01-17                       2.00          A310   \n",
       "\n",
       "     A/C Size Affiliation  Avg Load (sTon)  \n",
       "1508        W         MIL            14.82  \n",
       "2829        W         MIL            25.74  \n",
       "2830        W         MIL            25.74  \n",
       "2831        W         MIL            25.74  \n",
       "2832        W         MIL            25.74  "
      ]
     },
     "execution_count": 366,
     "metadata": {},
     "output_type": "execute_result"
    }
   ],
   "source": [
    "plane_wide_mil = plane_wide[plane_wide['Affiliation'] == 'MIL']\n",
    "plane_wide_mil.head()"
   ]
  },
  {
   "cell_type": "code",
   "execution_count": 367,
   "id": "1b272a30",
   "metadata": {
    "scrolled": false
   },
   "outputs": [
    {
     "data": {
      "text/html": [
       "<div>\n",
       "<style scoped>\n",
       "    .dataframe tbody tr th:only-of-type {\n",
       "        vertical-align: middle;\n",
       "    }\n",
       "\n",
       "    .dataframe tbody tr th {\n",
       "        vertical-align: top;\n",
       "    }\n",
       "\n",
       "    .dataframe thead th {\n",
       "        text-align: right;\n",
       "    }\n",
       "</style>\n",
       "<table border=\"1\" class=\"dataframe\">\n",
       "  <thead>\n",
       "    <tr style=\"text-align: right;\">\n",
       "      <th></th>\n",
       "      <th>Request Status</th>\n",
       "      <th>Arrival Date</th>\n",
       "      <th>Interarrival Time (hours)</th>\n",
       "      <th>Aircraft Type</th>\n",
       "      <th>A/C Size</th>\n",
       "      <th>Affiliation</th>\n",
       "      <th>Avg Load (sTon)</th>\n",
       "    </tr>\n",
       "  </thead>\n",
       "  <tbody>\n",
       "    <tr>\n",
       "      <th>2829</th>\n",
       "      <td>Complete</td>\n",
       "      <td>2010-01-17</td>\n",
       "      <td>7.0</td>\n",
       "      <td>A310</td>\n",
       "      <td>W</td>\n",
       "      <td>MIL</td>\n",
       "      <td>25.74</td>\n",
       "    </tr>\n",
       "    <tr>\n",
       "      <th>2830</th>\n",
       "      <td>Complete</td>\n",
       "      <td>2010-01-17</td>\n",
       "      <td>3.0</td>\n",
       "      <td>A310</td>\n",
       "      <td>W</td>\n",
       "      <td>MIL</td>\n",
       "      <td>25.74</td>\n",
       "    </tr>\n",
       "    <tr>\n",
       "      <th>2831</th>\n",
       "      <td>Complete</td>\n",
       "      <td>2010-01-17</td>\n",
       "      <td>2.0</td>\n",
       "      <td>A310</td>\n",
       "      <td>W</td>\n",
       "      <td>MIL</td>\n",
       "      <td>25.74</td>\n",
       "    </tr>\n",
       "    <tr>\n",
       "      <th>2832</th>\n",
       "      <td>Complete</td>\n",
       "      <td>2010-01-17</td>\n",
       "      <td>2.0</td>\n",
       "      <td>A310</td>\n",
       "      <td>W</td>\n",
       "      <td>MIL</td>\n",
       "      <td>25.74</td>\n",
       "    </tr>\n",
       "    <tr>\n",
       "      <th>2833</th>\n",
       "      <td>Complete</td>\n",
       "      <td>2010-01-18</td>\n",
       "      <td>4.0</td>\n",
       "      <td>A310</td>\n",
       "      <td>W</td>\n",
       "      <td>MIL</td>\n",
       "      <td>25.74</td>\n",
       "    </tr>\n",
       "  </tbody>\n",
       "</table>\n",
       "</div>"
      ],
      "text/plain": [
       "     Request Status Arrival Date  Interarrival Time (hours) Aircraft Type  \\\n",
       "2829       Complete   2010-01-17                        7.0          A310   \n",
       "2830       Complete   2010-01-17                        3.0          A310   \n",
       "2831       Complete   2010-01-17                        2.0          A310   \n",
       "2832       Complete   2010-01-17                        2.0          A310   \n",
       "2833       Complete   2010-01-18                        4.0          A310   \n",
       "\n",
       "     A/C Size Affiliation  Avg Load (sTon)  \n",
       "2829        W         MIL            25.74  \n",
       "2830        W         MIL            25.74  \n",
       "2831        W         MIL            25.74  \n",
       "2832        W         MIL            25.74  \n",
       "2833        W         MIL            25.74  "
      ]
     },
     "execution_count": 367,
     "metadata": {},
     "output_type": "execute_result"
    }
   ],
   "source": [
    "plane_wide_mil_before = plane_wide_before[plane_wide_before['Affiliation'] == 'MIL']\n",
    "plane_wide_mil_before.head()"
   ]
  },
  {
   "cell_type": "code",
   "execution_count": 368,
   "id": "a94475a8",
   "metadata": {},
   "outputs": [
    {
     "data": {
      "text/html": [
       "<div>\n",
       "<style scoped>\n",
       "    .dataframe tbody tr th:only-of-type {\n",
       "        vertical-align: middle;\n",
       "    }\n",
       "\n",
       "    .dataframe tbody tr th {\n",
       "        vertical-align: top;\n",
       "    }\n",
       "\n",
       "    .dataframe thead th {\n",
       "        text-align: right;\n",
       "    }\n",
       "</style>\n",
       "<table border=\"1\" class=\"dataframe\">\n",
       "  <thead>\n",
       "    <tr style=\"text-align: right;\">\n",
       "      <th></th>\n",
       "      <th>Request Status</th>\n",
       "      <th>Arrival Date</th>\n",
       "      <th>Interarrival Time (hours)</th>\n",
       "      <th>Aircraft Type</th>\n",
       "      <th>A/C Size</th>\n",
       "      <th>Affiliation</th>\n",
       "      <th>Avg Load (sTon)</th>\n",
       "    </tr>\n",
       "  </thead>\n",
       "  <tbody>\n",
       "    <tr>\n",
       "      <th>1508</th>\n",
       "      <td>Complete</td>\n",
       "      <td>2010-01-29</td>\n",
       "      <td>51.25</td>\n",
       "      <td>IL76</td>\n",
       "      <td>W</td>\n",
       "      <td>MIL</td>\n",
       "      <td>14.82</td>\n",
       "    </tr>\n",
       "    <tr>\n",
       "      <th>3010</th>\n",
       "      <td>Complete</td>\n",
       "      <td>2010-01-30</td>\n",
       "      <td>14.75</td>\n",
       "      <td>B767</td>\n",
       "      <td>W</td>\n",
       "      <td>MIL</td>\n",
       "      <td>45.24</td>\n",
       "    </tr>\n",
       "    <tr>\n",
       "      <th>3011</th>\n",
       "      <td>Complete</td>\n",
       "      <td>2010-02-06</td>\n",
       "      <td>169.00</td>\n",
       "      <td>B767</td>\n",
       "      <td>W</td>\n",
       "      <td>MIL</td>\n",
       "      <td>45.24</td>\n",
       "    </tr>\n",
       "    <tr>\n",
       "      <th>3012</th>\n",
       "      <td>Complete</td>\n",
       "      <td>2010-02-09</td>\n",
       "      <td>82.00</td>\n",
       "      <td>B767</td>\n",
       "      <td>W</td>\n",
       "      <td>MIL</td>\n",
       "      <td>45.24</td>\n",
       "    </tr>\n",
       "    <tr>\n",
       "      <th>3013</th>\n",
       "      <td>Complete</td>\n",
       "      <td>2010-02-11</td>\n",
       "      <td>52.00</td>\n",
       "      <td>B767</td>\n",
       "      <td>W</td>\n",
       "      <td>MIL</td>\n",
       "      <td>45.24</td>\n",
       "    </tr>\n",
       "  </tbody>\n",
       "</table>\n",
       "</div>"
      ],
      "text/plain": [
       "     Request Status Arrival Date  Interarrival Time (hours) Aircraft Type  \\\n",
       "1508       Complete   2010-01-29                      51.25          IL76   \n",
       "3010       Complete   2010-01-30                      14.75          B767   \n",
       "3011       Complete   2010-02-06                     169.00          B767   \n",
       "3012       Complete   2010-02-09                      82.00          B767   \n",
       "3013       Complete   2010-02-11                      52.00          B767   \n",
       "\n",
       "     A/C Size Affiliation  Avg Load (sTon)  \n",
       "1508        W         MIL            14.82  \n",
       "3010        W         MIL            45.24  \n",
       "3011        W         MIL            45.24  \n",
       "3012        W         MIL            45.24  \n",
       "3013        W         MIL            45.24  "
      ]
     },
     "execution_count": 368,
     "metadata": {},
     "output_type": "execute_result"
    }
   ],
   "source": [
    "plane_wide_mil_after = plane_wide_after[plane_wide_after['Affiliation'] == 'MIL']\n",
    "plane_wide_mil_after.head()"
   ]
  },
  {
   "cell_type": "markdown",
   "id": "88a198ca",
   "metadata": {},
   "source": [
    "### Wide government planes"
   ]
  },
  {
   "cell_type": "code",
   "execution_count": 369,
   "id": "f7df7595",
   "metadata": {},
   "outputs": [
    {
     "data": {
      "text/html": [
       "<div>\n",
       "<style scoped>\n",
       "    .dataframe tbody tr th:only-of-type {\n",
       "        vertical-align: middle;\n",
       "    }\n",
       "\n",
       "    .dataframe tbody tr th {\n",
       "        vertical-align: top;\n",
       "    }\n",
       "\n",
       "    .dataframe thead th {\n",
       "        text-align: right;\n",
       "    }\n",
       "</style>\n",
       "<table border=\"1\" class=\"dataframe\">\n",
       "  <thead>\n",
       "    <tr style=\"text-align: right;\">\n",
       "      <th></th>\n",
       "      <th>Request Status</th>\n",
       "      <th>Arrival Date</th>\n",
       "      <th>Interarrival Time (hours)</th>\n",
       "      <th>Aircraft Type</th>\n",
       "      <th>A/C Size</th>\n",
       "      <th>Affiliation</th>\n",
       "      <th>Avg Load (sTon)</th>\n",
       "    </tr>\n",
       "  </thead>\n",
       "  <tbody>\n",
       "    <tr>\n",
       "      <th>1496</th>\n",
       "      <td>Complete</td>\n",
       "      <td>2010-02-22</td>\n",
       "      <td>8.000000</td>\n",
       "      <td>IL76</td>\n",
       "      <td>W</td>\n",
       "      <td>GOV</td>\n",
       "      <td>14.82</td>\n",
       "    </tr>\n",
       "    <tr>\n",
       "      <th>1874</th>\n",
       "      <td>Complete</td>\n",
       "      <td>2010-01-19</td>\n",
       "      <td>13.000000</td>\n",
       "      <td>B747</td>\n",
       "      <td>W</td>\n",
       "      <td>GOV</td>\n",
       "      <td>60.84</td>\n",
       "    </tr>\n",
       "    <tr>\n",
       "      <th>1875</th>\n",
       "      <td>Complete</td>\n",
       "      <td>2010-01-21</td>\n",
       "      <td>6.016667</td>\n",
       "      <td>B747</td>\n",
       "      <td>W</td>\n",
       "      <td>GOV</td>\n",
       "      <td>60.84</td>\n",
       "    </tr>\n",
       "    <tr>\n",
       "      <th>1876</th>\n",
       "      <td>Complete</td>\n",
       "      <td>2010-01-23</td>\n",
       "      <td>30.333333</td>\n",
       "      <td>B747</td>\n",
       "      <td>W</td>\n",
       "      <td>GOV</td>\n",
       "      <td>60.84</td>\n",
       "    </tr>\n",
       "    <tr>\n",
       "      <th>1877</th>\n",
       "      <td>Complete</td>\n",
       "      <td>2010-02-02</td>\n",
       "      <td>72.000000</td>\n",
       "      <td>B747</td>\n",
       "      <td>W</td>\n",
       "      <td>GOV</td>\n",
       "      <td>60.84</td>\n",
       "    </tr>\n",
       "  </tbody>\n",
       "</table>\n",
       "</div>"
      ],
      "text/plain": [
       "     Request Status Arrival Date  Interarrival Time (hours) Aircraft Type  \\\n",
       "1496       Complete   2010-02-22                   8.000000          IL76   \n",
       "1874       Complete   2010-01-19                  13.000000          B747   \n",
       "1875       Complete   2010-01-21                   6.016667          B747   \n",
       "1876       Complete   2010-01-23                  30.333333          B747   \n",
       "1877       Complete   2010-02-02                  72.000000          B747   \n",
       "\n",
       "     A/C Size Affiliation  Avg Load (sTon)  \n",
       "1496        W         GOV            14.82  \n",
       "1874        W         GOV            60.84  \n",
       "1875        W         GOV            60.84  \n",
       "1876        W         GOV            60.84  \n",
       "1877        W         GOV            60.84  "
      ]
     },
     "execution_count": 369,
     "metadata": {},
     "output_type": "execute_result"
    }
   ],
   "source": [
    "plane_wide_gov = plane_wide[plane_wide['Affiliation'] == 'GOV']\n",
    "plane_wide_gov.head()"
   ]
  },
  {
   "cell_type": "code",
   "execution_count": 370,
   "id": "639f8170",
   "metadata": {
    "scrolled": true
   },
   "outputs": [
    {
     "data": {
      "text/html": [
       "<div>\n",
       "<style scoped>\n",
       "    .dataframe tbody tr th:only-of-type {\n",
       "        vertical-align: middle;\n",
       "    }\n",
       "\n",
       "    .dataframe tbody tr th {\n",
       "        vertical-align: top;\n",
       "    }\n",
       "\n",
       "    .dataframe thead th {\n",
       "        text-align: right;\n",
       "    }\n",
       "</style>\n",
       "<table border=\"1\" class=\"dataframe\">\n",
       "  <thead>\n",
       "    <tr style=\"text-align: right;\">\n",
       "      <th></th>\n",
       "      <th>Request Status</th>\n",
       "      <th>Arrival Date</th>\n",
       "      <th>Interarrival Time (hours)</th>\n",
       "      <th>Aircraft Type</th>\n",
       "      <th>A/C Size</th>\n",
       "      <th>Affiliation</th>\n",
       "      <th>Avg Load (sTon)</th>\n",
       "    </tr>\n",
       "  </thead>\n",
       "  <tbody>\n",
       "    <tr>\n",
       "      <th>1874</th>\n",
       "      <td>Complete</td>\n",
       "      <td>2010-01-19</td>\n",
       "      <td>13.000000</td>\n",
       "      <td>B747</td>\n",
       "      <td>W</td>\n",
       "      <td>GOV</td>\n",
       "      <td>60.84</td>\n",
       "    </tr>\n",
       "    <tr>\n",
       "      <th>1875</th>\n",
       "      <td>Complete</td>\n",
       "      <td>2010-01-21</td>\n",
       "      <td>6.016667</td>\n",
       "      <td>B747</td>\n",
       "      <td>W</td>\n",
       "      <td>GOV</td>\n",
       "      <td>60.84</td>\n",
       "    </tr>\n",
       "    <tr>\n",
       "      <th>1876</th>\n",
       "      <td>Complete</td>\n",
       "      <td>2010-01-23</td>\n",
       "      <td>30.333333</td>\n",
       "      <td>B747</td>\n",
       "      <td>W</td>\n",
       "      <td>GOV</td>\n",
       "      <td>60.84</td>\n",
       "    </tr>\n",
       "    <tr>\n",
       "      <th>2825</th>\n",
       "      <td>Complete</td>\n",
       "      <td>2010-01-18</td>\n",
       "      <td>23.000000</td>\n",
       "      <td>A310</td>\n",
       "      <td>W</td>\n",
       "      <td>GOV</td>\n",
       "      <td>25.74</td>\n",
       "    </tr>\n",
       "    <tr>\n",
       "      <th>2826</th>\n",
       "      <td>Complete</td>\n",
       "      <td>2010-01-22</td>\n",
       "      <td>24.000000</td>\n",
       "      <td>A310</td>\n",
       "      <td>W</td>\n",
       "      <td>GOV</td>\n",
       "      <td>25.74</td>\n",
       "    </tr>\n",
       "  </tbody>\n",
       "</table>\n",
       "</div>"
      ],
      "text/plain": [
       "     Request Status Arrival Date  Interarrival Time (hours) Aircraft Type  \\\n",
       "1874       Complete   2010-01-19                  13.000000          B747   \n",
       "1875       Complete   2010-01-21                   6.016667          B747   \n",
       "1876       Complete   2010-01-23                  30.333333          B747   \n",
       "2825       Complete   2010-01-18                  23.000000          A310   \n",
       "2826       Complete   2010-01-22                  24.000000          A310   \n",
       "\n",
       "     A/C Size Affiliation  Avg Load (sTon)  \n",
       "1874        W         GOV            60.84  \n",
       "1875        W         GOV            60.84  \n",
       "1876        W         GOV            60.84  \n",
       "2825        W         GOV            25.74  \n",
       "2826        W         GOV            25.74  "
      ]
     },
     "execution_count": 370,
     "metadata": {},
     "output_type": "execute_result"
    }
   ],
   "source": [
    "plane_wide_gov_before = plane_wide_before[plane_wide_before['Affiliation'] == 'GOV']\n",
    "plane_wide_gov_before.head()"
   ]
  },
  {
   "cell_type": "code",
   "execution_count": 371,
   "id": "9cb6e132",
   "metadata": {},
   "outputs": [
    {
     "data": {
      "text/html": [
       "<div>\n",
       "<style scoped>\n",
       "    .dataframe tbody tr th:only-of-type {\n",
       "        vertical-align: middle;\n",
       "    }\n",
       "\n",
       "    .dataframe tbody tr th {\n",
       "        vertical-align: top;\n",
       "    }\n",
       "\n",
       "    .dataframe thead th {\n",
       "        text-align: right;\n",
       "    }\n",
       "</style>\n",
       "<table border=\"1\" class=\"dataframe\">\n",
       "  <thead>\n",
       "    <tr style=\"text-align: right;\">\n",
       "      <th></th>\n",
       "      <th>Request Status</th>\n",
       "      <th>Arrival Date</th>\n",
       "      <th>Interarrival Time (hours)</th>\n",
       "      <th>Aircraft Type</th>\n",
       "      <th>A/C Size</th>\n",
       "      <th>Affiliation</th>\n",
       "      <th>Avg Load (sTon)</th>\n",
       "    </tr>\n",
       "  </thead>\n",
       "  <tbody>\n",
       "    <tr>\n",
       "      <th>1496</th>\n",
       "      <td>Complete</td>\n",
       "      <td>2010-02-22</td>\n",
       "      <td>8.0</td>\n",
       "      <td>IL76</td>\n",
       "      <td>W</td>\n",
       "      <td>GOV</td>\n",
       "      <td>14.82</td>\n",
       "    </tr>\n",
       "    <tr>\n",
       "      <th>1877</th>\n",
       "      <td>Complete</td>\n",
       "      <td>2010-02-02</td>\n",
       "      <td>72.0</td>\n",
       "      <td>B747</td>\n",
       "      <td>W</td>\n",
       "      <td>GOV</td>\n",
       "      <td>60.84</td>\n",
       "    </tr>\n",
       "    <tr>\n",
       "      <th>1878</th>\n",
       "      <td>Complete</td>\n",
       "      <td>2010-02-08</td>\n",
       "      <td>16.0</td>\n",
       "      <td>B747</td>\n",
       "      <td>W</td>\n",
       "      <td>GOV</td>\n",
       "      <td>60.84</td>\n",
       "    </tr>\n",
       "    <tr>\n",
       "      <th>1879</th>\n",
       "      <td>Complete</td>\n",
       "      <td>2010-02-19</td>\n",
       "      <td>15.5</td>\n",
       "      <td>B747</td>\n",
       "      <td>W</td>\n",
       "      <td>GOV</td>\n",
       "      <td>60.84</td>\n",
       "    </tr>\n",
       "    <tr>\n",
       "      <th>1917</th>\n",
       "      <td>Complete</td>\n",
       "      <td>2010-02-22</td>\n",
       "      <td>20.0</td>\n",
       "      <td>DC8</td>\n",
       "      <td>W</td>\n",
       "      <td>GOV</td>\n",
       "      <td>68.64</td>\n",
       "    </tr>\n",
       "  </tbody>\n",
       "</table>\n",
       "</div>"
      ],
      "text/plain": [
       "     Request Status Arrival Date  Interarrival Time (hours) Aircraft Type  \\\n",
       "1496       Complete   2010-02-22                        8.0          IL76   \n",
       "1877       Complete   2010-02-02                       72.0          B747   \n",
       "1878       Complete   2010-02-08                       16.0          B747   \n",
       "1879       Complete   2010-02-19                       15.5          B747   \n",
       "1917       Complete   2010-02-22                       20.0           DC8   \n",
       "\n",
       "     A/C Size Affiliation  Avg Load (sTon)  \n",
       "1496        W         GOV            14.82  \n",
       "1877        W         GOV            60.84  \n",
       "1878        W         GOV            60.84  \n",
       "1879        W         GOV            60.84  \n",
       "1917        W         GOV            68.64  "
      ]
     },
     "execution_count": 371,
     "metadata": {},
     "output_type": "execute_result"
    }
   ],
   "source": [
    "plane_wide_gov_after = plane_wide_after[plane_wide_after['Affiliation'] == 'GOV']\n",
    "plane_wide_gov_after.head()"
   ]
  },
  {
   "cell_type": "markdown",
   "id": "90cfb159",
   "metadata": {},
   "source": [
    "### Wide non-governmental planes "
   ]
  },
  {
   "cell_type": "code",
   "execution_count": 372,
   "id": "3c23e8e7",
   "metadata": {},
   "outputs": [
    {
     "data": {
      "text/html": [
       "<div>\n",
       "<style scoped>\n",
       "    .dataframe tbody tr th:only-of-type {\n",
       "        vertical-align: middle;\n",
       "    }\n",
       "\n",
       "    .dataframe tbody tr th {\n",
       "        vertical-align: top;\n",
       "    }\n",
       "\n",
       "    .dataframe thead th {\n",
       "        text-align: right;\n",
       "    }\n",
       "</style>\n",
       "<table border=\"1\" class=\"dataframe\">\n",
       "  <thead>\n",
       "    <tr style=\"text-align: right;\">\n",
       "      <th></th>\n",
       "      <th>Request Status</th>\n",
       "      <th>Arrival Date</th>\n",
       "      <th>Interarrival Time (hours)</th>\n",
       "      <th>Aircraft Type</th>\n",
       "      <th>A/C Size</th>\n",
       "      <th>Affiliation</th>\n",
       "      <th>Avg Load (sTon)</th>\n",
       "    </tr>\n",
       "  </thead>\n",
       "  <tbody>\n",
       "    <tr>\n",
       "      <th>1820</th>\n",
       "      <td>Complete</td>\n",
       "      <td>2010-01-29</td>\n",
       "      <td>19.000000</td>\n",
       "      <td>CHALLENGER</td>\n",
       "      <td>W</td>\n",
       "      <td>NGO</td>\n",
       "      <td>0.156</td>\n",
       "    </tr>\n",
       "    <tr>\n",
       "      <th>1881</th>\n",
       "      <td>Complete</td>\n",
       "      <td>2010-01-20</td>\n",
       "      <td>3.000000</td>\n",
       "      <td>B747</td>\n",
       "      <td>W</td>\n",
       "      <td>NGO</td>\n",
       "      <td>60.840</td>\n",
       "    </tr>\n",
       "    <tr>\n",
       "      <th>1882</th>\n",
       "      <td>Complete</td>\n",
       "      <td>2010-01-22</td>\n",
       "      <td>4.000000</td>\n",
       "      <td>B747</td>\n",
       "      <td>W</td>\n",
       "      <td>NGO</td>\n",
       "      <td>60.840</td>\n",
       "    </tr>\n",
       "    <tr>\n",
       "      <th>1883</th>\n",
       "      <td>Complete</td>\n",
       "      <td>2010-01-26</td>\n",
       "      <td>11.983333</td>\n",
       "      <td>B747</td>\n",
       "      <td>W</td>\n",
       "      <td>NGO</td>\n",
       "      <td>60.840</td>\n",
       "    </tr>\n",
       "    <tr>\n",
       "      <th>1884</th>\n",
       "      <td>Complete</td>\n",
       "      <td>2010-01-30</td>\n",
       "      <td>4.016667</td>\n",
       "      <td>B747</td>\n",
       "      <td>W</td>\n",
       "      <td>NGO</td>\n",
       "      <td>60.840</td>\n",
       "    </tr>\n",
       "  </tbody>\n",
       "</table>\n",
       "</div>"
      ],
      "text/plain": [
       "     Request Status Arrival Date  Interarrival Time (hours) Aircraft Type  \\\n",
       "1820       Complete   2010-01-29                  19.000000    CHALLENGER   \n",
       "1881       Complete   2010-01-20                   3.000000          B747   \n",
       "1882       Complete   2010-01-22                   4.000000          B747   \n",
       "1883       Complete   2010-01-26                  11.983333          B747   \n",
       "1884       Complete   2010-01-30                   4.016667          B747   \n",
       "\n",
       "     A/C Size Affiliation  Avg Load (sTon)  \n",
       "1820        W         NGO            0.156  \n",
       "1881        W         NGO           60.840  \n",
       "1882        W         NGO           60.840  \n",
       "1883        W         NGO           60.840  \n",
       "1884        W         NGO           60.840  "
      ]
     },
     "execution_count": 372,
     "metadata": {},
     "output_type": "execute_result"
    }
   ],
   "source": [
    "plane_wide_ngo = plane_wide[plane_wide['Affiliation'] == 'NGO']\n",
    "plane_wide_ngo.head()"
   ]
  },
  {
   "cell_type": "code",
   "execution_count": 373,
   "id": "0b3d8ea1",
   "metadata": {
    "scrolled": true
   },
   "outputs": [
    {
     "data": {
      "text/html": [
       "<div>\n",
       "<style scoped>\n",
       "    .dataframe tbody tr th:only-of-type {\n",
       "        vertical-align: middle;\n",
       "    }\n",
       "\n",
       "    .dataframe tbody tr th {\n",
       "        vertical-align: top;\n",
       "    }\n",
       "\n",
       "    .dataframe thead th {\n",
       "        text-align: right;\n",
       "    }\n",
       "</style>\n",
       "<table border=\"1\" class=\"dataframe\">\n",
       "  <thead>\n",
       "    <tr style=\"text-align: right;\">\n",
       "      <th></th>\n",
       "      <th>Request Status</th>\n",
       "      <th>Arrival Date</th>\n",
       "      <th>Interarrival Time (hours)</th>\n",
       "      <th>Aircraft Type</th>\n",
       "      <th>A/C Size</th>\n",
       "      <th>Affiliation</th>\n",
       "      <th>Avg Load (sTon)</th>\n",
       "    </tr>\n",
       "  </thead>\n",
       "  <tbody>\n",
       "    <tr>\n",
       "      <th>1881</th>\n",
       "      <td>Complete</td>\n",
       "      <td>2010-01-20</td>\n",
       "      <td>3.000000</td>\n",
       "      <td>B747</td>\n",
       "      <td>W</td>\n",
       "      <td>NGO</td>\n",
       "      <td>60.84</td>\n",
       "    </tr>\n",
       "    <tr>\n",
       "      <th>1882</th>\n",
       "      <td>Complete</td>\n",
       "      <td>2010-01-22</td>\n",
       "      <td>4.000000</td>\n",
       "      <td>B747</td>\n",
       "      <td>W</td>\n",
       "      <td>NGO</td>\n",
       "      <td>60.84</td>\n",
       "    </tr>\n",
       "    <tr>\n",
       "      <th>1883</th>\n",
       "      <td>Complete</td>\n",
       "      <td>2010-01-26</td>\n",
       "      <td>11.983333</td>\n",
       "      <td>B747</td>\n",
       "      <td>W</td>\n",
       "      <td>NGO</td>\n",
       "      <td>60.84</td>\n",
       "    </tr>\n",
       "    <tr>\n",
       "      <th>2944</th>\n",
       "      <td>Complete</td>\n",
       "      <td>2010-01-17</td>\n",
       "      <td>2.000000</td>\n",
       "      <td>B757</td>\n",
       "      <td>W</td>\n",
       "      <td>NGO</td>\n",
       "      <td>20.07</td>\n",
       "    </tr>\n",
       "    <tr>\n",
       "      <th>2945</th>\n",
       "      <td>Complete</td>\n",
       "      <td>2010-01-20</td>\n",
       "      <td>4.000000</td>\n",
       "      <td>B757</td>\n",
       "      <td>W</td>\n",
       "      <td>NGO</td>\n",
       "      <td>20.07</td>\n",
       "    </tr>\n",
       "  </tbody>\n",
       "</table>\n",
       "</div>"
      ],
      "text/plain": [
       "     Request Status Arrival Date  Interarrival Time (hours) Aircraft Type  \\\n",
       "1881       Complete   2010-01-20                   3.000000          B747   \n",
       "1882       Complete   2010-01-22                   4.000000          B747   \n",
       "1883       Complete   2010-01-26                  11.983333          B747   \n",
       "2944       Complete   2010-01-17                   2.000000          B757   \n",
       "2945       Complete   2010-01-20                   4.000000          B757   \n",
       "\n",
       "     A/C Size Affiliation  Avg Load (sTon)  \n",
       "1881        W         NGO            60.84  \n",
       "1882        W         NGO            60.84  \n",
       "1883        W         NGO            60.84  \n",
       "2944        W         NGO            20.07  \n",
       "2945        W         NGO            20.07  "
      ]
     },
     "execution_count": 373,
     "metadata": {},
     "output_type": "execute_result"
    }
   ],
   "source": [
    "plane_wide_ngo_before = plane_wide_before[plane_wide_before['Affiliation'] == 'NGO']\n",
    "plane_wide_ngo_before.head()"
   ]
  },
  {
   "cell_type": "code",
   "execution_count": 374,
   "id": "9fc1af6b",
   "metadata": {},
   "outputs": [
    {
     "data": {
      "text/html": [
       "<div>\n",
       "<style scoped>\n",
       "    .dataframe tbody tr th:only-of-type {\n",
       "        vertical-align: middle;\n",
       "    }\n",
       "\n",
       "    .dataframe tbody tr th {\n",
       "        vertical-align: top;\n",
       "    }\n",
       "\n",
       "    .dataframe thead th {\n",
       "        text-align: right;\n",
       "    }\n",
       "</style>\n",
       "<table border=\"1\" class=\"dataframe\">\n",
       "  <thead>\n",
       "    <tr style=\"text-align: right;\">\n",
       "      <th></th>\n",
       "      <th>Request Status</th>\n",
       "      <th>Arrival Date</th>\n",
       "      <th>Interarrival Time (hours)</th>\n",
       "      <th>Aircraft Type</th>\n",
       "      <th>A/C Size</th>\n",
       "      <th>Affiliation</th>\n",
       "      <th>Avg Load (sTon)</th>\n",
       "    </tr>\n",
       "  </thead>\n",
       "  <tbody>\n",
       "    <tr>\n",
       "      <th>1820</th>\n",
       "      <td>Complete</td>\n",
       "      <td>2010-01-29</td>\n",
       "      <td>19.000000</td>\n",
       "      <td>CHALLENGER</td>\n",
       "      <td>W</td>\n",
       "      <td>NGO</td>\n",
       "      <td>0.156</td>\n",
       "    </tr>\n",
       "    <tr>\n",
       "      <th>1884</th>\n",
       "      <td>Complete</td>\n",
       "      <td>2010-01-30</td>\n",
       "      <td>4.016667</td>\n",
       "      <td>B747</td>\n",
       "      <td>W</td>\n",
       "      <td>NGO</td>\n",
       "      <td>60.840</td>\n",
       "    </tr>\n",
       "    <tr>\n",
       "      <th>1885</th>\n",
       "      <td>Complete</td>\n",
       "      <td>2010-01-30</td>\n",
       "      <td>4.000000</td>\n",
       "      <td>B747</td>\n",
       "      <td>W</td>\n",
       "      <td>NGO</td>\n",
       "      <td>60.840</td>\n",
       "    </tr>\n",
       "    <tr>\n",
       "      <th>1886</th>\n",
       "      <td>Complete</td>\n",
       "      <td>2010-01-31</td>\n",
       "      <td>4.016667</td>\n",
       "      <td>B747</td>\n",
       "      <td>W</td>\n",
       "      <td>NGO</td>\n",
       "      <td>60.840</td>\n",
       "    </tr>\n",
       "    <tr>\n",
       "      <th>1887</th>\n",
       "      <td>Complete</td>\n",
       "      <td>2010-02-01</td>\n",
       "      <td>8.016667</td>\n",
       "      <td>B747</td>\n",
       "      <td>W</td>\n",
       "      <td>NGO</td>\n",
       "      <td>60.840</td>\n",
       "    </tr>\n",
       "  </tbody>\n",
       "</table>\n",
       "</div>"
      ],
      "text/plain": [
       "     Request Status Arrival Date  Interarrival Time (hours) Aircraft Type  \\\n",
       "1820       Complete   2010-01-29                  19.000000    CHALLENGER   \n",
       "1884       Complete   2010-01-30                   4.016667          B747   \n",
       "1885       Complete   2010-01-30                   4.000000          B747   \n",
       "1886       Complete   2010-01-31                   4.016667          B747   \n",
       "1887       Complete   2010-02-01                   8.016667          B747   \n",
       "\n",
       "     A/C Size Affiliation  Avg Load (sTon)  \n",
       "1820        W         NGO            0.156  \n",
       "1884        W         NGO           60.840  \n",
       "1885        W         NGO           60.840  \n",
       "1886        W         NGO           60.840  \n",
       "1887        W         NGO           60.840  "
      ]
     },
     "execution_count": 374,
     "metadata": {},
     "output_type": "execute_result"
    }
   ],
   "source": [
    "plane_wide_ngo_after = plane_wide_after[plane_wide_after['Affiliation'] == 'NGO']\n",
    "plane_wide_ngo_after.head()"
   ]
  },
  {
   "cell_type": "markdown",
   "id": "a34e0f68",
   "metadata": {},
   "source": [
    "### Narrow military planes"
   ]
  },
  {
   "cell_type": "code",
   "execution_count": 375,
   "id": "bb1a72de",
   "metadata": {},
   "outputs": [
    {
     "data": {
      "text/html": [
       "<div>\n",
       "<style scoped>\n",
       "    .dataframe tbody tr th:only-of-type {\n",
       "        vertical-align: middle;\n",
       "    }\n",
       "\n",
       "    .dataframe tbody tr th {\n",
       "        vertical-align: top;\n",
       "    }\n",
       "\n",
       "    .dataframe thead th {\n",
       "        text-align: right;\n",
       "    }\n",
       "</style>\n",
       "<table border=\"1\" class=\"dataframe\">\n",
       "  <thead>\n",
       "    <tr style=\"text-align: right;\">\n",
       "      <th></th>\n",
       "      <th>Request Status</th>\n",
       "      <th>Arrival Date</th>\n",
       "      <th>Interarrival Time (hours)</th>\n",
       "      <th>Aircraft Type</th>\n",
       "      <th>A/C Size</th>\n",
       "      <th>Affiliation</th>\n",
       "      <th>Avg Load (sTon)</th>\n",
       "    </tr>\n",
       "  </thead>\n",
       "  <tbody>\n",
       "    <tr>\n",
       "      <th>308</th>\n",
       "      <td>Complete</td>\n",
       "      <td>2010-01-16</td>\n",
       "      <td>1.0</td>\n",
       "      <td>C130</td>\n",
       "      <td>N</td>\n",
       "      <td>MIL</td>\n",
       "      <td>7.0</td>\n",
       "    </tr>\n",
       "    <tr>\n",
       "      <th>310</th>\n",
       "      <td>Complete</td>\n",
       "      <td>2010-01-16</td>\n",
       "      <td>1.0</td>\n",
       "      <td>C130</td>\n",
       "      <td>N</td>\n",
       "      <td>MIL</td>\n",
       "      <td>7.0</td>\n",
       "    </tr>\n",
       "    <tr>\n",
       "      <th>312</th>\n",
       "      <td>Complete</td>\n",
       "      <td>2010-01-16</td>\n",
       "      <td>1.0</td>\n",
       "      <td>C130</td>\n",
       "      <td>N</td>\n",
       "      <td>MIL</td>\n",
       "      <td>7.0</td>\n",
       "    </tr>\n",
       "    <tr>\n",
       "      <th>314</th>\n",
       "      <td>Complete</td>\n",
       "      <td>2010-01-16</td>\n",
       "      <td>0.0</td>\n",
       "      <td>C130</td>\n",
       "      <td>N</td>\n",
       "      <td>MIL</td>\n",
       "      <td>7.0</td>\n",
       "    </tr>\n",
       "    <tr>\n",
       "      <th>316</th>\n",
       "      <td>Complete</td>\n",
       "      <td>2010-01-16</td>\n",
       "      <td>1.0</td>\n",
       "      <td>C130</td>\n",
       "      <td>N</td>\n",
       "      <td>MIL</td>\n",
       "      <td>7.0</td>\n",
       "    </tr>\n",
       "  </tbody>\n",
       "</table>\n",
       "</div>"
      ],
      "text/plain": [
       "    Request Status Arrival Date  Interarrival Time (hours) Aircraft Type  \\\n",
       "308       Complete   2010-01-16                        1.0          C130   \n",
       "310       Complete   2010-01-16                        1.0          C130   \n",
       "312       Complete   2010-01-16                        1.0          C130   \n",
       "314       Complete   2010-01-16                        0.0          C130   \n",
       "316       Complete   2010-01-16                        1.0          C130   \n",
       "\n",
       "    A/C Size Affiliation  Avg Load (sTon)  \n",
       "308        N         MIL              7.0  \n",
       "310        N         MIL              7.0  \n",
       "312        N         MIL              7.0  \n",
       "314        N         MIL              7.0  \n",
       "316        N         MIL              7.0  "
      ]
     },
     "execution_count": 375,
     "metadata": {},
     "output_type": "execute_result"
    }
   ],
   "source": [
    "plane_narrow_mil = plane_narrow[plane_narrow['Affiliation'] == 'MIL']\n",
    "plane_narrow_mil.head()"
   ]
  },
  {
   "cell_type": "code",
   "execution_count": 376,
   "id": "96fbbc02",
   "metadata": {
    "scrolled": true
   },
   "outputs": [
    {
     "data": {
      "text/html": [
       "<div>\n",
       "<style scoped>\n",
       "    .dataframe tbody tr th:only-of-type {\n",
       "        vertical-align: middle;\n",
       "    }\n",
       "\n",
       "    .dataframe tbody tr th {\n",
       "        vertical-align: top;\n",
       "    }\n",
       "\n",
       "    .dataframe thead th {\n",
       "        text-align: right;\n",
       "    }\n",
       "</style>\n",
       "<table border=\"1\" class=\"dataframe\">\n",
       "  <thead>\n",
       "    <tr style=\"text-align: right;\">\n",
       "      <th></th>\n",
       "      <th>Request Status</th>\n",
       "      <th>Arrival Date</th>\n",
       "      <th>Interarrival Time (hours)</th>\n",
       "      <th>Aircraft Type</th>\n",
       "      <th>A/C Size</th>\n",
       "      <th>Affiliation</th>\n",
       "      <th>Avg Load (sTon)</th>\n",
       "    </tr>\n",
       "  </thead>\n",
       "  <tbody>\n",
       "    <tr>\n",
       "      <th>308</th>\n",
       "      <td>Complete</td>\n",
       "      <td>2010-01-16</td>\n",
       "      <td>1.0</td>\n",
       "      <td>C130</td>\n",
       "      <td>N</td>\n",
       "      <td>MIL</td>\n",
       "      <td>7.0</td>\n",
       "    </tr>\n",
       "    <tr>\n",
       "      <th>310</th>\n",
       "      <td>Complete</td>\n",
       "      <td>2010-01-16</td>\n",
       "      <td>1.0</td>\n",
       "      <td>C130</td>\n",
       "      <td>N</td>\n",
       "      <td>MIL</td>\n",
       "      <td>7.0</td>\n",
       "    </tr>\n",
       "    <tr>\n",
       "      <th>312</th>\n",
       "      <td>Complete</td>\n",
       "      <td>2010-01-16</td>\n",
       "      <td>1.0</td>\n",
       "      <td>C130</td>\n",
       "      <td>N</td>\n",
       "      <td>MIL</td>\n",
       "      <td>7.0</td>\n",
       "    </tr>\n",
       "    <tr>\n",
       "      <th>314</th>\n",
       "      <td>Complete</td>\n",
       "      <td>2010-01-16</td>\n",
       "      <td>0.0</td>\n",
       "      <td>C130</td>\n",
       "      <td>N</td>\n",
       "      <td>MIL</td>\n",
       "      <td>7.0</td>\n",
       "    </tr>\n",
       "    <tr>\n",
       "      <th>316</th>\n",
       "      <td>Complete</td>\n",
       "      <td>2010-01-16</td>\n",
       "      <td>1.0</td>\n",
       "      <td>C130</td>\n",
       "      <td>N</td>\n",
       "      <td>MIL</td>\n",
       "      <td>7.0</td>\n",
       "    </tr>\n",
       "  </tbody>\n",
       "</table>\n",
       "</div>"
      ],
      "text/plain": [
       "    Request Status Arrival Date  Interarrival Time (hours) Aircraft Type  \\\n",
       "308       Complete   2010-01-16                        1.0          C130   \n",
       "310       Complete   2010-01-16                        1.0          C130   \n",
       "312       Complete   2010-01-16                        1.0          C130   \n",
       "314       Complete   2010-01-16                        0.0          C130   \n",
       "316       Complete   2010-01-16                        1.0          C130   \n",
       "\n",
       "    A/C Size Affiliation  Avg Load (sTon)  \n",
       "308        N         MIL              7.0  \n",
       "310        N         MIL              7.0  \n",
       "312        N         MIL              7.0  \n",
       "314        N         MIL              7.0  \n",
       "316        N         MIL              7.0  "
      ]
     },
     "execution_count": 376,
     "metadata": {},
     "output_type": "execute_result"
    }
   ],
   "source": [
    "plane_narrow_mil_before = plane_narrow_before[plane_narrow_before['Affiliation'] == 'MIL']\n",
    "plane_narrow_mil_before.head()"
   ]
  },
  {
   "cell_type": "code",
   "execution_count": 377,
   "id": "58f6c3b6",
   "metadata": {},
   "outputs": [
    {
     "data": {
      "text/html": [
       "<div>\n",
       "<style scoped>\n",
       "    .dataframe tbody tr th:only-of-type {\n",
       "        vertical-align: middle;\n",
       "    }\n",
       "\n",
       "    .dataframe tbody tr th {\n",
       "        vertical-align: top;\n",
       "    }\n",
       "\n",
       "    .dataframe thead th {\n",
       "        text-align: right;\n",
       "    }\n",
       "</style>\n",
       "<table border=\"1\" class=\"dataframe\">\n",
       "  <thead>\n",
       "    <tr style=\"text-align: right;\">\n",
       "      <th></th>\n",
       "      <th>Request Status</th>\n",
       "      <th>Arrival Date</th>\n",
       "      <th>Interarrival Time (hours)</th>\n",
       "      <th>Aircraft Type</th>\n",
       "      <th>A/C Size</th>\n",
       "      <th>Affiliation</th>\n",
       "      <th>Avg Load (sTon)</th>\n",
       "    </tr>\n",
       "  </thead>\n",
       "  <tbody>\n",
       "    <tr>\n",
       "      <th>742</th>\n",
       "      <td>Complete</td>\n",
       "      <td>2010-01-28</td>\n",
       "      <td>2.50</td>\n",
       "      <td>C130</td>\n",
       "      <td>N</td>\n",
       "      <td>MIL</td>\n",
       "      <td>7.0</td>\n",
       "    </tr>\n",
       "    <tr>\n",
       "      <th>744</th>\n",
       "      <td>Complete</td>\n",
       "      <td>2010-01-28</td>\n",
       "      <td>0.00</td>\n",
       "      <td>C130</td>\n",
       "      <td>N</td>\n",
       "      <td>MIL</td>\n",
       "      <td>7.0</td>\n",
       "    </tr>\n",
       "    <tr>\n",
       "      <th>746</th>\n",
       "      <td>Complete</td>\n",
       "      <td>2010-01-28</td>\n",
       "      <td>0.25</td>\n",
       "      <td>C130</td>\n",
       "      <td>N</td>\n",
       "      <td>MIL</td>\n",
       "      <td>7.0</td>\n",
       "    </tr>\n",
       "    <tr>\n",
       "      <th>748</th>\n",
       "      <td>Complete</td>\n",
       "      <td>2010-01-28</td>\n",
       "      <td>0.75</td>\n",
       "      <td>C130</td>\n",
       "      <td>N</td>\n",
       "      <td>MIL</td>\n",
       "      <td>7.0</td>\n",
       "    </tr>\n",
       "    <tr>\n",
       "      <th>750</th>\n",
       "      <td>Complete</td>\n",
       "      <td>2010-01-29</td>\n",
       "      <td>2.00</td>\n",
       "      <td>C130</td>\n",
       "      <td>N</td>\n",
       "      <td>MIL</td>\n",
       "      <td>7.0</td>\n",
       "    </tr>\n",
       "  </tbody>\n",
       "</table>\n",
       "</div>"
      ],
      "text/plain": [
       "    Request Status Arrival Date  Interarrival Time (hours) Aircraft Type  \\\n",
       "742       Complete   2010-01-28                       2.50          C130   \n",
       "744       Complete   2010-01-28                       0.00          C130   \n",
       "746       Complete   2010-01-28                       0.25          C130   \n",
       "748       Complete   2010-01-28                       0.75          C130   \n",
       "750       Complete   2010-01-29                       2.00          C130   \n",
       "\n",
       "    A/C Size Affiliation  Avg Load (sTon)  \n",
       "742        N         MIL              7.0  \n",
       "744        N         MIL              7.0  \n",
       "746        N         MIL              7.0  \n",
       "748        N         MIL              7.0  \n",
       "750        N         MIL              7.0  "
      ]
     },
     "execution_count": 377,
     "metadata": {},
     "output_type": "execute_result"
    }
   ],
   "source": [
    "plane_narrow_mil_after = plane_narrow_after[plane_narrow_after['Affiliation'] == 'MIL']\n",
    "plane_narrow_mil_after.head()"
   ]
  },
  {
   "cell_type": "markdown",
   "id": "b62e7e70",
   "metadata": {},
   "source": [
    "### Narrow government planes"
   ]
  },
  {
   "cell_type": "code",
   "execution_count": 378,
   "id": "66ac34bc",
   "metadata": {},
   "outputs": [
    {
     "data": {
      "text/html": [
       "<div>\n",
       "<style scoped>\n",
       "    .dataframe tbody tr th:only-of-type {\n",
       "        vertical-align: middle;\n",
       "    }\n",
       "\n",
       "    .dataframe tbody tr th {\n",
       "        vertical-align: top;\n",
       "    }\n",
       "\n",
       "    .dataframe thead th {\n",
       "        text-align: right;\n",
       "    }\n",
       "</style>\n",
       "<table border=\"1\" class=\"dataframe\">\n",
       "  <thead>\n",
       "    <tr style=\"text-align: right;\">\n",
       "      <th></th>\n",
       "      <th>Request Status</th>\n",
       "      <th>Arrival Date</th>\n",
       "      <th>Interarrival Time (hours)</th>\n",
       "      <th>Aircraft Type</th>\n",
       "      <th>A/C Size</th>\n",
       "      <th>Affiliation</th>\n",
       "      <th>Avg Load (sTon)</th>\n",
       "    </tr>\n",
       "  </thead>\n",
       "  <tbody>\n",
       "    <tr>\n",
       "      <th>0</th>\n",
       "      <td>Complete</td>\n",
       "      <td>2010-01-16</td>\n",
       "      <td>0.000000</td>\n",
       "      <td>GULFSTREAM</td>\n",
       "      <td>N</td>\n",
       "      <td>GOV</td>\n",
       "      <td>0.39</td>\n",
       "    </tr>\n",
       "    <tr>\n",
       "      <th>2</th>\n",
       "      <td>Complete</td>\n",
       "      <td>2010-01-18</td>\n",
       "      <td>2.666667</td>\n",
       "      <td>GULFSTREAM</td>\n",
       "      <td>N</td>\n",
       "      <td>GOV</td>\n",
       "      <td>0.39</td>\n",
       "    </tr>\n",
       "    <tr>\n",
       "      <th>4</th>\n",
       "      <td>Complete</td>\n",
       "      <td>2010-01-23</td>\n",
       "      <td>3.000000</td>\n",
       "      <td>GULFSTREAM</td>\n",
       "      <td>N</td>\n",
       "      <td>GOV</td>\n",
       "      <td>0.39</td>\n",
       "    </tr>\n",
       "    <tr>\n",
       "      <th>6</th>\n",
       "      <td>Complete</td>\n",
       "      <td>2010-01-24</td>\n",
       "      <td>5.666667</td>\n",
       "      <td>GULFSTREAM</td>\n",
       "      <td>N</td>\n",
       "      <td>GOV</td>\n",
       "      <td>0.39</td>\n",
       "    </tr>\n",
       "    <tr>\n",
       "      <th>8</th>\n",
       "      <td>Complete</td>\n",
       "      <td>2010-01-30</td>\n",
       "      <td>1.500000</td>\n",
       "      <td>GULFSTREAM</td>\n",
       "      <td>N</td>\n",
       "      <td>GOV</td>\n",
       "      <td>0.39</td>\n",
       "    </tr>\n",
       "  </tbody>\n",
       "</table>\n",
       "</div>"
      ],
      "text/plain": [
       "  Request Status Arrival Date  Interarrival Time (hours) Aircraft Type  \\\n",
       "0       Complete   2010-01-16                   0.000000    GULFSTREAM   \n",
       "2       Complete   2010-01-18                   2.666667    GULFSTREAM   \n",
       "4       Complete   2010-01-23                   3.000000    GULFSTREAM   \n",
       "6       Complete   2010-01-24                   5.666667    GULFSTREAM   \n",
       "8       Complete   2010-01-30                   1.500000    GULFSTREAM   \n",
       "\n",
       "  A/C Size Affiliation  Avg Load (sTon)  \n",
       "0        N         GOV             0.39  \n",
       "2        N         GOV             0.39  \n",
       "4        N         GOV             0.39  \n",
       "6        N         GOV             0.39  \n",
       "8        N         GOV             0.39  "
      ]
     },
     "execution_count": 378,
     "metadata": {},
     "output_type": "execute_result"
    }
   ],
   "source": [
    "plane_narrow_gov = plane_narrow[plane_narrow['Affiliation'] == 'GOV']\n",
    "plane_narrow_gov.head()"
   ]
  },
  {
   "cell_type": "code",
   "execution_count": 379,
   "id": "9a85a153",
   "metadata": {
    "scrolled": true
   },
   "outputs": [
    {
     "data": {
      "text/html": [
       "<div>\n",
       "<style scoped>\n",
       "    .dataframe tbody tr th:only-of-type {\n",
       "        vertical-align: middle;\n",
       "    }\n",
       "\n",
       "    .dataframe tbody tr th {\n",
       "        vertical-align: top;\n",
       "    }\n",
       "\n",
       "    .dataframe thead th {\n",
       "        text-align: right;\n",
       "    }\n",
       "</style>\n",
       "<table border=\"1\" class=\"dataframe\">\n",
       "  <thead>\n",
       "    <tr style=\"text-align: right;\">\n",
       "      <th></th>\n",
       "      <th>Request Status</th>\n",
       "      <th>Arrival Date</th>\n",
       "      <th>Interarrival Time (hours)</th>\n",
       "      <th>Aircraft Type</th>\n",
       "      <th>A/C Size</th>\n",
       "      <th>Affiliation</th>\n",
       "      <th>Avg Load (sTon)</th>\n",
       "    </tr>\n",
       "  </thead>\n",
       "  <tbody>\n",
       "    <tr>\n",
       "      <th>0</th>\n",
       "      <td>Complete</td>\n",
       "      <td>2010-01-16</td>\n",
       "      <td>0.000000</td>\n",
       "      <td>GULFSTREAM</td>\n",
       "      <td>N</td>\n",
       "      <td>GOV</td>\n",
       "      <td>0.39</td>\n",
       "    </tr>\n",
       "    <tr>\n",
       "      <th>2</th>\n",
       "      <td>Complete</td>\n",
       "      <td>2010-01-18</td>\n",
       "      <td>2.666667</td>\n",
       "      <td>GULFSTREAM</td>\n",
       "      <td>N</td>\n",
       "      <td>GOV</td>\n",
       "      <td>0.39</td>\n",
       "    </tr>\n",
       "    <tr>\n",
       "      <th>4</th>\n",
       "      <td>Complete</td>\n",
       "      <td>2010-01-23</td>\n",
       "      <td>3.000000</td>\n",
       "      <td>GULFSTREAM</td>\n",
       "      <td>N</td>\n",
       "      <td>GOV</td>\n",
       "      <td>0.39</td>\n",
       "    </tr>\n",
       "    <tr>\n",
       "      <th>6</th>\n",
       "      <td>Complete</td>\n",
       "      <td>2010-01-24</td>\n",
       "      <td>5.666667</td>\n",
       "      <td>GULFSTREAM</td>\n",
       "      <td>N</td>\n",
       "      <td>GOV</td>\n",
       "      <td>0.39</td>\n",
       "    </tr>\n",
       "    <tr>\n",
       "      <th>172</th>\n",
       "      <td>Complete</td>\n",
       "      <td>2010-01-16</td>\n",
       "      <td>8.000000</td>\n",
       "      <td>C130</td>\n",
       "      <td>N</td>\n",
       "      <td>GOV</td>\n",
       "      <td>7.00</td>\n",
       "    </tr>\n",
       "  </tbody>\n",
       "</table>\n",
       "</div>"
      ],
      "text/plain": [
       "    Request Status Arrival Date  Interarrival Time (hours) Aircraft Type  \\\n",
       "0         Complete   2010-01-16                   0.000000    GULFSTREAM   \n",
       "2         Complete   2010-01-18                   2.666667    GULFSTREAM   \n",
       "4         Complete   2010-01-23                   3.000000    GULFSTREAM   \n",
       "6         Complete   2010-01-24                   5.666667    GULFSTREAM   \n",
       "172       Complete   2010-01-16                   8.000000          C130   \n",
       "\n",
       "    A/C Size Affiliation  Avg Load (sTon)  \n",
       "0          N         GOV             0.39  \n",
       "2          N         GOV             0.39  \n",
       "4          N         GOV             0.39  \n",
       "6          N         GOV             0.39  \n",
       "172        N         GOV             7.00  "
      ]
     },
     "execution_count": 379,
     "metadata": {},
     "output_type": "execute_result"
    }
   ],
   "source": [
    "plane_narrow_gov_before = plane_narrow_before[plane_narrow_before['Affiliation'] == 'GOV']\n",
    "plane_narrow_gov_before.head()"
   ]
  },
  {
   "cell_type": "code",
   "execution_count": 380,
   "id": "4b164603",
   "metadata": {},
   "outputs": [
    {
     "data": {
      "text/html": [
       "<div>\n",
       "<style scoped>\n",
       "    .dataframe tbody tr th:only-of-type {\n",
       "        vertical-align: middle;\n",
       "    }\n",
       "\n",
       "    .dataframe tbody tr th {\n",
       "        vertical-align: top;\n",
       "    }\n",
       "\n",
       "    .dataframe thead th {\n",
       "        text-align: right;\n",
       "    }\n",
       "</style>\n",
       "<table border=\"1\" class=\"dataframe\">\n",
       "  <thead>\n",
       "    <tr style=\"text-align: right;\">\n",
       "      <th></th>\n",
       "      <th>Request Status</th>\n",
       "      <th>Arrival Date</th>\n",
       "      <th>Interarrival Time (hours)</th>\n",
       "      <th>Aircraft Type</th>\n",
       "      <th>A/C Size</th>\n",
       "      <th>Affiliation</th>\n",
       "      <th>Avg Load (sTon)</th>\n",
       "    </tr>\n",
       "  </thead>\n",
       "  <tbody>\n",
       "    <tr>\n",
       "      <th>8</th>\n",
       "      <td>Complete</td>\n",
       "      <td>2010-01-30</td>\n",
       "      <td>1.50</td>\n",
       "      <td>GULFSTREAM</td>\n",
       "      <td>N</td>\n",
       "      <td>GOV</td>\n",
       "      <td>0.39</td>\n",
       "    </tr>\n",
       "    <tr>\n",
       "      <th>10</th>\n",
       "      <td>Complete</td>\n",
       "      <td>2010-01-31</td>\n",
       "      <td>7.50</td>\n",
       "      <td>GULFSTREAM</td>\n",
       "      <td>N</td>\n",
       "      <td>GOV</td>\n",
       "      <td>0.39</td>\n",
       "    </tr>\n",
       "    <tr>\n",
       "      <th>12</th>\n",
       "      <td>Complete</td>\n",
       "      <td>2010-02-04</td>\n",
       "      <td>2.25</td>\n",
       "      <td>GULFSTREAM</td>\n",
       "      <td>N</td>\n",
       "      <td>GOV</td>\n",
       "      <td>0.39</td>\n",
       "    </tr>\n",
       "    <tr>\n",
       "      <th>14</th>\n",
       "      <td>Complete</td>\n",
       "      <td>2010-02-07</td>\n",
       "      <td>5.25</td>\n",
       "      <td>GULFSTREAM</td>\n",
       "      <td>N</td>\n",
       "      <td>GOV</td>\n",
       "      <td>0.39</td>\n",
       "    </tr>\n",
       "    <tr>\n",
       "      <th>16</th>\n",
       "      <td>Complete</td>\n",
       "      <td>2010-02-11</td>\n",
       "      <td>29.50</td>\n",
       "      <td>GULFSTREAM</td>\n",
       "      <td>N</td>\n",
       "      <td>GOV</td>\n",
       "      <td>0.39</td>\n",
       "    </tr>\n",
       "  </tbody>\n",
       "</table>\n",
       "</div>"
      ],
      "text/plain": [
       "   Request Status Arrival Date  Interarrival Time (hours) Aircraft Type  \\\n",
       "8        Complete   2010-01-30                       1.50    GULFSTREAM   \n",
       "10       Complete   2010-01-31                       7.50    GULFSTREAM   \n",
       "12       Complete   2010-02-04                       2.25    GULFSTREAM   \n",
       "14       Complete   2010-02-07                       5.25    GULFSTREAM   \n",
       "16       Complete   2010-02-11                      29.50    GULFSTREAM   \n",
       "\n",
       "   A/C Size Affiliation  Avg Load (sTon)  \n",
       "8         N         GOV             0.39  \n",
       "10        N         GOV             0.39  \n",
       "12        N         GOV             0.39  \n",
       "14        N         GOV             0.39  \n",
       "16        N         GOV             0.39  "
      ]
     },
     "execution_count": 380,
     "metadata": {},
     "output_type": "execute_result"
    }
   ],
   "source": [
    "plane_narrow_gov_after = plane_narrow_after[plane_narrow_after['Affiliation'] == 'GOV']\n",
    "plane_narrow_gov_after.head()"
   ]
  },
  {
   "cell_type": "markdown",
   "id": "7cafd51d",
   "metadata": {},
   "source": [
    "### Narrow non-governmental planes"
   ]
  },
  {
   "cell_type": "code",
   "execution_count": 381,
   "id": "92c427bd",
   "metadata": {},
   "outputs": [
    {
     "data": {
      "text/html": [
       "<div>\n",
       "<style scoped>\n",
       "    .dataframe tbody tr th:only-of-type {\n",
       "        vertical-align: middle;\n",
       "    }\n",
       "\n",
       "    .dataframe tbody tr th {\n",
       "        vertical-align: top;\n",
       "    }\n",
       "\n",
       "    .dataframe thead th {\n",
       "        text-align: right;\n",
       "    }\n",
       "</style>\n",
       "<table border=\"1\" class=\"dataframe\">\n",
       "  <thead>\n",
       "    <tr style=\"text-align: right;\">\n",
       "      <th></th>\n",
       "      <th>Request Status</th>\n",
       "      <th>Arrival Date</th>\n",
       "      <th>Interarrival Time (hours)</th>\n",
       "      <th>Aircraft Type</th>\n",
       "      <th>A/C Size</th>\n",
       "      <th>Affiliation</th>\n",
       "      <th>Avg Load (sTon)</th>\n",
       "    </tr>\n",
       "  </thead>\n",
       "  <tbody>\n",
       "    <tr>\n",
       "      <th>24</th>\n",
       "      <td>Complete</td>\n",
       "      <td>2010-01-16</td>\n",
       "      <td>0.0</td>\n",
       "      <td>GULFSTREAM</td>\n",
       "      <td>N</td>\n",
       "      <td>NGO</td>\n",
       "      <td>0.39</td>\n",
       "    </tr>\n",
       "    <tr>\n",
       "      <th>26</th>\n",
       "      <td>Complete</td>\n",
       "      <td>2010-01-16</td>\n",
       "      <td>0.0</td>\n",
       "      <td>GULFSTREAM</td>\n",
       "      <td>N</td>\n",
       "      <td>NGO</td>\n",
       "      <td>0.39</td>\n",
       "    </tr>\n",
       "    <tr>\n",
       "      <th>28</th>\n",
       "      <td>Complete</td>\n",
       "      <td>2010-01-16</td>\n",
       "      <td>0.0</td>\n",
       "      <td>GULFSTREAM</td>\n",
       "      <td>N</td>\n",
       "      <td>NGO</td>\n",
       "      <td>0.39</td>\n",
       "    </tr>\n",
       "    <tr>\n",
       "      <th>30</th>\n",
       "      <td>Complete</td>\n",
       "      <td>2010-01-16</td>\n",
       "      <td>0.0</td>\n",
       "      <td>GULFSTREAM</td>\n",
       "      <td>N</td>\n",
       "      <td>NGO</td>\n",
       "      <td>0.39</td>\n",
       "    </tr>\n",
       "    <tr>\n",
       "      <th>32</th>\n",
       "      <td>Complete</td>\n",
       "      <td>2010-01-17</td>\n",
       "      <td>0.0</td>\n",
       "      <td>GULFSTREAM</td>\n",
       "      <td>N</td>\n",
       "      <td>NGO</td>\n",
       "      <td>0.39</td>\n",
       "    </tr>\n",
       "  </tbody>\n",
       "</table>\n",
       "</div>"
      ],
      "text/plain": [
       "   Request Status Arrival Date  Interarrival Time (hours) Aircraft Type  \\\n",
       "24       Complete   2010-01-16                        0.0    GULFSTREAM   \n",
       "26       Complete   2010-01-16                        0.0    GULFSTREAM   \n",
       "28       Complete   2010-01-16                        0.0    GULFSTREAM   \n",
       "30       Complete   2010-01-16                        0.0    GULFSTREAM   \n",
       "32       Complete   2010-01-17                        0.0    GULFSTREAM   \n",
       "\n",
       "   A/C Size Affiliation  Avg Load (sTon)  \n",
       "24        N         NGO             0.39  \n",
       "26        N         NGO             0.39  \n",
       "28        N         NGO             0.39  \n",
       "30        N         NGO             0.39  \n",
       "32        N         NGO             0.39  "
      ]
     },
     "execution_count": 381,
     "metadata": {},
     "output_type": "execute_result"
    }
   ],
   "source": [
    "plane_narrow_ngo = plane_narrow[plane_narrow['Affiliation'] == 'NGO']\n",
    "plane_narrow_ngo.head()"
   ]
  },
  {
   "cell_type": "code",
   "execution_count": 382,
   "id": "7df0a574",
   "metadata": {
    "scrolled": false
   },
   "outputs": [
    {
     "data": {
      "text/html": [
       "<div>\n",
       "<style scoped>\n",
       "    .dataframe tbody tr th:only-of-type {\n",
       "        vertical-align: middle;\n",
       "    }\n",
       "\n",
       "    .dataframe tbody tr th {\n",
       "        vertical-align: top;\n",
       "    }\n",
       "\n",
       "    .dataframe thead th {\n",
       "        text-align: right;\n",
       "    }\n",
       "</style>\n",
       "<table border=\"1\" class=\"dataframe\">\n",
       "  <thead>\n",
       "    <tr style=\"text-align: right;\">\n",
       "      <th></th>\n",
       "      <th>Request Status</th>\n",
       "      <th>Arrival Date</th>\n",
       "      <th>Interarrival Time (hours)</th>\n",
       "      <th>Aircraft Type</th>\n",
       "      <th>A/C Size</th>\n",
       "      <th>Affiliation</th>\n",
       "      <th>Avg Load (sTon)</th>\n",
       "    </tr>\n",
       "  </thead>\n",
       "  <tbody>\n",
       "    <tr>\n",
       "      <th>24</th>\n",
       "      <td>Complete</td>\n",
       "      <td>2010-01-16</td>\n",
       "      <td>0.0</td>\n",
       "      <td>GULFSTREAM</td>\n",
       "      <td>N</td>\n",
       "      <td>NGO</td>\n",
       "      <td>0.39</td>\n",
       "    </tr>\n",
       "    <tr>\n",
       "      <th>26</th>\n",
       "      <td>Complete</td>\n",
       "      <td>2010-01-16</td>\n",
       "      <td>0.0</td>\n",
       "      <td>GULFSTREAM</td>\n",
       "      <td>N</td>\n",
       "      <td>NGO</td>\n",
       "      <td>0.39</td>\n",
       "    </tr>\n",
       "    <tr>\n",
       "      <th>28</th>\n",
       "      <td>Complete</td>\n",
       "      <td>2010-01-16</td>\n",
       "      <td>0.0</td>\n",
       "      <td>GULFSTREAM</td>\n",
       "      <td>N</td>\n",
       "      <td>NGO</td>\n",
       "      <td>0.39</td>\n",
       "    </tr>\n",
       "    <tr>\n",
       "      <th>30</th>\n",
       "      <td>Complete</td>\n",
       "      <td>2010-01-16</td>\n",
       "      <td>0.0</td>\n",
       "      <td>GULFSTREAM</td>\n",
       "      <td>N</td>\n",
       "      <td>NGO</td>\n",
       "      <td>0.39</td>\n",
       "    </tr>\n",
       "    <tr>\n",
       "      <th>32</th>\n",
       "      <td>Complete</td>\n",
       "      <td>2010-01-17</td>\n",
       "      <td>0.0</td>\n",
       "      <td>GULFSTREAM</td>\n",
       "      <td>N</td>\n",
       "      <td>NGO</td>\n",
       "      <td>0.39</td>\n",
       "    </tr>\n",
       "  </tbody>\n",
       "</table>\n",
       "</div>"
      ],
      "text/plain": [
       "   Request Status Arrival Date  Interarrival Time (hours) Aircraft Type  \\\n",
       "24       Complete   2010-01-16                        0.0    GULFSTREAM   \n",
       "26       Complete   2010-01-16                        0.0    GULFSTREAM   \n",
       "28       Complete   2010-01-16                        0.0    GULFSTREAM   \n",
       "30       Complete   2010-01-16                        0.0    GULFSTREAM   \n",
       "32       Complete   2010-01-17                        0.0    GULFSTREAM   \n",
       "\n",
       "   A/C Size Affiliation  Avg Load (sTon)  \n",
       "24        N         NGO             0.39  \n",
       "26        N         NGO             0.39  \n",
       "28        N         NGO             0.39  \n",
       "30        N         NGO             0.39  \n",
       "32        N         NGO             0.39  "
      ]
     },
     "execution_count": 382,
     "metadata": {},
     "output_type": "execute_result"
    }
   ],
   "source": [
    "plane_narrow_ngo_before = plane_narrow_before[plane_narrow_before['Affiliation'] == 'NGO']\n",
    "plane_narrow_ngo_before.head()"
   ]
  },
  {
   "cell_type": "code",
   "execution_count": 383,
   "id": "a56e3a11",
   "metadata": {},
   "outputs": [
    {
     "data": {
      "text/html": [
       "<div>\n",
       "<style scoped>\n",
       "    .dataframe tbody tr th:only-of-type {\n",
       "        vertical-align: middle;\n",
       "    }\n",
       "\n",
       "    .dataframe tbody tr th {\n",
       "        vertical-align: top;\n",
       "    }\n",
       "\n",
       "    .dataframe thead th {\n",
       "        text-align: right;\n",
       "    }\n",
       "</style>\n",
       "<table border=\"1\" class=\"dataframe\">\n",
       "  <thead>\n",
       "    <tr style=\"text-align: right;\">\n",
       "      <th></th>\n",
       "      <th>Request Status</th>\n",
       "      <th>Arrival Date</th>\n",
       "      <th>Interarrival Time (hours)</th>\n",
       "      <th>Aircraft Type</th>\n",
       "      <th>A/C Size</th>\n",
       "      <th>Affiliation</th>\n",
       "      <th>Avg Load (sTon)</th>\n",
       "    </tr>\n",
       "  </thead>\n",
       "  <tbody>\n",
       "    <tr>\n",
       "      <th>122</th>\n",
       "      <td>Complete</td>\n",
       "      <td>2010-01-28</td>\n",
       "      <td>0.500000</td>\n",
       "      <td>GULFSTREAM</td>\n",
       "      <td>N</td>\n",
       "      <td>NGO</td>\n",
       "      <td>0.39</td>\n",
       "    </tr>\n",
       "    <tr>\n",
       "      <th>124</th>\n",
       "      <td>Complete</td>\n",
       "      <td>2010-01-29</td>\n",
       "      <td>0.500000</td>\n",
       "      <td>GULFSTREAM</td>\n",
       "      <td>N</td>\n",
       "      <td>NGO</td>\n",
       "      <td>0.39</td>\n",
       "    </tr>\n",
       "    <tr>\n",
       "      <th>126</th>\n",
       "      <td>Complete</td>\n",
       "      <td>2010-01-29</td>\n",
       "      <td>1.000000</td>\n",
       "      <td>GULFSTREAM</td>\n",
       "      <td>N</td>\n",
       "      <td>NGO</td>\n",
       "      <td>0.39</td>\n",
       "    </tr>\n",
       "    <tr>\n",
       "      <th>128</th>\n",
       "      <td>Complete</td>\n",
       "      <td>2010-01-30</td>\n",
       "      <td>1.266667</td>\n",
       "      <td>GULFSTREAM</td>\n",
       "      <td>N</td>\n",
       "      <td>NGO</td>\n",
       "      <td>0.39</td>\n",
       "    </tr>\n",
       "    <tr>\n",
       "      <th>130</th>\n",
       "      <td>Complete</td>\n",
       "      <td>2010-01-30</td>\n",
       "      <td>2.250000</td>\n",
       "      <td>GULFSTREAM</td>\n",
       "      <td>N</td>\n",
       "      <td>NGO</td>\n",
       "      <td>0.39</td>\n",
       "    </tr>\n",
       "  </tbody>\n",
       "</table>\n",
       "</div>"
      ],
      "text/plain": [
       "    Request Status Arrival Date  Interarrival Time (hours) Aircraft Type  \\\n",
       "122       Complete   2010-01-28                   0.500000    GULFSTREAM   \n",
       "124       Complete   2010-01-29                   0.500000    GULFSTREAM   \n",
       "126       Complete   2010-01-29                   1.000000    GULFSTREAM   \n",
       "128       Complete   2010-01-30                   1.266667    GULFSTREAM   \n",
       "130       Complete   2010-01-30                   2.250000    GULFSTREAM   \n",
       "\n",
       "    A/C Size Affiliation  Avg Load (sTon)  \n",
       "122        N         NGO             0.39  \n",
       "124        N         NGO             0.39  \n",
       "126        N         NGO             0.39  \n",
       "128        N         NGO             0.39  \n",
       "130        N         NGO             0.39  "
      ]
     },
     "execution_count": 383,
     "metadata": {},
     "output_type": "execute_result"
    }
   ],
   "source": [
    "plane_narrow_ngo_after = plane_narrow_after[plane_narrow_after['Affiliation'] == 'NGO']\n",
    "plane_narrow_ngo_after.head()"
   ]
  },
  {
   "cell_type": "markdown",
   "id": "951b4b37",
   "metadata": {},
   "source": [
    "### Small military planes"
   ]
  },
  {
   "cell_type": "code",
   "execution_count": 384,
   "id": "7fa8e5b4",
   "metadata": {},
   "outputs": [
    {
     "data": {
      "text/html": [
       "<div>\n",
       "<style scoped>\n",
       "    .dataframe tbody tr th:only-of-type {\n",
       "        vertical-align: middle;\n",
       "    }\n",
       "\n",
       "    .dataframe tbody tr th {\n",
       "        vertical-align: top;\n",
       "    }\n",
       "\n",
       "    .dataframe thead th {\n",
       "        text-align: right;\n",
       "    }\n",
       "</style>\n",
       "<table border=\"1\" class=\"dataframe\">\n",
       "  <thead>\n",
       "    <tr style=\"text-align: right;\">\n",
       "      <th></th>\n",
       "      <th>Request Status</th>\n",
       "      <th>Arrival Date</th>\n",
       "      <th>Interarrival Time (hours)</th>\n",
       "      <th>Aircraft Type</th>\n",
       "      <th>A/C Size</th>\n",
       "      <th>Affiliation</th>\n",
       "      <th>Avg Load (sTon)</th>\n",
       "    </tr>\n",
       "  </thead>\n",
       "  <tbody>\n",
       "    <tr>\n",
       "      <th>1258</th>\n",
       "      <td>Complete</td>\n",
       "      <td>2010-02-05</td>\n",
       "      <td>34.666667</td>\n",
       "      <td>C130</td>\n",
       "      <td>S</td>\n",
       "      <td>MIL</td>\n",
       "      <td>7.00</td>\n",
       "    </tr>\n",
       "    <tr>\n",
       "      <th>1457</th>\n",
       "      <td>Complete</td>\n",
       "      <td>2010-02-10</td>\n",
       "      <td>2.500000</td>\n",
       "      <td>SF34</td>\n",
       "      <td>S</td>\n",
       "      <td>MIL</td>\n",
       "      <td>0.19</td>\n",
       "    </tr>\n",
       "    <tr>\n",
       "      <th>1464</th>\n",
       "      <td>Complete</td>\n",
       "      <td>2010-01-15</td>\n",
       "      <td>0.000000</td>\n",
       "      <td>UNKNOWN</td>\n",
       "      <td>S</td>\n",
       "      <td>MIL</td>\n",
       "      <td>0.78</td>\n",
       "    </tr>\n",
       "    <tr>\n",
       "      <th>1866</th>\n",
       "      <td>Complete</td>\n",
       "      <td>2010-02-09</td>\n",
       "      <td>2.500000</td>\n",
       "      <td>C26</td>\n",
       "      <td>S</td>\n",
       "      <td>MIL</td>\n",
       "      <td>0.78</td>\n",
       "    </tr>\n",
       "    <tr>\n",
       "      <th>1867</th>\n",
       "      <td>Complete</td>\n",
       "      <td>2010-03-01</td>\n",
       "      <td>1.750000</td>\n",
       "      <td>C26</td>\n",
       "      <td>S</td>\n",
       "      <td>MIL</td>\n",
       "      <td>0.78</td>\n",
       "    </tr>\n",
       "  </tbody>\n",
       "</table>\n",
       "</div>"
      ],
      "text/plain": [
       "     Request Status Arrival Date  Interarrival Time (hours) Aircraft Type  \\\n",
       "1258       Complete   2010-02-05                  34.666667          C130   \n",
       "1457       Complete   2010-02-10                   2.500000          SF34   \n",
       "1464       Complete   2010-01-15                   0.000000       UNKNOWN   \n",
       "1866       Complete   2010-02-09                   2.500000           C26   \n",
       "1867       Complete   2010-03-01                   1.750000           C26   \n",
       "\n",
       "     A/C Size Affiliation  Avg Load (sTon)  \n",
       "1258        S         MIL             7.00  \n",
       "1457        S         MIL             0.19  \n",
       "1464        S         MIL             0.78  \n",
       "1866        S         MIL             0.78  \n",
       "1867        S         MIL             0.78  "
      ]
     },
     "execution_count": 384,
     "metadata": {},
     "output_type": "execute_result"
    }
   ],
   "source": [
    "plane_small_mil = plane_small[plane_small['Affiliation'] == 'MIL']\n",
    "plane_small_mil.head()"
   ]
  },
  {
   "cell_type": "code",
   "execution_count": 385,
   "id": "ba51f3d3",
   "metadata": {
    "scrolled": true
   },
   "outputs": [
    {
     "data": {
      "text/html": [
       "<div>\n",
       "<style scoped>\n",
       "    .dataframe tbody tr th:only-of-type {\n",
       "        vertical-align: middle;\n",
       "    }\n",
       "\n",
       "    .dataframe tbody tr th {\n",
       "        vertical-align: top;\n",
       "    }\n",
       "\n",
       "    .dataframe thead th {\n",
       "        text-align: right;\n",
       "    }\n",
       "</style>\n",
       "<table border=\"1\" class=\"dataframe\">\n",
       "  <thead>\n",
       "    <tr style=\"text-align: right;\">\n",
       "      <th></th>\n",
       "      <th>Request Status</th>\n",
       "      <th>Arrival Date</th>\n",
       "      <th>Interarrival Time (hours)</th>\n",
       "      <th>Aircraft Type</th>\n",
       "      <th>A/C Size</th>\n",
       "      <th>Affiliation</th>\n",
       "      <th>Avg Load (sTon)</th>\n",
       "    </tr>\n",
       "  </thead>\n",
       "  <tbody>\n",
       "    <tr>\n",
       "      <th>1464</th>\n",
       "      <td>Complete</td>\n",
       "      <td>2010-01-15</td>\n",
       "      <td>0.000000</td>\n",
       "      <td>UNKNOWN</td>\n",
       "      <td>S</td>\n",
       "      <td>MIL</td>\n",
       "      <td>0.78</td>\n",
       "    </tr>\n",
       "    <tr>\n",
       "      <th>2616</th>\n",
       "      <td>Complete</td>\n",
       "      <td>2010-01-20</td>\n",
       "      <td>29.000000</td>\n",
       "      <td>C12</td>\n",
       "      <td>S</td>\n",
       "      <td>MIL</td>\n",
       "      <td>0.78</td>\n",
       "    </tr>\n",
       "    <tr>\n",
       "      <th>2618</th>\n",
       "      <td>Complete</td>\n",
       "      <td>2010-01-20</td>\n",
       "      <td>5.333333</td>\n",
       "      <td>C12</td>\n",
       "      <td>S</td>\n",
       "      <td>MIL</td>\n",
       "      <td>0.78</td>\n",
       "    </tr>\n",
       "    <tr>\n",
       "      <th>2620</th>\n",
       "      <td>Complete</td>\n",
       "      <td>2010-01-21</td>\n",
       "      <td>15.333333</td>\n",
       "      <td>C12</td>\n",
       "      <td>S</td>\n",
       "      <td>MIL</td>\n",
       "      <td>0.78</td>\n",
       "    </tr>\n",
       "    <tr>\n",
       "      <th>2622</th>\n",
       "      <td>Complete</td>\n",
       "      <td>2010-01-21</td>\n",
       "      <td>1.000000</td>\n",
       "      <td>C12</td>\n",
       "      <td>S</td>\n",
       "      <td>MIL</td>\n",
       "      <td>0.78</td>\n",
       "    </tr>\n",
       "  </tbody>\n",
       "</table>\n",
       "</div>"
      ],
      "text/plain": [
       "     Request Status Arrival Date  Interarrival Time (hours) Aircraft Type  \\\n",
       "1464       Complete   2010-01-15                   0.000000       UNKNOWN   \n",
       "2616       Complete   2010-01-20                  29.000000           C12   \n",
       "2618       Complete   2010-01-20                   5.333333           C12   \n",
       "2620       Complete   2010-01-21                  15.333333           C12   \n",
       "2622       Complete   2010-01-21                   1.000000           C12   \n",
       "\n",
       "     A/C Size Affiliation  Avg Load (sTon)  \n",
       "1464        S         MIL             0.78  \n",
       "2616        S         MIL             0.78  \n",
       "2618        S         MIL             0.78  \n",
       "2620        S         MIL             0.78  \n",
       "2622        S         MIL             0.78  "
      ]
     },
     "execution_count": 385,
     "metadata": {},
     "output_type": "execute_result"
    }
   ],
   "source": [
    "plane_small_mil_before = plane_small_before[plane_small_before['Affiliation'] == 'MIL']\n",
    "plane_small_mil_before.head()"
   ]
  },
  {
   "cell_type": "code",
   "execution_count": 386,
   "id": "e3f2f063",
   "metadata": {},
   "outputs": [
    {
     "data": {
      "text/html": [
       "<div>\n",
       "<style scoped>\n",
       "    .dataframe tbody tr th:only-of-type {\n",
       "        vertical-align: middle;\n",
       "    }\n",
       "\n",
       "    .dataframe tbody tr th {\n",
       "        vertical-align: top;\n",
       "    }\n",
       "\n",
       "    .dataframe thead th {\n",
       "        text-align: right;\n",
       "    }\n",
       "</style>\n",
       "<table border=\"1\" class=\"dataframe\">\n",
       "  <thead>\n",
       "    <tr style=\"text-align: right;\">\n",
       "      <th></th>\n",
       "      <th>Request Status</th>\n",
       "      <th>Arrival Date</th>\n",
       "      <th>Interarrival Time (hours)</th>\n",
       "      <th>Aircraft Type</th>\n",
       "      <th>A/C Size</th>\n",
       "      <th>Affiliation</th>\n",
       "      <th>Avg Load (sTon)</th>\n",
       "    </tr>\n",
       "  </thead>\n",
       "  <tbody>\n",
       "    <tr>\n",
       "      <th>1258</th>\n",
       "      <td>Complete</td>\n",
       "      <td>2010-02-05</td>\n",
       "      <td>34.666667</td>\n",
       "      <td>C130</td>\n",
       "      <td>S</td>\n",
       "      <td>MIL</td>\n",
       "      <td>7.00</td>\n",
       "    </tr>\n",
       "    <tr>\n",
       "      <th>1457</th>\n",
       "      <td>Complete</td>\n",
       "      <td>2010-02-10</td>\n",
       "      <td>2.500000</td>\n",
       "      <td>SF34</td>\n",
       "      <td>S</td>\n",
       "      <td>MIL</td>\n",
       "      <td>0.19</td>\n",
       "    </tr>\n",
       "    <tr>\n",
       "      <th>1866</th>\n",
       "      <td>Complete</td>\n",
       "      <td>2010-02-09</td>\n",
       "      <td>2.500000</td>\n",
       "      <td>C26</td>\n",
       "      <td>S</td>\n",
       "      <td>MIL</td>\n",
       "      <td>0.78</td>\n",
       "    </tr>\n",
       "    <tr>\n",
       "      <th>1867</th>\n",
       "      <td>Complete</td>\n",
       "      <td>2010-03-01</td>\n",
       "      <td>1.750000</td>\n",
       "      <td>C26</td>\n",
       "      <td>S</td>\n",
       "      <td>MIL</td>\n",
       "      <td>0.78</td>\n",
       "    </tr>\n",
       "    <tr>\n",
       "      <th>2512</th>\n",
       "      <td>Complete</td>\n",
       "      <td>2010-02-05</td>\n",
       "      <td>0.250000</td>\n",
       "      <td>C17</td>\n",
       "      <td>S</td>\n",
       "      <td>MIL</td>\n",
       "      <td>37.00</td>\n",
       "    </tr>\n",
       "  </tbody>\n",
       "</table>\n",
       "</div>"
      ],
      "text/plain": [
       "     Request Status Arrival Date  Interarrival Time (hours) Aircraft Type  \\\n",
       "1258       Complete   2010-02-05                  34.666667          C130   \n",
       "1457       Complete   2010-02-10                   2.500000          SF34   \n",
       "1866       Complete   2010-02-09                   2.500000           C26   \n",
       "1867       Complete   2010-03-01                   1.750000           C26   \n",
       "2512       Complete   2010-02-05                   0.250000           C17   \n",
       "\n",
       "     A/C Size Affiliation  Avg Load (sTon)  \n",
       "1258        S         MIL             7.00  \n",
       "1457        S         MIL             0.19  \n",
       "1866        S         MIL             0.78  \n",
       "1867        S         MIL             0.78  \n",
       "2512        S         MIL            37.00  "
      ]
     },
     "execution_count": 386,
     "metadata": {},
     "output_type": "execute_result"
    }
   ],
   "source": [
    "plane_small_mil_after = plane_small_after[plane_small_after['Affiliation'] == 'MIL']\n",
    "plane_small_mil_after.head()"
   ]
  },
  {
   "cell_type": "markdown",
   "id": "d59cc35e",
   "metadata": {},
   "source": [
    "### Small governmental planes"
   ]
  },
  {
   "cell_type": "code",
   "execution_count": 387,
   "id": "82e2039f",
   "metadata": {},
   "outputs": [
    {
     "data": {
      "text/html": [
       "<div>\n",
       "<style scoped>\n",
       "    .dataframe tbody tr th:only-of-type {\n",
       "        vertical-align: middle;\n",
       "    }\n",
       "\n",
       "    .dataframe tbody tr th {\n",
       "        vertical-align: top;\n",
       "    }\n",
       "\n",
       "    .dataframe thead th {\n",
       "        text-align: right;\n",
       "    }\n",
       "</style>\n",
       "<table border=\"1\" class=\"dataframe\">\n",
       "  <thead>\n",
       "    <tr style=\"text-align: right;\">\n",
       "      <th></th>\n",
       "      <th>Request Status</th>\n",
       "      <th>Arrival Date</th>\n",
       "      <th>Interarrival Time (hours)</th>\n",
       "      <th>Aircraft Type</th>\n",
       "      <th>A/C Size</th>\n",
       "      <th>Affiliation</th>\n",
       "      <th>Avg Load (sTon)</th>\n",
       "    </tr>\n",
       "  </thead>\n",
       "  <tbody>\n",
       "    <tr>\n",
       "      <th>1476</th>\n",
       "      <td>Complete</td>\n",
       "      <td>2010-01-26</td>\n",
       "      <td>1.250000</td>\n",
       "      <td>YAK40</td>\n",
       "      <td>S</td>\n",
       "      <td>GOV</td>\n",
       "      <td>5.70</td>\n",
       "    </tr>\n",
       "    <tr>\n",
       "      <th>2542</th>\n",
       "      <td>Complete</td>\n",
       "      <td>2010-01-19</td>\n",
       "      <td>8.333333</td>\n",
       "      <td>C12</td>\n",
       "      <td>S</td>\n",
       "      <td>GOV</td>\n",
       "      <td>0.78</td>\n",
       "    </tr>\n",
       "    <tr>\n",
       "      <th>2544</th>\n",
       "      <td>Complete</td>\n",
       "      <td>2010-01-23</td>\n",
       "      <td>3.000000</td>\n",
       "      <td>C12</td>\n",
       "      <td>S</td>\n",
       "      <td>GOV</td>\n",
       "      <td>0.78</td>\n",
       "    </tr>\n",
       "    <tr>\n",
       "      <th>2546</th>\n",
       "      <td>Complete</td>\n",
       "      <td>2010-01-24</td>\n",
       "      <td>0.000000</td>\n",
       "      <td>C12</td>\n",
       "      <td>S</td>\n",
       "      <td>GOV</td>\n",
       "      <td>0.78</td>\n",
       "    </tr>\n",
       "    <tr>\n",
       "      <th>2548</th>\n",
       "      <td>Complete</td>\n",
       "      <td>2010-01-24</td>\n",
       "      <td>0.333333</td>\n",
       "      <td>C12</td>\n",
       "      <td>S</td>\n",
       "      <td>GOV</td>\n",
       "      <td>0.78</td>\n",
       "    </tr>\n",
       "  </tbody>\n",
       "</table>\n",
       "</div>"
      ],
      "text/plain": [
       "     Request Status Arrival Date  Interarrival Time (hours) Aircraft Type  \\\n",
       "1476       Complete   2010-01-26                   1.250000         YAK40   \n",
       "2542       Complete   2010-01-19                   8.333333           C12   \n",
       "2544       Complete   2010-01-23                   3.000000           C12   \n",
       "2546       Complete   2010-01-24                   0.000000           C12   \n",
       "2548       Complete   2010-01-24                   0.333333           C12   \n",
       "\n",
       "     A/C Size Affiliation  Avg Load (sTon)  \n",
       "1476        S         GOV             5.70  \n",
       "2542        S         GOV             0.78  \n",
       "2544        S         GOV             0.78  \n",
       "2546        S         GOV             0.78  \n",
       "2548        S         GOV             0.78  "
      ]
     },
     "execution_count": 387,
     "metadata": {},
     "output_type": "execute_result"
    }
   ],
   "source": [
    "plane_small_gov = plane_small[plane_small['Affiliation'] == 'GOV']\n",
    "plane_small_gov.head()"
   ]
  },
  {
   "cell_type": "code",
   "execution_count": 388,
   "id": "335edb66",
   "metadata": {
    "scrolled": true
   },
   "outputs": [
    {
     "data": {
      "text/html": [
       "<div>\n",
       "<style scoped>\n",
       "    .dataframe tbody tr th:only-of-type {\n",
       "        vertical-align: middle;\n",
       "    }\n",
       "\n",
       "    .dataframe tbody tr th {\n",
       "        vertical-align: top;\n",
       "    }\n",
       "\n",
       "    .dataframe thead th {\n",
       "        text-align: right;\n",
       "    }\n",
       "</style>\n",
       "<table border=\"1\" class=\"dataframe\">\n",
       "  <thead>\n",
       "    <tr style=\"text-align: right;\">\n",
       "      <th></th>\n",
       "      <th>Request Status</th>\n",
       "      <th>Arrival Date</th>\n",
       "      <th>Interarrival Time (hours)</th>\n",
       "      <th>Aircraft Type</th>\n",
       "      <th>A/C Size</th>\n",
       "      <th>Affiliation</th>\n",
       "      <th>Avg Load (sTon)</th>\n",
       "    </tr>\n",
       "  </thead>\n",
       "  <tbody>\n",
       "    <tr>\n",
       "      <th>1476</th>\n",
       "      <td>Complete</td>\n",
       "      <td>2010-01-26</td>\n",
       "      <td>1.250000</td>\n",
       "      <td>YAK40</td>\n",
       "      <td>S</td>\n",
       "      <td>GOV</td>\n",
       "      <td>5.70</td>\n",
       "    </tr>\n",
       "    <tr>\n",
       "      <th>2542</th>\n",
       "      <td>Complete</td>\n",
       "      <td>2010-01-19</td>\n",
       "      <td>8.333333</td>\n",
       "      <td>C12</td>\n",
       "      <td>S</td>\n",
       "      <td>GOV</td>\n",
       "      <td>0.78</td>\n",
       "    </tr>\n",
       "    <tr>\n",
       "      <th>2544</th>\n",
       "      <td>Complete</td>\n",
       "      <td>2010-01-23</td>\n",
       "      <td>3.000000</td>\n",
       "      <td>C12</td>\n",
       "      <td>S</td>\n",
       "      <td>GOV</td>\n",
       "      <td>0.78</td>\n",
       "    </tr>\n",
       "    <tr>\n",
       "      <th>2546</th>\n",
       "      <td>Complete</td>\n",
       "      <td>2010-01-24</td>\n",
       "      <td>0.000000</td>\n",
       "      <td>C12</td>\n",
       "      <td>S</td>\n",
       "      <td>GOV</td>\n",
       "      <td>0.78</td>\n",
       "    </tr>\n",
       "    <tr>\n",
       "      <th>2548</th>\n",
       "      <td>Complete</td>\n",
       "      <td>2010-01-24</td>\n",
       "      <td>0.333333</td>\n",
       "      <td>C12</td>\n",
       "      <td>S</td>\n",
       "      <td>GOV</td>\n",
       "      <td>0.78</td>\n",
       "    </tr>\n",
       "  </tbody>\n",
       "</table>\n",
       "</div>"
      ],
      "text/plain": [
       "     Request Status Arrival Date  Interarrival Time (hours) Aircraft Type  \\\n",
       "1476       Complete   2010-01-26                   1.250000         YAK40   \n",
       "2542       Complete   2010-01-19                   8.333333           C12   \n",
       "2544       Complete   2010-01-23                   3.000000           C12   \n",
       "2546       Complete   2010-01-24                   0.000000           C12   \n",
       "2548       Complete   2010-01-24                   0.333333           C12   \n",
       "\n",
       "     A/C Size Affiliation  Avg Load (sTon)  \n",
       "1476        S         GOV             5.70  \n",
       "2542        S         GOV             0.78  \n",
       "2544        S         GOV             0.78  \n",
       "2546        S         GOV             0.78  \n",
       "2548        S         GOV             0.78  "
      ]
     },
     "execution_count": 388,
     "metadata": {},
     "output_type": "execute_result"
    }
   ],
   "source": [
    "plane_small_gov_before = plane_small_before[plane_small_before['Affiliation'] == 'GOV']\n",
    "plane_small_gov_before.head()"
   ]
  },
  {
   "cell_type": "code",
   "execution_count": 389,
   "id": "e6c50b5e",
   "metadata": {},
   "outputs": [
    {
     "data": {
      "text/html": [
       "<div>\n",
       "<style scoped>\n",
       "    .dataframe tbody tr th:only-of-type {\n",
       "        vertical-align: middle;\n",
       "    }\n",
       "\n",
       "    .dataframe tbody tr th {\n",
       "        vertical-align: top;\n",
       "    }\n",
       "\n",
       "    .dataframe thead th {\n",
       "        text-align: right;\n",
       "    }\n",
       "</style>\n",
       "<table border=\"1\" class=\"dataframe\">\n",
       "  <thead>\n",
       "    <tr style=\"text-align: right;\">\n",
       "      <th></th>\n",
       "      <th>Request Status</th>\n",
       "      <th>Arrival Date</th>\n",
       "      <th>Interarrival Time (hours)</th>\n",
       "      <th>Aircraft Type</th>\n",
       "      <th>A/C Size</th>\n",
       "      <th>Affiliation</th>\n",
       "      <th>Avg Load (sTon)</th>\n",
       "    </tr>\n",
       "  </thead>\n",
       "  <tbody>\n",
       "    <tr>\n",
       "      <th>2558</th>\n",
       "      <td>Complete</td>\n",
       "      <td>2010-01-28</td>\n",
       "      <td>2.00</td>\n",
       "      <td>C12</td>\n",
       "      <td>S</td>\n",
       "      <td>GOV</td>\n",
       "      <td>0.78</td>\n",
       "    </tr>\n",
       "    <tr>\n",
       "      <th>2560</th>\n",
       "      <td>Complete</td>\n",
       "      <td>2010-01-28</td>\n",
       "      <td>5.00</td>\n",
       "      <td>C12</td>\n",
       "      <td>S</td>\n",
       "      <td>GOV</td>\n",
       "      <td>0.78</td>\n",
       "    </tr>\n",
       "    <tr>\n",
       "      <th>2562</th>\n",
       "      <td>Complete</td>\n",
       "      <td>2010-01-29</td>\n",
       "      <td>17.75</td>\n",
       "      <td>C12</td>\n",
       "      <td>S</td>\n",
       "      <td>GOV</td>\n",
       "      <td>0.78</td>\n",
       "    </tr>\n",
       "    <tr>\n",
       "      <th>2564</th>\n",
       "      <td>Complete</td>\n",
       "      <td>2010-01-29</td>\n",
       "      <td>5.00</td>\n",
       "      <td>C12</td>\n",
       "      <td>S</td>\n",
       "      <td>GOV</td>\n",
       "      <td>0.78</td>\n",
       "    </tr>\n",
       "    <tr>\n",
       "      <th>2566</th>\n",
       "      <td>Complete</td>\n",
       "      <td>2010-01-30</td>\n",
       "      <td>17.25</td>\n",
       "      <td>C12</td>\n",
       "      <td>S</td>\n",
       "      <td>GOV</td>\n",
       "      <td>0.78</td>\n",
       "    </tr>\n",
       "  </tbody>\n",
       "</table>\n",
       "</div>"
      ],
      "text/plain": [
       "     Request Status Arrival Date  Interarrival Time (hours) Aircraft Type  \\\n",
       "2558       Complete   2010-01-28                       2.00           C12   \n",
       "2560       Complete   2010-01-28                       5.00           C12   \n",
       "2562       Complete   2010-01-29                      17.75           C12   \n",
       "2564       Complete   2010-01-29                       5.00           C12   \n",
       "2566       Complete   2010-01-30                      17.25           C12   \n",
       "\n",
       "     A/C Size Affiliation  Avg Load (sTon)  \n",
       "2558        S         GOV             0.78  \n",
       "2560        S         GOV             0.78  \n",
       "2562        S         GOV             0.78  \n",
       "2564        S         GOV             0.78  \n",
       "2566        S         GOV             0.78  "
      ]
     },
     "execution_count": 389,
     "metadata": {},
     "output_type": "execute_result"
    }
   ],
   "source": [
    "plane_small_gov_after = plane_small_after[plane_small_after['Affiliation'] == 'GOV']\n",
    "plane_small_gov_after.head()"
   ]
  },
  {
   "cell_type": "markdown",
   "id": "4accb1a1",
   "metadata": {},
   "source": [
    "### Small non-governmental planes"
   ]
  },
  {
   "cell_type": "code",
   "execution_count": 390,
   "id": "a229f811",
   "metadata": {},
   "outputs": [
    {
     "data": {
      "text/html": [
       "<div>\n",
       "<style scoped>\n",
       "    .dataframe tbody tr th:only-of-type {\n",
       "        vertical-align: middle;\n",
       "    }\n",
       "\n",
       "    .dataframe tbody tr th {\n",
       "        vertical-align: top;\n",
       "    }\n",
       "\n",
       "    .dataframe thead th {\n",
       "        text-align: right;\n",
       "    }\n",
       "</style>\n",
       "<table border=\"1\" class=\"dataframe\">\n",
       "  <thead>\n",
       "    <tr style=\"text-align: right;\">\n",
       "      <th></th>\n",
       "      <th>Request Status</th>\n",
       "      <th>Arrival Date</th>\n",
       "      <th>Interarrival Time (hours)</th>\n",
       "      <th>Aircraft Type</th>\n",
       "      <th>A/C Size</th>\n",
       "      <th>Affiliation</th>\n",
       "      <th>Avg Load (sTon)</th>\n",
       "    </tr>\n",
       "  </thead>\n",
       "  <tbody>\n",
       "    <tr>\n",
       "      <th>166</th>\n",
       "      <td>Complete</td>\n",
       "      <td>2010-01-30</td>\n",
       "      <td>0.250000</td>\n",
       "      <td>GULFSTREAM</td>\n",
       "      <td>S</td>\n",
       "      <td>NGO</td>\n",
       "      <td>0.39</td>\n",
       "    </tr>\n",
       "    <tr>\n",
       "      <th>168</th>\n",
       "      <td>Complete</td>\n",
       "      <td>2010-01-31</td>\n",
       "      <td>1.266667</td>\n",
       "      <td>GULFSTREAM</td>\n",
       "      <td>S</td>\n",
       "      <td>NGO</td>\n",
       "      <td>0.39</td>\n",
       "    </tr>\n",
       "    <tr>\n",
       "      <th>170</th>\n",
       "      <td>Complete</td>\n",
       "      <td>2010-01-31</td>\n",
       "      <td>1.250000</td>\n",
       "      <td>GULFSTREAM</td>\n",
       "      <td>S</td>\n",
       "      <td>NGO</td>\n",
       "      <td>0.39</td>\n",
       "    </tr>\n",
       "    <tr>\n",
       "      <th>1427</th>\n",
       "      <td>Complete</td>\n",
       "      <td>2010-01-16</td>\n",
       "      <td>0.000000</td>\n",
       "      <td>FALCON</td>\n",
       "      <td>S</td>\n",
       "      <td>NGO</td>\n",
       "      <td>2.34</td>\n",
       "    </tr>\n",
       "    <tr>\n",
       "      <th>1428</th>\n",
       "      <td>Complete</td>\n",
       "      <td>2010-01-16</td>\n",
       "      <td>0.000000</td>\n",
       "      <td>FALCON</td>\n",
       "      <td>S</td>\n",
       "      <td>NGO</td>\n",
       "      <td>2.34</td>\n",
       "    </tr>\n",
       "  </tbody>\n",
       "</table>\n",
       "</div>"
      ],
      "text/plain": [
       "     Request Status Arrival Date  Interarrival Time (hours) Aircraft Type  \\\n",
       "166        Complete   2010-01-30                   0.250000    GULFSTREAM   \n",
       "168        Complete   2010-01-31                   1.266667    GULFSTREAM   \n",
       "170        Complete   2010-01-31                   1.250000    GULFSTREAM   \n",
       "1427       Complete   2010-01-16                   0.000000        FALCON   \n",
       "1428       Complete   2010-01-16                   0.000000        FALCON   \n",
       "\n",
       "     A/C Size Affiliation  Avg Load (sTon)  \n",
       "166         S         NGO             0.39  \n",
       "168         S         NGO             0.39  \n",
       "170         S         NGO             0.39  \n",
       "1427        S         NGO             2.34  \n",
       "1428        S         NGO             2.34  "
      ]
     },
     "execution_count": 390,
     "metadata": {},
     "output_type": "execute_result"
    }
   ],
   "source": [
    "plane_small_ngo = plane_small[plane_small['Affiliation'] == 'NGO']\n",
    "plane_small_ngo.head()"
   ]
  },
  {
   "cell_type": "code",
   "execution_count": 391,
   "id": "85ac55a0",
   "metadata": {
    "scrolled": true
   },
   "outputs": [
    {
     "data": {
      "text/html": [
       "<div>\n",
       "<style scoped>\n",
       "    .dataframe tbody tr th:only-of-type {\n",
       "        vertical-align: middle;\n",
       "    }\n",
       "\n",
       "    .dataframe tbody tr th {\n",
       "        vertical-align: top;\n",
       "    }\n",
       "\n",
       "    .dataframe thead th {\n",
       "        text-align: right;\n",
       "    }\n",
       "</style>\n",
       "<table border=\"1\" class=\"dataframe\">\n",
       "  <thead>\n",
       "    <tr style=\"text-align: right;\">\n",
       "      <th></th>\n",
       "      <th>Request Status</th>\n",
       "      <th>Arrival Date</th>\n",
       "      <th>Interarrival Time (hours)</th>\n",
       "      <th>Aircraft Type</th>\n",
       "      <th>A/C Size</th>\n",
       "      <th>Affiliation</th>\n",
       "      <th>Avg Load (sTon)</th>\n",
       "    </tr>\n",
       "  </thead>\n",
       "  <tbody>\n",
       "    <tr>\n",
       "      <th>1427</th>\n",
       "      <td>Complete</td>\n",
       "      <td>2010-01-16</td>\n",
       "      <td>0.00</td>\n",
       "      <td>FALCON</td>\n",
       "      <td>S</td>\n",
       "      <td>NGO</td>\n",
       "      <td>2.34</td>\n",
       "    </tr>\n",
       "    <tr>\n",
       "      <th>1428</th>\n",
       "      <td>Complete</td>\n",
       "      <td>2010-01-16</td>\n",
       "      <td>0.00</td>\n",
       "      <td>FALCON</td>\n",
       "      <td>S</td>\n",
       "      <td>NGO</td>\n",
       "      <td>2.34</td>\n",
       "    </tr>\n",
       "    <tr>\n",
       "      <th>1466</th>\n",
       "      <td>Complete</td>\n",
       "      <td>2010-01-16</td>\n",
       "      <td>0.00</td>\n",
       "      <td>UNKNOWN</td>\n",
       "      <td>S</td>\n",
       "      <td>NGO</td>\n",
       "      <td>0.78</td>\n",
       "    </tr>\n",
       "    <tr>\n",
       "      <th>1467</th>\n",
       "      <td>Complete</td>\n",
       "      <td>2010-01-16</td>\n",
       "      <td>0.50</td>\n",
       "      <td>UNKNOWN</td>\n",
       "      <td>S</td>\n",
       "      <td>NGO</td>\n",
       "      <td>0.78</td>\n",
       "    </tr>\n",
       "    <tr>\n",
       "      <th>1468</th>\n",
       "      <td>Complete</td>\n",
       "      <td>2010-01-16</td>\n",
       "      <td>0.25</td>\n",
       "      <td>UNKNOWN</td>\n",
       "      <td>S</td>\n",
       "      <td>NGO</td>\n",
       "      <td>0.78</td>\n",
       "    </tr>\n",
       "  </tbody>\n",
       "</table>\n",
       "</div>"
      ],
      "text/plain": [
       "     Request Status Arrival Date  Interarrival Time (hours) Aircraft Type  \\\n",
       "1427       Complete   2010-01-16                       0.00        FALCON   \n",
       "1428       Complete   2010-01-16                       0.00        FALCON   \n",
       "1466       Complete   2010-01-16                       0.00       UNKNOWN   \n",
       "1467       Complete   2010-01-16                       0.50       UNKNOWN   \n",
       "1468       Complete   2010-01-16                       0.25       UNKNOWN   \n",
       "\n",
       "     A/C Size Affiliation  Avg Load (sTon)  \n",
       "1427        S         NGO             2.34  \n",
       "1428        S         NGO             2.34  \n",
       "1466        S         NGO             0.78  \n",
       "1467        S         NGO             0.78  \n",
       "1468        S         NGO             0.78  "
      ]
     },
     "execution_count": 391,
     "metadata": {},
     "output_type": "execute_result"
    }
   ],
   "source": [
    "plane_small_ngo_before = plane_small_before[plane_small_before['Affiliation'] == 'NGO']\n",
    "plane_small_ngo_before.head()"
   ]
  },
  {
   "cell_type": "code",
   "execution_count": 392,
   "id": "fb4e12e5",
   "metadata": {},
   "outputs": [
    {
     "data": {
      "text/html": [
       "<div>\n",
       "<style scoped>\n",
       "    .dataframe tbody tr th:only-of-type {\n",
       "        vertical-align: middle;\n",
       "    }\n",
       "\n",
       "    .dataframe tbody tr th {\n",
       "        vertical-align: top;\n",
       "    }\n",
       "\n",
       "    .dataframe thead th {\n",
       "        text-align: right;\n",
       "    }\n",
       "</style>\n",
       "<table border=\"1\" class=\"dataframe\">\n",
       "  <thead>\n",
       "    <tr style=\"text-align: right;\">\n",
       "      <th></th>\n",
       "      <th>Request Status</th>\n",
       "      <th>Arrival Date</th>\n",
       "      <th>Interarrival Time (hours)</th>\n",
       "      <th>Aircraft Type</th>\n",
       "      <th>A/C Size</th>\n",
       "      <th>Affiliation</th>\n",
       "      <th>Avg Load (sTon)</th>\n",
       "    </tr>\n",
       "  </thead>\n",
       "  <tbody>\n",
       "    <tr>\n",
       "      <th>166</th>\n",
       "      <td>Complete</td>\n",
       "      <td>2010-01-30</td>\n",
       "      <td>0.250000</td>\n",
       "      <td>GULFSTREAM</td>\n",
       "      <td>S</td>\n",
       "      <td>NGO</td>\n",
       "      <td>0.39</td>\n",
       "    </tr>\n",
       "    <tr>\n",
       "      <th>168</th>\n",
       "      <td>Complete</td>\n",
       "      <td>2010-01-31</td>\n",
       "      <td>1.266667</td>\n",
       "      <td>GULFSTREAM</td>\n",
       "      <td>S</td>\n",
       "      <td>NGO</td>\n",
       "      <td>0.39</td>\n",
       "    </tr>\n",
       "    <tr>\n",
       "      <th>170</th>\n",
       "      <td>Complete</td>\n",
       "      <td>2010-01-31</td>\n",
       "      <td>1.250000</td>\n",
       "      <td>GULFSTREAM</td>\n",
       "      <td>S</td>\n",
       "      <td>NGO</td>\n",
       "      <td>0.39</td>\n",
       "    </tr>\n",
       "    <tr>\n",
       "      <th>1429</th>\n",
       "      <td>Complete</td>\n",
       "      <td>2010-02-08</td>\n",
       "      <td>0.500000</td>\n",
       "      <td>FALCON</td>\n",
       "      <td>S</td>\n",
       "      <td>NGO</td>\n",
       "      <td>2.34</td>\n",
       "    </tr>\n",
       "    <tr>\n",
       "      <th>1770</th>\n",
       "      <td>Complete</td>\n",
       "      <td>2010-01-29</td>\n",
       "      <td>5.250000</td>\n",
       "      <td>B737</td>\n",
       "      <td>S</td>\n",
       "      <td>NGO</td>\n",
       "      <td>8.58</td>\n",
       "    </tr>\n",
       "  </tbody>\n",
       "</table>\n",
       "</div>"
      ],
      "text/plain": [
       "     Request Status Arrival Date  Interarrival Time (hours) Aircraft Type  \\\n",
       "166        Complete   2010-01-30                   0.250000    GULFSTREAM   \n",
       "168        Complete   2010-01-31                   1.266667    GULFSTREAM   \n",
       "170        Complete   2010-01-31                   1.250000    GULFSTREAM   \n",
       "1429       Complete   2010-02-08                   0.500000        FALCON   \n",
       "1770       Complete   2010-01-29                   5.250000          B737   \n",
       "\n",
       "     A/C Size Affiliation  Avg Load (sTon)  \n",
       "166         S         NGO             0.39  \n",
       "168         S         NGO             0.39  \n",
       "170         S         NGO             0.39  \n",
       "1429        S         NGO             2.34  \n",
       "1770        S         NGO             8.58  "
      ]
     },
     "execution_count": 392,
     "metadata": {},
     "output_type": "execute_result"
    }
   ],
   "source": [
    "plane_small_ngo_after = plane_small_after[plane_small_after['Affiliation'] == 'NGO']\n",
    "plane_small_ngo_after.head()"
   ]
  },
  {
   "cell_type": "markdown",
   "id": "612076f0",
   "metadata": {},
   "source": [
    "## Number of Arrivals and Interarrival Time (hours) of each of the 9 Planes Before and After the Pier Opened"
   ]
  },
  {
   "cell_type": "markdown",
   "id": "ce6ce226",
   "metadata": {},
   "source": [
    "### First arrival statistics for the whole simulation is listed, then arrival statistics for before the pier opened, and finally arrival statistics for after the pier opened"
   ]
  },
  {
   "cell_type": "markdown",
   "id": "189c6a81",
   "metadata": {},
   "source": [
    "#### Wide Military Planes"
   ]
  },
  {
   "cell_type": "code",
   "execution_count": 393,
   "id": "fb6217d7",
   "metadata": {},
   "outputs": [
    {
     "data": {
      "text/plain": [
       "33"
      ]
     },
     "execution_count": 393,
     "metadata": {},
     "output_type": "execute_result"
    }
   ],
   "source": [
    "len(plane_wide_mil)"
   ]
  },
  {
   "cell_type": "code",
   "execution_count": 394,
   "id": "39c69f12",
   "metadata": {},
   "outputs": [
    {
     "data": {
      "text/plain": [
       "29.719696969698735"
      ]
     },
     "execution_count": 394,
     "metadata": {},
     "output_type": "execute_result"
    }
   ],
   "source": [
    "plane_wide_mil['Interarrival Time (hours)'].mean()"
   ]
  },
  {
   "cell_type": "code",
   "execution_count": 395,
   "id": "87bb73d2",
   "metadata": {},
   "outputs": [
    {
     "data": {
      "text/plain": [
       "21"
      ]
     },
     "execution_count": 395,
     "metadata": {},
     "output_type": "execute_result"
    }
   ],
   "source": [
    "len(plane_wide_mil_before)"
   ]
  },
  {
   "cell_type": "code",
   "execution_count": 396,
   "id": "ec0cd8ad",
   "metadata": {},
   "outputs": [
    {
     "data": {
      "text/plain": [
       "11.904761904767449"
      ]
     },
     "execution_count": 396,
     "metadata": {},
     "output_type": "execute_result"
    }
   ],
   "source": [
    "plane_wide_mil_before['Interarrival Time (hours)'].mean()"
   ]
  },
  {
   "cell_type": "code",
   "execution_count": 397,
   "id": "77009d84",
   "metadata": {},
   "outputs": [
    {
     "data": {
      "text/plain": [
       "12"
      ]
     },
     "execution_count": 397,
     "metadata": {},
     "output_type": "execute_result"
    }
   ],
   "source": [
    "len(plane_wide_mil_after)"
   ]
  },
  {
   "cell_type": "code",
   "execution_count": 398,
   "id": "9107fd32",
   "metadata": {},
   "outputs": [
    {
     "data": {
      "text/plain": [
       "60.89583333332848"
      ]
     },
     "execution_count": 398,
     "metadata": {},
     "output_type": "execute_result"
    }
   ],
   "source": [
    "plane_wide_mil_after['Interarrival Time (hours)'].mean()"
   ]
  },
  {
   "cell_type": "markdown",
   "id": "28786e5f",
   "metadata": {},
   "source": [
    "#### Wide Government Planes"
   ]
  },
  {
   "cell_type": "code",
   "execution_count": 399,
   "id": "36dd4294",
   "metadata": {},
   "outputs": [
    {
     "data": {
      "text/plain": [
       "35"
      ]
     },
     "execution_count": 399,
     "metadata": {},
     "output_type": "execute_result"
    }
   ],
   "source": [
    "len(plane_wide_gov)"
   ]
  },
  {
   "cell_type": "code",
   "execution_count": 400,
   "id": "74a93077",
   "metadata": {},
   "outputs": [
    {
     "data": {
      "text/plain": [
       "27.985714285714284"
      ]
     },
     "execution_count": 400,
     "metadata": {},
     "output_type": "execute_result"
    }
   ],
   "source": [
    "plane_wide_gov['Interarrival Time (hours)'].mean()"
   ]
  },
  {
   "cell_type": "code",
   "execution_count": 401,
   "id": "9fc881a5",
   "metadata": {},
   "outputs": [
    {
     "data": {
      "text/plain": [
       "16"
      ]
     },
     "execution_count": 401,
     "metadata": {},
     "output_type": "execute_result"
    }
   ],
   "source": [
    "len(plane_wide_gov_before)"
   ]
  },
  {
   "cell_type": "code",
   "execution_count": 402,
   "id": "38231546",
   "metadata": {},
   "outputs": [
    {
     "data": {
      "text/plain": [
       "12.937499999989086"
      ]
     },
     "execution_count": 402,
     "metadata": {},
     "output_type": "execute_result"
    }
   ],
   "source": [
    "plane_wide_gov_before['Interarrival Time (hours)'].mean()"
   ]
  },
  {
   "cell_type": "code",
   "execution_count": 403,
   "id": "d8c169d4",
   "metadata": {},
   "outputs": [
    {
     "data": {
      "text/plain": [
       "19"
      ]
     },
     "execution_count": 403,
     "metadata": {},
     "output_type": "execute_result"
    }
   ],
   "source": [
    "len(plane_wide_gov_after)"
   ]
  },
  {
   "cell_type": "code",
   "execution_count": 404,
   "id": "fb9a4dbc",
   "metadata": {},
   "outputs": [
    {
     "data": {
      "text/plain": [
       "40.6578947368513"
      ]
     },
     "execution_count": 404,
     "metadata": {},
     "output_type": "execute_result"
    }
   ],
   "source": [
    "plane_wide_gov_after['Interarrival Time (hours)'].mean()"
   ]
  },
  {
   "cell_type": "markdown",
   "id": "86638a52",
   "metadata": {},
   "source": [
    "#### Wide Non-Government Planes"
   ]
  },
  {
   "cell_type": "code",
   "execution_count": 405,
   "id": "0446a3b6",
   "metadata": {},
   "outputs": [
    {
     "data": {
      "text/plain": [
       "83"
      ]
     },
     "execution_count": 405,
     "metadata": {},
     "output_type": "execute_result"
    }
   ],
   "source": [
    "len(plane_wide_ngo)"
   ]
  },
  {
   "cell_type": "code",
   "execution_count": 406,
   "id": "a9d717db",
   "metadata": {},
   "outputs": [
    {
     "data": {
      "text/plain": [
       "12.481927710842672"
      ]
     },
     "execution_count": 406,
     "metadata": {},
     "output_type": "execute_result"
    }
   ],
   "source": [
    "plane_wide_ngo['Interarrival Time (hours)'].mean()"
   ]
  },
  {
   "cell_type": "code",
   "execution_count": 407,
   "id": "f4b930c7",
   "metadata": {},
   "outputs": [
    {
     "data": {
      "text/plain": [
       "23"
      ]
     },
     "execution_count": 407,
     "metadata": {},
     "output_type": "execute_result"
    }
   ],
   "source": [
    "len(plane_wide_ngo_before)"
   ]
  },
  {
   "cell_type": "code",
   "execution_count": 408,
   "id": "84cd62d1",
   "metadata": {},
   "outputs": [
    {
     "data": {
      "text/plain": [
       "10.782608695654705"
      ]
     },
     "execution_count": 408,
     "metadata": {},
     "output_type": "execute_result"
    }
   ],
   "source": [
    "plane_wide_ngo_before['Interarrival Time (hours)'].mean()"
   ]
  },
  {
   "cell_type": "code",
   "execution_count": 409,
   "id": "ec6a04d7",
   "metadata": {},
   "outputs": [
    {
     "data": {
      "text/plain": [
       "60"
      ]
     },
     "execution_count": 409,
     "metadata": {},
     "output_type": "execute_result"
    }
   ],
   "source": [
    "len(plane_wide_ngo_after)"
   ]
  },
  {
   "cell_type": "code",
   "execution_count": 410,
   "id": "d6bcbb99",
   "metadata": {},
   "outputs": [
    {
     "data": {
      "text/plain": [
       "13.133333333331393"
      ]
     },
     "execution_count": 410,
     "metadata": {},
     "output_type": "execute_result"
    }
   ],
   "source": [
    "plane_wide_ngo_after['Interarrival Time (hours)'].mean()"
   ]
  },
  {
   "cell_type": "markdown",
   "id": "fa623284",
   "metadata": {},
   "source": [
    "#### Narrow Military Planes"
   ]
  },
  {
   "cell_type": "code",
   "execution_count": 411,
   "id": "e67398c0",
   "metadata": {},
   "outputs": [
    {
     "data": {
      "text/plain": [
       "957"
      ]
     },
     "execution_count": 411,
     "metadata": {},
     "output_type": "execute_result"
    }
   ],
   "source": [
    "len(plane_narrow_mil)"
   ]
  },
  {
   "cell_type": "code",
   "execution_count": 412,
   "id": "b9ad66ab",
   "metadata": {},
   "outputs": [
    {
     "data": {
      "text/plain": [
       "0.6344393592674682"
      ]
     },
     "execution_count": 412,
     "metadata": {},
     "output_type": "execute_result"
    }
   ],
   "source": [
    "plane_narrow_mil_before['Interarrival Time (hours)'].mean()"
   ]
  },
  {
   "cell_type": "code",
   "execution_count": 413,
   "id": "cb855f73",
   "metadata": {},
   "outputs": [
    {
     "data": {
      "text/plain": [
       "437"
      ]
     },
     "execution_count": 413,
     "metadata": {},
     "output_type": "execute_result"
    }
   ],
   "source": [
    "len(plane_narrow_mil_before)"
   ]
  },
  {
   "cell_type": "code",
   "execution_count": 414,
   "id": "6561de71",
   "metadata": {},
   "outputs": [
    {
     "data": {
      "text/plain": [
       "0.6344393592674682"
      ]
     },
     "execution_count": 414,
     "metadata": {},
     "output_type": "execute_result"
    }
   ],
   "source": [
    "plane_narrow_mil_before['Interarrival Time (hours)'].mean()"
   ]
  },
  {
   "cell_type": "code",
   "execution_count": 415,
   "id": "2cf4ddc1",
   "metadata": {},
   "outputs": [
    {
     "data": {
      "text/plain": [
       "520"
      ]
     },
     "execution_count": 415,
     "metadata": {},
     "output_type": "execute_result"
    }
   ],
   "source": [
    "len(plane_narrow_mil_after)"
   ]
  },
  {
   "cell_type": "code",
   "execution_count": 416,
   "id": "b3296ced",
   "metadata": {},
   "outputs": [
    {
     "data": {
      "text/plain": [
       "1.5201923076923076"
      ]
     },
     "execution_count": 416,
     "metadata": {},
     "output_type": "execute_result"
    }
   ],
   "source": [
    "plane_narrow_mil_after['Interarrival Time (hours)'].mean()"
   ]
  },
  {
   "cell_type": "markdown",
   "id": "6a51c13e",
   "metadata": {},
   "source": [
    "#### Narrow Government Planes"
   ]
  },
  {
   "cell_type": "code",
   "execution_count": 417,
   "id": "c03388c8",
   "metadata": {},
   "outputs": [
    {
     "data": {
      "text/plain": [
       "262"
      ]
     },
     "execution_count": 417,
     "metadata": {},
     "output_type": "execute_result"
    }
   ],
   "source": [
    "len(plane_narrow_gov)"
   ]
  },
  {
   "cell_type": "code",
   "execution_count": 418,
   "id": "80623ba3",
   "metadata": {},
   "outputs": [
    {
     "data": {
      "text/plain": [
       "4.04198473282576"
      ]
     },
     "execution_count": 418,
     "metadata": {},
     "output_type": "execute_result"
    }
   ],
   "source": [
    "plane_narrow_gov['Interarrival Time (hours)'].mean()"
   ]
  },
  {
   "cell_type": "code",
   "execution_count": 419,
   "id": "aab3c372",
   "metadata": {},
   "outputs": [
    {
     "data": {
      "text/plain": [
       "133"
      ]
     },
     "execution_count": 419,
     "metadata": {},
     "output_type": "execute_result"
    }
   ],
   "source": [
    "len(plane_narrow_gov_before)"
   ]
  },
  {
   "cell_type": "code",
   "execution_count": 420,
   "id": "0e6a1b7d",
   "metadata": {},
   "outputs": [
    {
     "data": {
      "text/plain": [
       "2.116541353384334"
      ]
     },
     "execution_count": 420,
     "metadata": {},
     "output_type": "execute_result"
    }
   ],
   "source": [
    "plane_narrow_gov_before['Interarrival Time (hours)'].mean()"
   ]
  },
  {
   "cell_type": "code",
   "execution_count": 421,
   "id": "3c28d11c",
   "metadata": {},
   "outputs": [
    {
     "data": {
      "text/plain": [
       "129"
      ]
     },
     "execution_count": 421,
     "metadata": {},
     "output_type": "execute_result"
    }
   ],
   "source": [
    "len(plane_narrow_gov_after)"
   ]
  },
  {
   "cell_type": "code",
   "execution_count": 422,
   "id": "a3f40985",
   "metadata": {},
   "outputs": [
    {
     "data": {
      "text/plain": [
       "6.027131782947541"
      ]
     },
     "execution_count": 422,
     "metadata": {},
     "output_type": "execute_result"
    }
   ],
   "source": [
    "plane_narrow_gov_after['Interarrival Time (hours)'].mean()"
   ]
  },
  {
   "cell_type": "markdown",
   "id": "935892c9",
   "metadata": {},
   "source": [
    "#### Narrow Non-Government Planes"
   ]
  },
  {
   "cell_type": "code",
   "execution_count": 423,
   "id": "203faed5",
   "metadata": {},
   "outputs": [
    {
     "data": {
      "text/plain": [
       "939"
      ]
     },
     "execution_count": 423,
     "metadata": {},
     "output_type": "execute_result"
    }
   ],
   "source": [
    "len(plane_narrow_ngo)"
   ]
  },
  {
   "cell_type": "code",
   "execution_count": 424,
   "id": "f88109ae",
   "metadata": {},
   "outputs": [
    {
     "data": {
      "text/plain": [
       "1.2227369542068136"
      ]
     },
     "execution_count": 424,
     "metadata": {},
     "output_type": "execute_result"
    }
   ],
   "source": [
    "plane_narrow_ngo['Interarrival Time (hours)'].mean()"
   ]
  },
  {
   "cell_type": "code",
   "execution_count": 425,
   "id": "31f3909e",
   "metadata": {},
   "outputs": [
    {
     "data": {
      "text/plain": [
       "339"
      ]
     },
     "execution_count": 425,
     "metadata": {},
     "output_type": "execute_result"
    }
   ],
   "source": [
    "len(plane_narrow_ngo_before)"
   ]
  },
  {
   "cell_type": "code",
   "execution_count": 426,
   "id": "5e745d40",
   "metadata": {},
   "outputs": [
    {
     "data": {
      "text/plain": [
       "1.065388397247205"
      ]
     },
     "execution_count": 426,
     "metadata": {},
     "output_type": "execute_result"
    }
   ],
   "source": [
    "plane_narrow_ngo_before['Interarrival Time (hours)'].mean()"
   ]
  },
  {
   "cell_type": "code",
   "execution_count": 427,
   "id": "19322bee",
   "metadata": {},
   "outputs": [
    {
     "data": {
      "text/plain": [
       "600"
      ]
     },
     "execution_count": 427,
     "metadata": {},
     "output_type": "execute_result"
    }
   ],
   "source": [
    "len(plane_narrow_ngo_after)"
   ]
  },
  {
   "cell_type": "code",
   "execution_count": 428,
   "id": "6f054b40",
   "metadata": {},
   "outputs": [
    {
     "data": {
      "text/plain": [
       "1.3116388888889923"
      ]
     },
     "execution_count": 428,
     "metadata": {},
     "output_type": "execute_result"
    }
   ],
   "source": [
    "plane_narrow_ngo_after['Interarrival Time (hours)'].mean()"
   ]
  },
  {
   "cell_type": "markdown",
   "id": "a11fea40",
   "metadata": {},
   "source": [
    "#### Small Military Planes"
   ]
  },
  {
   "cell_type": "code",
   "execution_count": 429,
   "id": "8a1e3e8b",
   "metadata": {},
   "outputs": [
    {
     "data": {
      "text/plain": [
       "70"
      ]
     },
     "execution_count": 429,
     "metadata": {},
     "output_type": "execute_result"
    }
   ],
   "source": [
    "len(plane_small_mil)"
   ]
  },
  {
   "cell_type": "code",
   "execution_count": 430,
   "id": "66afcd4f",
   "metadata": {},
   "outputs": [
    {
     "data": {
      "text/plain": [
       "15.474999999999168"
      ]
     },
     "execution_count": 430,
     "metadata": {},
     "output_type": "execute_result"
    }
   ],
   "source": [
    "plane_small_mil['Interarrival Time (hours)'].mean()"
   ]
  },
  {
   "cell_type": "code",
   "execution_count": 431,
   "id": "b512ea67",
   "metadata": {},
   "outputs": [
    {
     "data": {
      "text/plain": [
       "22"
      ]
     },
     "execution_count": 431,
     "metadata": {},
     "output_type": "execute_result"
    }
   ],
   "source": [
    "len(plane_small_mil_before)"
   ]
  },
  {
   "cell_type": "code",
   "execution_count": 432,
   "id": "e89c4a9e",
   "metadata": {},
   "outputs": [
    {
     "data": {
      "text/plain": [
       "13.295454545462484"
      ]
     },
     "execution_count": 432,
     "metadata": {},
     "output_type": "execute_result"
    }
   ],
   "source": [
    "plane_small_mil_before['Interarrival Time (hours)'].mean()"
   ]
  },
  {
   "cell_type": "code",
   "execution_count": 433,
   "id": "334a91bd",
   "metadata": {},
   "outputs": [
    {
     "data": {
      "text/plain": [
       "48"
      ]
     },
     "execution_count": 433,
     "metadata": {},
     "output_type": "execute_result"
    }
   ],
   "source": [
    "len(plane_small_mil_after)"
   ]
  },
  {
   "cell_type": "code",
   "execution_count": 434,
   "id": "82dd81bd",
   "metadata": {},
   "outputs": [
    {
     "data": {
      "text/plain": [
       "16.473958333328483"
      ]
     },
     "execution_count": 434,
     "metadata": {},
     "output_type": "execute_result"
    }
   ],
   "source": [
    "plane_small_mil_after['Interarrival Time (hours)'].mean()"
   ]
  },
  {
   "cell_type": "markdown",
   "id": "25e2126d",
   "metadata": {},
   "source": [
    "#### Small Government Planes"
   ]
  },
  {
   "cell_type": "code",
   "execution_count": 435,
   "id": "bd4ddcb7",
   "metadata": {},
   "outputs": [
    {
     "data": {
      "text/plain": [
       "103"
      ]
     },
     "execution_count": 435,
     "metadata": {},
     "output_type": "execute_result"
    }
   ],
   "source": [
    "len(plane_small_gov)"
   ]
  },
  {
   "cell_type": "code",
   "execution_count": 436,
   "id": "6f46bb97",
   "metadata": {},
   "outputs": [
    {
     "data": {
      "text/plain": [
       "7.329288025887895"
      ]
     },
     "execution_count": 436,
     "metadata": {},
     "output_type": "execute_result"
    }
   ],
   "source": [
    "plane_small_gov['Interarrival Time (hours)'].mean()"
   ]
  },
  {
   "cell_type": "code",
   "execution_count": 437,
   "id": "e9c6ae10",
   "metadata": {},
   "outputs": [
    {
     "data": {
      "text/plain": [
       "62"
      ]
     },
     "execution_count": 437,
     "metadata": {},
     "output_type": "execute_result"
    }
   ],
   "source": [
    "len(plane_small_gov_before)"
   ]
  },
  {
   "cell_type": "code",
   "execution_count": 438,
   "id": "d563f39f",
   "metadata": {},
   "outputs": [
    {
     "data": {
      "text/plain": [
       "4.135752688170478"
      ]
     },
     "execution_count": 438,
     "metadata": {},
     "output_type": "execute_result"
    }
   ],
   "source": [
    "plane_small_gov_before['Interarrival Time (hours)'].mean()"
   ]
  },
  {
   "cell_type": "code",
   "execution_count": 439,
   "id": "b7fbee85",
   "metadata": {},
   "outputs": [
    {
     "data": {
      "text/plain": [
       "41"
      ]
     },
     "execution_count": 439,
     "metadata": {},
     "output_type": "execute_result"
    }
   ],
   "source": [
    "len(plane_small_gov_after)"
   ]
  },
  {
   "cell_type": "code",
   "execution_count": 440,
   "id": "8bc37a95",
   "metadata": {},
   "outputs": [
    {
     "data": {
      "text/plain": [
       "12.158536585363015"
      ]
     },
     "execution_count": 440,
     "metadata": {},
     "output_type": "execute_result"
    }
   ],
   "source": [
    "plane_small_gov_after['Interarrival Time (hours)'].mean()"
   ]
  },
  {
   "cell_type": "markdown",
   "id": "0b7fad20",
   "metadata": {},
   "source": [
    "#### Small Non-Government Planes"
   ]
  },
  {
   "cell_type": "code",
   "execution_count": 441,
   "id": "74d8aabf",
   "metadata": {},
   "outputs": [
    {
     "data": {
      "text/plain": [
       "705"
      ]
     },
     "execution_count": 441,
     "metadata": {},
     "output_type": "execute_result"
    }
   ],
   "source": [
    "len(plane_small_ngo)"
   ]
  },
  {
   "cell_type": "code",
   "execution_count": 442,
   "id": "f57996d8",
   "metadata": {},
   "outputs": [
    {
     "data": {
      "text/plain": [
       "1.4517730496457204"
      ]
     },
     "execution_count": 442,
     "metadata": {},
     "output_type": "execute_result"
    }
   ],
   "source": [
    "plane_small_ngo['Interarrival Time (hours)'].mean()"
   ]
  },
  {
   "cell_type": "code",
   "execution_count": 443,
   "id": "d7644ecb",
   "metadata": {},
   "outputs": [
    {
     "data": {
      "text/plain": [
       "366"
      ]
     },
     "execution_count": 443,
     "metadata": {},
     "output_type": "execute_result"
    }
   ],
   "source": [
    "len(plane_small_ngo_before)"
   ]
  },
  {
   "cell_type": "code",
   "execution_count": 444,
   "id": "b39f6609",
   "metadata": {},
   "outputs": [
    {
     "data": {
      "text/plain": [
       "0.6748633879775059"
      ]
     },
     "execution_count": 444,
     "metadata": {},
     "output_type": "execute_result"
    }
   ],
   "source": [
    "plane_small_ngo_before['Interarrival Time (hours)'].mean()"
   ]
  },
  {
   "cell_type": "code",
   "execution_count": 445,
   "id": "adf2c21a",
   "metadata": {},
   "outputs": [
    {
     "data": {
      "text/plain": [
       "339"
      ]
     },
     "execution_count": 445,
     "metadata": {},
     "output_type": "execute_result"
    }
   ],
   "source": [
    "len(plane_small_ngo_after)"
   ]
  },
  {
   "cell_type": "code",
   "execution_count": 446,
   "id": "7f9ae34a",
   "metadata": {},
   "outputs": [
    {
     "data": {
      "text/plain": [
       "2.290560471977775"
      ]
     },
     "execution_count": 446,
     "metadata": {},
     "output_type": "execute_result"
    }
   ],
   "source": [
    "plane_small_ngo_after['Interarrival Time (hours)'].mean()"
   ]
  },
  {
   "cell_type": "markdown",
   "id": "bd78b5e9",
   "metadata": {},
   "source": [
    "## Average Load (sTons) of each of the Wide and Narrow Planes"
   ]
  },
  {
   "cell_type": "markdown",
   "id": "170ad76d",
   "metadata": {},
   "source": [
    "#### Wide Military Planes"
   ]
  },
  {
   "cell_type": "code",
   "execution_count": 447,
   "id": "58e5ba63",
   "metadata": {},
   "outputs": [
    {
     "data": {
      "text/plain": [
       "46.308181818181815"
      ]
     },
     "execution_count": 447,
     "metadata": {},
     "output_type": "execute_result"
    }
   ],
   "source": [
    "plane_wide_mil['Avg Load (sTon)'].mean()"
   ]
  },
  {
   "cell_type": "markdown",
   "id": "1e317ff8",
   "metadata": {},
   "source": [
    "#### Wide Government Planes"
   ]
  },
  {
   "cell_type": "code",
   "execution_count": 450,
   "id": "0ce5f284",
   "metadata": {},
   "outputs": [
    {
     "data": {
      "text/plain": [
       "54.612857142857145"
      ]
     },
     "execution_count": 450,
     "metadata": {},
     "output_type": "execute_result"
    }
   ],
   "source": [
    "plane_wide_gov['Avg Load (sTon)'].mean()"
   ]
  },
  {
   "cell_type": "markdown",
   "id": "551c14e7",
   "metadata": {},
   "source": [
    "#### Wide Non-Government Planes"
   ]
  },
  {
   "cell_type": "code",
   "execution_count": 453,
   "id": "6c729343",
   "metadata": {},
   "outputs": [
    {
     "data": {
      "text/plain": [
       "43.48669879518072"
      ]
     },
     "execution_count": 453,
     "metadata": {},
     "output_type": "execute_result"
    }
   ],
   "source": [
    "plane_wide_ngo['Avg Load (sTon)'].mean()"
   ]
  },
  {
   "cell_type": "markdown",
   "id": "4dab999f",
   "metadata": {},
   "source": [
    "#### Narrow Military Planes"
   ]
  },
  {
   "cell_type": "code",
   "execution_count": 456,
   "id": "8bdd79ee",
   "metadata": {},
   "outputs": [
    {
     "data": {
      "text/plain": [
       "16.629483281086742"
      ]
     },
     "execution_count": 456,
     "metadata": {},
     "output_type": "execute_result"
    }
   ],
   "source": [
    "plane_narrow_mil['Avg Load (sTon)'].mean()"
   ]
  },
  {
   "cell_type": "markdown",
   "id": "63ca2300",
   "metadata": {},
   "source": [
    "#### Narrow Government Planes"
   ]
  },
  {
   "cell_type": "code",
   "execution_count": 459,
   "id": "6870961c",
   "metadata": {},
   "outputs": [
    {
     "data": {
      "text/plain": [
       "7.443854961832053"
      ]
     },
     "execution_count": 459,
     "metadata": {},
     "output_type": "execute_result"
    }
   ],
   "source": [
    "plane_narrow_gov['Avg Load (sTon)'].mean()"
   ]
  },
  {
   "cell_type": "markdown",
   "id": "745bbae8",
   "metadata": {},
   "source": [
    "#### Narrow Non-Government Planes"
   ]
  },
  {
   "cell_type": "code",
   "execution_count": 462,
   "id": "2ebb8280",
   "metadata": {},
   "outputs": [
    {
     "data": {
      "text/plain": [
       "5.251056443024501"
      ]
     },
     "execution_count": 462,
     "metadata": {},
     "output_type": "execute_result"
    }
   ],
   "source": [
    "plane_narrow_ngo['Avg Load (sTon)'].mean()"
   ]
  },
  {
   "cell_type": "markdown",
   "id": "62256c52",
   "metadata": {},
   "source": [
    "## Analysis of Ground Time Data"
   ]
  },
  {
   "cell_type": "markdown",
   "id": "fc8e0a24",
   "metadata": {},
   "source": [
    "### Groundtime HFOCC DF: Merging the ground time data with the HFOCC data."
   ]
  },
  {
   "cell_type": "code",
   "execution_count": 465,
   "id": "86ebc239",
   "metadata": {
    "scrolled": true
   },
   "outputs": [
    {
     "data": {
      "text/html": [
       "<div>\n",
       "<style scoped>\n",
       "    .dataframe tbody tr th:only-of-type {\n",
       "        vertical-align: middle;\n",
       "    }\n",
       "\n",
       "    .dataframe tbody tr th {\n",
       "        vertical-align: top;\n",
       "    }\n",
       "\n",
       "    .dataframe thead th {\n",
       "        text-align: right;\n",
       "    }\n",
       "</style>\n",
       "<table border=\"1\" class=\"dataframe\">\n",
       "  <thead>\n",
       "    <tr style=\"text-align: right;\">\n",
       "      <th></th>\n",
       "      <th>Request Status</th>\n",
       "      <th>Arrival Date</th>\n",
       "      <th>Arrival Time</th>\n",
       "      <th>Date/Time</th>\n",
       "      <th>Interarrival Time (hours)</th>\n",
       "      <th>Organization</th>\n",
       "      <th>Aircraft Type</th>\n",
       "      <th>Call Sign</th>\n",
       "      <th>Tail #</th>\n",
       "      <th>A/C Size</th>\n",
       "      <th>...</th>\n",
       "      <th>Mission purpose</th>\n",
       "      <th># Pax</th>\n",
       "      <th>CNX DATE</th>\n",
       "      <th>CNX TIME</th>\n",
       "      <th>AF Planner Remarks</th>\n",
       "      <th>AF Manager Remarks</th>\n",
       "      <th>ID</th>\n",
       "      <th>Modified</th>\n",
       "      <th>Created</th>\n",
       "      <th>Ground Time (Hrs)</th>\n",
       "    </tr>\n",
       "  </thead>\n",
       "  <tbody>\n",
       "    <tr>\n",
       "      <th>0</th>\n",
       "      <td>Complete</td>\n",
       "      <td>2010-01-16</td>\n",
       "      <td>0400Z</td>\n",
       "      <td>2010-01-16 04:00:00</td>\n",
       "      <td>0.0</td>\n",
       "      <td>US SENATOR</td>\n",
       "      <td>GULFSTREAM</td>\n",
       "      <td>N450GD</td>\n",
       "      <td>N450GD</td>\n",
       "      <td>N</td>\n",
       "      <td>...</td>\n",
       "      <td>PICK UP EVACUEES</td>\n",
       "      <td>14</td>\n",
       "      <td>NaN</td>\n",
       "      <td>NaN</td>\n",
       "      <td>NaN</td>\n",
       "      <td>NaN</td>\n",
       "      <td>2708</td>\n",
       "      <td>2010-02-06 15:01:10</td>\n",
       "      <td>2010-02-03 09:08:54</td>\n",
       "      <td>1.454</td>\n",
       "    </tr>\n",
       "    <tr>\n",
       "      <th>1</th>\n",
       "      <td>Complete</td>\n",
       "      <td>2010-01-16</td>\n",
       "      <td>1200Z</td>\n",
       "      <td>2010-01-16 12:00:00</td>\n",
       "      <td>8.0</td>\n",
       "      <td>MEXICAN GOVT</td>\n",
       "      <td>C130</td>\n",
       "      <td>MEXICAN AF 3616</td>\n",
       "      <td>3616</td>\n",
       "      <td>N</td>\n",
       "      <td>...</td>\n",
       "      <td>HUMANITARIAN AID</td>\n",
       "      <td>UNK</td>\n",
       "      <td>NaN</td>\n",
       "      <td>NaN</td>\n",
       "      <td>NaN</td>\n",
       "      <td>NaN</td>\n",
       "      <td>2716</td>\n",
       "      <td>2010-02-11 10:48:28</td>\n",
       "      <td>2010-02-03 09:08:54</td>\n",
       "      <td>1.309</td>\n",
       "    </tr>\n",
       "    <tr>\n",
       "      <th>2</th>\n",
       "      <td>Complete</td>\n",
       "      <td>2010-01-16</td>\n",
       "      <td>1300Z</td>\n",
       "      <td>2010-01-16 13:00:00</td>\n",
       "      <td>1.0</td>\n",
       "      <td>UK GOVT</td>\n",
       "      <td>B727</td>\n",
       "      <td>AJT401</td>\n",
       "      <td>N199AJ</td>\n",
       "      <td>N</td>\n",
       "      <td>...</td>\n",
       "      <td>UNKNOWN</td>\n",
       "      <td>UNK</td>\n",
       "      <td>NaN</td>\n",
       "      <td>NaN</td>\n",
       "      <td>NaN</td>\n",
       "      <td>NaN</td>\n",
       "      <td>2722</td>\n",
       "      <td>2010-02-06 17:17:08</td>\n",
       "      <td>2010-02-03 09:08:55</td>\n",
       "      <td>1.202</td>\n",
       "    </tr>\n",
       "    <tr>\n",
       "      <th>3</th>\n",
       "      <td>Complete</td>\n",
       "      <td>2010-01-16</td>\n",
       "      <td>1900Z</td>\n",
       "      <td>2010-01-16 19:00:00</td>\n",
       "      <td>6.0</td>\n",
       "      <td>USCG</td>\n",
       "      <td>C130</td>\n",
       "      <td>CG1720</td>\n",
       "      <td>Unknown</td>\n",
       "      <td>N</td>\n",
       "      <td>...</td>\n",
       "      <td>SECRETARY OF STATE</td>\n",
       "      <td>UNK</td>\n",
       "      <td>NaN</td>\n",
       "      <td>NaN</td>\n",
       "      <td>NaN</td>\n",
       "      <td>NaN</td>\n",
       "      <td>2748</td>\n",
       "      <td>2010-02-07 03:07:53</td>\n",
       "      <td>2010-02-03 09:08:55</td>\n",
       "      <td>1.050</td>\n",
       "    </tr>\n",
       "    <tr>\n",
       "      <th>4</th>\n",
       "      <td>Complete</td>\n",
       "      <td>2010-01-16</td>\n",
       "      <td>2000Z</td>\n",
       "      <td>2010-01-16 20:00:00</td>\n",
       "      <td>1.0</td>\n",
       "      <td>USCG</td>\n",
       "      <td>FALCON</td>\n",
       "      <td>C2117</td>\n",
       "      <td>2117</td>\n",
       "      <td>N</td>\n",
       "      <td>...</td>\n",
       "      <td>PAX</td>\n",
       "      <td>2</td>\n",
       "      <td>NaN</td>\n",
       "      <td>NaN</td>\n",
       "      <td>NaN</td>\n",
       "      <td>NaN</td>\n",
       "      <td>2755</td>\n",
       "      <td>2010-02-06 15:01:32</td>\n",
       "      <td>2010-02-03 09:08:55</td>\n",
       "      <td>1.173</td>\n",
       "    </tr>\n",
       "  </tbody>\n",
       "</table>\n",
       "<p>5 rows × 24 columns</p>\n",
       "</div>"
      ],
      "text/plain": [
       "  Request Status Arrival Date Arrival Time           Date/Time  \\\n",
       "0       Complete   2010-01-16        0400Z 2010-01-16 04:00:00   \n",
       "1       Complete   2010-01-16        1200Z 2010-01-16 12:00:00   \n",
       "2       Complete   2010-01-16        1300Z 2010-01-16 13:00:00   \n",
       "3       Complete   2010-01-16        1900Z 2010-01-16 19:00:00   \n",
       "4       Complete   2010-01-16        2000Z 2010-01-16 20:00:00   \n",
       "\n",
       "   Interarrival Time (hours)  Organization Aircraft Type        Call Sign  \\\n",
       "0                        0.0    US SENATOR    GULFSTREAM           N450GD   \n",
       "1                        8.0  MEXICAN GOVT          C130  MEXICAN AF 3616   \n",
       "2                        1.0       UK GOVT          B727           AJT401   \n",
       "3                        6.0          USCG          C130           CG1720   \n",
       "4                        1.0          USCG        FALCON            C2117   \n",
       "\n",
       "    Tail # A/C Size  ...     Mission purpose # Pax  CNX DATE CNX TIME  \\\n",
       "0   N450GD        N  ...    PICK UP EVACUEES    14       NaN      NaN   \n",
       "1     3616        N  ...    HUMANITARIAN AID   UNK       NaN      NaN   \n",
       "2   N199AJ        N  ...             UNKNOWN   UNK       NaN      NaN   \n",
       "3  Unknown        N  ...  SECRETARY OF STATE   UNK       NaN      NaN   \n",
       "4     2117        N  ...                 PAX     2       NaN      NaN   \n",
       "\n",
       "  AF Planner Remarks AF Manager Remarks    ID            Modified  \\\n",
       "0                NaN                NaN  2708 2010-02-06 15:01:10   \n",
       "1                NaN                NaN  2716 2010-02-11 10:48:28   \n",
       "2                NaN                NaN  2722 2010-02-06 17:17:08   \n",
       "3                NaN                NaN  2748 2010-02-07 03:07:53   \n",
       "4                NaN                NaN  2755 2010-02-06 15:01:32   \n",
       "\n",
       "              Created Ground Time (Hrs)  \n",
       "0 2010-02-03 09:08:54             1.454  \n",
       "1 2010-02-03 09:08:54             1.309  \n",
       "2 2010-02-03 09:08:55             1.202  \n",
       "3 2010-02-03 09:08:55             1.050  \n",
       "4 2010-02-03 09:08:55             1.173  \n",
       "\n",
       "[5 rows x 24 columns]"
      ]
     },
     "execution_count": 465,
     "metadata": {},
     "output_type": "execute_result"
    }
   ],
   "source": [
    "groundtime_hfocc = pd.merge(hfocc, ground_time, on=\"ID\")\n",
    "groundtime_hfocc.head()"
   ]
  },
  {
   "cell_type": "code",
   "execution_count": 466,
   "id": "38b56c72",
   "metadata": {
    "scrolled": true
   },
   "outputs": [
    {
     "data": {
      "text/html": [
       "<div>\n",
       "<style scoped>\n",
       "    .dataframe tbody tr th:only-of-type {\n",
       "        vertical-align: middle;\n",
       "    }\n",
       "\n",
       "    .dataframe tbody tr th {\n",
       "        vertical-align: top;\n",
       "    }\n",
       "\n",
       "    .dataframe thead th {\n",
       "        text-align: right;\n",
       "    }\n",
       "</style>\n",
       "<table border=\"1\" class=\"dataframe\">\n",
       "  <thead>\n",
       "    <tr style=\"text-align: right;\">\n",
       "      <th></th>\n",
       "      <th>Request Status</th>\n",
       "      <th>Arrival Date</th>\n",
       "      <th>A/C Size</th>\n",
       "      <th>Affiliation</th>\n",
       "      <th>Ground Time (Hrs)</th>\n",
       "    </tr>\n",
       "  </thead>\n",
       "  <tbody>\n",
       "    <tr>\n",
       "      <th>0</th>\n",
       "      <td>Complete</td>\n",
       "      <td>2010-01-16</td>\n",
       "      <td>N</td>\n",
       "      <td>GOV</td>\n",
       "      <td>1.454</td>\n",
       "    </tr>\n",
       "    <tr>\n",
       "      <th>1</th>\n",
       "      <td>Complete</td>\n",
       "      <td>2010-01-16</td>\n",
       "      <td>N</td>\n",
       "      <td>GOV</td>\n",
       "      <td>1.309</td>\n",
       "    </tr>\n",
       "    <tr>\n",
       "      <th>2</th>\n",
       "      <td>Complete</td>\n",
       "      <td>2010-01-16</td>\n",
       "      <td>N</td>\n",
       "      <td>GOV</td>\n",
       "      <td>1.202</td>\n",
       "    </tr>\n",
       "    <tr>\n",
       "      <th>3</th>\n",
       "      <td>Complete</td>\n",
       "      <td>2010-01-16</td>\n",
       "      <td>N</td>\n",
       "      <td>GOV</td>\n",
       "      <td>1.050</td>\n",
       "    </tr>\n",
       "    <tr>\n",
       "      <th>4</th>\n",
       "      <td>Complete</td>\n",
       "      <td>2010-01-16</td>\n",
       "      <td>N</td>\n",
       "      <td>GOV</td>\n",
       "      <td>1.173</td>\n",
       "    </tr>\n",
       "  </tbody>\n",
       "</table>\n",
       "</div>"
      ],
      "text/plain": [
       "  Request Status Arrival Date A/C Size Affiliation  Ground Time (Hrs)\n",
       "0       Complete   2010-01-16        N         GOV              1.454\n",
       "1       Complete   2010-01-16        N         GOV              1.309\n",
       "2       Complete   2010-01-16        N         GOV              1.202\n",
       "3       Complete   2010-01-16        N         GOV              1.050\n",
       "4       Complete   2010-01-16        N         GOV              1.173"
      ]
     },
     "execution_count": 466,
     "metadata": {},
     "output_type": "execute_result"
    }
   ],
   "source": [
    "groundtime_hfocc = groundtime_hfocc[['Request Status','Arrival Date','A/C Size','Affiliation','Ground Time (Hrs)']]\n",
    "groundtime_hfocc.head()"
   ]
  },
  {
   "cell_type": "code",
   "execution_count": 467,
   "id": "edbc1fa8",
   "metadata": {},
   "outputs": [],
   "source": [
    "groundtime_hfocc['Ground Time (Hrs)'] = groundtime_hfocc['Ground Time (Hrs)'] - (10/60)"
   ]
  },
  {
   "cell_type": "code",
   "execution_count": 468,
   "id": "3c9bc3c4",
   "metadata": {},
   "outputs": [
    {
     "data": {
      "text/plain": [
       "1.2622987333951192"
      ]
     },
     "execution_count": 468,
     "metadata": {},
     "output_type": "execute_result"
    }
   ],
   "source": [
    "groundtime_hfocc['Ground Time (Hrs)'].mean()"
   ]
  },
  {
   "cell_type": "code",
   "execution_count": 469,
   "id": "eedf8528",
   "metadata": {},
   "outputs": [
    {
     "data": {
      "image/png": "[encoded data removed]",
      "text/plain": [
       "<Figure size 432x288 with 1 Axes>"
      ]
     },
     "metadata": {
      "needs_background": "light"
     },
     "output_type": "display_data"
    }
   ],
   "source": [
    "sns.histplot(data=groundtime_hfocc,x='Ground Time (Hrs)')\n",
    "plt.show()"
   ]
  },
  {
   "cell_type": "code",
   "execution_count": 470,
   "id": "ae61cfc1",
   "metadata": {},
   "outputs": [
    {
     "data": {
      "image/png": "[encoded data removed]",
      "text/plain": [
       "<Figure size 432x288 with 1 Axes>"
      ]
     },
     "metadata": {
      "needs_background": "light"
     },
     "output_type": "display_data"
    }
   ],
   "source": [
    "plt.plot(groundtime_hfocc['Ground Time (Hrs)'].values)\n",
    "plt.show()"
   ]
  },
  {
   "cell_type": "code",
   "execution_count": 471,
   "id": "027836e2",
   "metadata": {},
   "outputs": [
    {
     "data": {
      "text/plain": [
       "2148"
      ]
     },
     "execution_count": 471,
     "metadata": {},
     "output_type": "execute_result"
    }
   ],
   "source": [
    "turning_points_test(groundtime_hfocc['Ground Time (Hrs)'].values)"
   ]
  },
  {
   "cell_type": "code",
   "execution_count": 472,
   "id": "62d766ea",
   "metadata": {},
   "outputs": [],
   "source": [
    "Mean_R = ((2*len(groundtime_hfocc))-4) / 3"
   ]
  },
  {
   "cell_type": "code",
   "execution_count": 473,
   "id": "adc079e9",
   "metadata": {},
   "outputs": [],
   "source": [
    "Sigma_R2 = ((16*len(groundtime_hfocc))-29) / 90"
   ]
  },
  {
   "cell_type": "code",
   "execution_count": 474,
   "id": "9c3c451e",
   "metadata": {},
   "outputs": [],
   "source": [
    "test_stat = (16-Mean_R) / math.sqrt(Sigma_R2)"
   ]
  },
  {
   "cell_type": "code",
   "execution_count": 475,
   "id": "e4f8e8cf",
   "metadata": {},
   "outputs": [
    {
     "name": "stdout",
     "output_type": "stream",
     "text": [
      "Reject the null hypothesis that the data is independent\n"
     ]
    }
   ],
   "source": [
    "if test_stat < stats.norm.ppf(0.025) or test_stat > stats.norm.ppf(0.975):\n",
    "    print(\"Reject the null hypothesis that the data is independent\")\n",
    "else:\n",
    "    print(\"Fail to reject the null hypothesis that the data is independent\")"
   ]
  },
  {
   "cell_type": "markdown",
   "id": "2c151ecb",
   "metadata": {},
   "source": [
    "#### The table below gives us the mean, standard deviation, minimum, and max of the ground times for each of the nine types of planes that landed at Port-au-Prince Airport. "
   ]
  },
  {
   "cell_type": "code",
   "execution_count": 476,
   "id": "e1735dd2",
   "metadata": {
    "scrolled": false
   },
   "outputs": [
    {
     "data": {
      "text/html": [
       "<div>\n",
       "<style scoped>\n",
       "    .dataframe tbody tr th:only-of-type {\n",
       "        vertical-align: middle;\n",
       "    }\n",
       "\n",
       "    .dataframe tbody tr th {\n",
       "        vertical-align: top;\n",
       "    }\n",
       "\n",
       "    .dataframe thead tr th {\n",
       "        text-align: left;\n",
       "    }\n",
       "\n",
       "    .dataframe thead tr:last-of-type th {\n",
       "        text-align: right;\n",
       "    }\n",
       "</style>\n",
       "<table border=\"1\" class=\"dataframe\">\n",
       "  <thead>\n",
       "    <tr>\n",
       "      <th></th>\n",
       "      <th></th>\n",
       "      <th colspan=\"4\" halign=\"left\">Ground Time (Hrs)</th>\n",
       "    </tr>\n",
       "    <tr>\n",
       "      <th></th>\n",
       "      <th></th>\n",
       "      <th>mean</th>\n",
       "      <th>std</th>\n",
       "      <th>min</th>\n",
       "      <th>max</th>\n",
       "    </tr>\n",
       "    <tr>\n",
       "      <th>A/C Size</th>\n",
       "      <th>Affiliation</th>\n",
       "      <th></th>\n",
       "      <th></th>\n",
       "      <th></th>\n",
       "      <th></th>\n",
       "    </tr>\n",
       "  </thead>\n",
       "  <tbody>\n",
       "    <tr>\n",
       "      <th rowspan=\"3\" valign=\"top\">N</th>\n",
       "      <th>GOV</th>\n",
       "      <td>1.222711</td>\n",
       "      <td>0.279529</td>\n",
       "      <td>0.380333</td>\n",
       "      <td>1.945333</td>\n",
       "    </tr>\n",
       "    <tr>\n",
       "      <th>MIL</th>\n",
       "      <td>1.030109</td>\n",
       "      <td>0.237086</td>\n",
       "      <td>0.197333</td>\n",
       "      <td>1.720333</td>\n",
       "    </tr>\n",
       "    <tr>\n",
       "      <th>NGO</th>\n",
       "      <td>1.634915</td>\n",
       "      <td>0.357279</td>\n",
       "      <td>0.190333</td>\n",
       "      <td>2.786333</td>\n",
       "    </tr>\n",
       "    <tr>\n",
       "      <th rowspan=\"3\" valign=\"top\">S</th>\n",
       "      <th>GOV</th>\n",
       "      <td>0.893000</td>\n",
       "      <td>0.238572</td>\n",
       "      <td>0.258333</td>\n",
       "      <td>1.389333</td>\n",
       "    </tr>\n",
       "    <tr>\n",
       "      <th>MIL</th>\n",
       "      <td>0.962262</td>\n",
       "      <td>0.223028</td>\n",
       "      <td>0.350333</td>\n",
       "      <td>1.378333</td>\n",
       "    </tr>\n",
       "    <tr>\n",
       "      <th>NGO</th>\n",
       "      <td>0.926988</td>\n",
       "      <td>0.212434</td>\n",
       "      <td>0.331333</td>\n",
       "      <td>1.634333</td>\n",
       "    </tr>\n",
       "    <tr>\n",
       "      <th rowspan=\"3\" valign=\"top\">W</th>\n",
       "      <th>GOV</th>\n",
       "      <td>2.333171</td>\n",
       "      <td>0.519290</td>\n",
       "      <td>1.247333</td>\n",
       "      <td>3.429333</td>\n",
       "    </tr>\n",
       "    <tr>\n",
       "      <th>MIL</th>\n",
       "      <td>1.918970</td>\n",
       "      <td>0.449577</td>\n",
       "      <td>1.082333</td>\n",
       "      <td>2.907333</td>\n",
       "    </tr>\n",
       "    <tr>\n",
       "      <th>NGO</th>\n",
       "      <td>2.775972</td>\n",
       "      <td>0.637275</td>\n",
       "      <td>1.113333</td>\n",
       "      <td>4.540333</td>\n",
       "    </tr>\n",
       "  </tbody>\n",
       "</table>\n",
       "</div>"
      ],
      "text/plain": [
       "                     Ground Time (Hrs)                              \n",
       "                                  mean       std       min       max\n",
       "A/C Size Affiliation                                                \n",
       "N        GOV                  1.222711  0.279529  0.380333  1.945333\n",
       "         MIL                  1.030109  0.237086  0.197333  1.720333\n",
       "         NGO                  1.634915  0.357279  0.190333  2.786333\n",
       "S        GOV                  0.893000  0.238572  0.258333  1.389333\n",
       "         MIL                  0.962262  0.223028  0.350333  1.378333\n",
       "         NGO                  0.926988  0.212434  0.331333  1.634333\n",
       "W        GOV                  2.333171  0.519290  1.247333  3.429333\n",
       "         MIL                  1.918970  0.449577  1.082333  2.907333\n",
       "         NGO                  2.775972  0.637275  1.113333  4.540333"
      ]
     },
     "execution_count": 476,
     "metadata": {},
     "output_type": "execute_result"
    }
   ],
   "source": [
    "groundtime_hfocc.groupby(['A/C Size','Affiliation']).agg({'Ground Time (Hrs)': ['mean','std','min','max']})"
   ]
  },
  {
   "cell_type": "markdown",
   "id": "e201776b",
   "metadata": {},
   "source": [
    "### Splitting GroundTime HFOCC DF into 9 DF's based on A/C Size & Affiliation"
   ]
  },
  {
   "cell_type": "code",
   "execution_count": 477,
   "id": "e96d3cd0",
   "metadata": {},
   "outputs": [],
   "source": [
    "grouped = groundtime_hfocc.groupby(by = ['A/C Size', 'Affiliation'])"
   ]
  },
  {
   "cell_type": "code",
   "execution_count": 478,
   "id": "4dffdfe0",
   "metadata": {},
   "outputs": [],
   "source": [
    "dfs = [grouped.get_group(x) for x in grouped.groups]"
   ]
  },
  {
   "cell_type": "code",
   "execution_count": 479,
   "id": "d0f0ca3f",
   "metadata": {},
   "outputs": [
    {
     "data": {
      "text/plain": [
       "[    Request Status Arrival Date A/C Size Affiliation  Ground Time (Hrs)\n",
       " 0         Complete   2010-01-16        N         GOV           1.287333\n",
       " 1         Complete   2010-01-16        N         GOV           1.142333\n",
       " 2         Complete   2010-01-16        N         GOV           1.035333\n",
       " 3         Complete   2010-01-16        N         GOV           0.883333\n",
       " 4         Complete   2010-01-16        N         GOV           1.006333\n",
       " ..             ...          ...      ...         ...                ...\n",
       " 260       Complete   2010-02-28        N         GOV           1.126333\n",
       " 261       Complete   2010-02-28        N         GOV           1.094333\n",
       " 262       Complete   2010-02-28        N         GOV           1.126333\n",
       " 263       Complete   2010-02-28        N         GOV           1.034333\n",
       " 264       Complete   2010-03-01        N         GOV           1.264333\n",
       " \n",
       " [265 rows x 5 columns],\n",
       "      Request Status Arrival Date A/C Size Affiliation  Ground Time (Hrs)\n",
       " 407        Complete   2010-01-16        N         MIL           1.011333\n",
       " 408        Complete   2010-01-16        N         MIL           1.035333\n",
       " 409        Complete   2010-01-16        N         MIL           1.199333\n",
       " 410        Complete   2010-01-16        N         MIL           1.600333\n",
       " 411        Complete   2010-01-16        N         MIL           0.986333\n",
       " ...             ...          ...      ...         ...                ...\n",
       " 1360       Complete   2010-03-01        N         MIL           0.899333\n",
       " 1361       Complete   2010-03-01        N         MIL           1.325333\n",
       " 1362       Complete   2010-03-01        N         MIL           0.682333\n",
       " 1363       Complete   2010-03-01        N         MIL           0.854333\n",
       " 1364       Complete   2010-03-01        N         MIL           0.794333\n",
       " \n",
       " [958 rows x 5 columns],\n",
       "      Request Status Arrival Date A/C Size Affiliation  Ground Time (Hrs)\n",
       " 1468       Complete   2010-01-12        N         NGO           1.705333\n",
       " 1469       Complete   2010-01-16        N         NGO           1.187333\n",
       " 1470       Complete   2010-01-16        N         NGO           2.026333\n",
       " 1471       Complete   2010-01-16        N         NGO           1.760333\n",
       " 1472       Complete   2010-01-16        N         NGO           1.923333\n",
       " ...             ...          ...      ...         ...                ...\n",
       " 2411       Complete   2010-03-01        N         NGO           1.115333\n",
       " 2412       Complete   2010-03-01        N         NGO           1.417333\n",
       " 2413       Complete   2010-03-01        N         NGO           1.603333\n",
       " 2414       Complete   2010-03-01        N         NGO           2.353333\n",
       " 2415       Complete   2010-03-01        N         NGO           1.607333\n",
       " \n",
       " [948 rows x 5 columns],\n",
       "     Request Status Arrival Date A/C Size Affiliation  Ground Time (Hrs)\n",
       " 265       Complete   2010-01-16        S         GOV           0.706333\n",
       " 266       Complete   2010-01-16        S         GOV           0.826333\n",
       " 267       Complete   2010-01-17        S         GOV           0.664333\n",
       " 268       Complete   2010-01-17        S         GOV           1.034333\n",
       " 269       Complete   2010-01-18        S         GOV           1.032333\n",
       " ..             ...          ...      ...         ...                ...\n",
       " 365       Complete   2010-02-12        S         GOV           0.697333\n",
       " 366       Complete   2010-02-13        S         GOV           0.573333\n",
       " 367       Complete   2010-02-13        S         GOV           0.905333\n",
       " 368       Complete   2010-02-14        S         GOV           0.839333\n",
       " 369       Complete   2010-02-17        S         GOV           0.758333\n",
       " \n",
       " [105 rows x 5 columns],\n",
       "      Request Status Arrival Date A/C Size Affiliation  Ground Time (Hrs)\n",
       " 1365       Complete   2010-01-15        S         MIL           0.581333\n",
       " 1366       Complete   2010-01-16        S         MIL           1.098333\n",
       " 1367       Complete   2010-01-16        S         MIL           1.012333\n",
       " 1368       Complete   2010-01-17        S         MIL           0.774333\n",
       " 1369       Complete   2010-01-17        S         MIL           0.890333\n",
       " ...             ...          ...      ...         ...                ...\n",
       " 1430       Complete   2010-02-18        S         MIL           0.925333\n",
       " 1431       Complete   2010-02-19        S         MIL           0.753333\n",
       " 1432       Complete   2010-02-19        S         MIL           1.150333\n",
       " 1433       Complete   2010-03-01        S         MIL           0.350333\n",
       " 1434       Complete   2010-03-01        S         MIL           0.806333\n",
       " \n",
       " [70 rows x 5 columns],\n",
       "      Request Status Arrival Date A/C Size Affiliation  Ground Time (Hrs)\n",
       " 2416       Complete   2010-01-16        S         NGO           1.041333\n",
       " 2417       Complete   2010-01-16        S         NGO           0.617333\n",
       " 2418       Complete   2010-01-16        S         NGO           1.093333\n",
       " 2419       Complete   2010-01-16        S         NGO           0.918333\n",
       " 2420       Complete   2010-01-16        S         NGO           1.122333\n",
       " ...             ...          ...      ...         ...                ...\n",
       " 3149       Complete   2010-02-27        S         NGO           1.120333\n",
       " 3150       Complete   2010-02-28        S         NGO           0.579333\n",
       " 3151       Complete   2010-02-28        S         NGO           0.768333\n",
       " 3152       Complete   2010-02-28        S         NGO           0.953333\n",
       " 3153       Complete   2010-03-01        S         NGO           0.864333\n",
       " \n",
       " [738 rows x 5 columns],\n",
       "     Request Status Arrival Date A/C Size Affiliation  Ground Time (Hrs)\n",
       " 370       Complete   2010-01-16        W         GOV           2.555333\n",
       " 371       Complete   2010-01-16        W         GOV           2.309333\n",
       " 372       Complete   2010-01-16        W         GOV           2.136333\n",
       " 373       Complete   2010-01-17        W         GOV           2.702333\n",
       " 374       Complete   2010-01-17        W         GOV           2.709333\n",
       " 375       Complete   2010-01-18        W         GOV           2.940333\n",
       " 376       Complete   2010-01-18        W         GOV           2.566333\n",
       " 377       Complete   2010-01-19        W         GOV           1.833333\n",
       " 378       Complete   2010-01-19        W         GOV           2.255333\n",
       " 379       Complete   2010-01-20        W         GOV           1.492333\n",
       " 380       Complete   2010-01-21        W         GOV           2.553333\n",
       " 381       Complete   2010-01-22        W         GOV           2.426333\n",
       " 382       Complete   2010-01-22        W         GOV           2.173333\n",
       " 383       Complete   2010-01-23        W         GOV           2.391333\n",
       " 384       Complete   2010-01-23        W         GOV           1.589333\n",
       " 385       Complete   2010-01-24        W         GOV           1.352333\n",
       " 386       Complete   2010-01-24        W         GOV           1.982333\n",
       " 387       Complete   2010-01-26        W         GOV           1.656333\n",
       " 388       Complete   2010-01-30        W         GOV           1.247333\n",
       " 389       Complete   2010-02-02        W         GOV           2.256333\n",
       " 390       Complete   2010-02-03        W         GOV           2.665333\n",
       " 391       Complete   2010-02-05        W         GOV           1.791333\n",
       " 392       Complete   2010-02-06        W         GOV           2.619333\n",
       " 393       Complete   2010-02-07        W         GOV           2.930333\n",
       " 394       Complete   2010-02-08        W         GOV           2.622333\n",
       " 395       Complete   2010-02-08        W         GOV           1.504333\n",
       " 396       Complete   2010-02-08        W         GOV           3.083333\n",
       " 397       Complete   2010-02-09        W         GOV           2.922333\n",
       " 398       Complete   2010-02-18        W         GOV           2.196333\n",
       " 399       Complete   2010-02-19        W         GOV           2.840333\n",
       " 400       Complete   2010-02-19        W         GOV           2.167333\n",
       " 401       Complete   2010-02-20        W         GOV           2.024333\n",
       " 402       Complete   2010-02-21        W         GOV           2.354333\n",
       " 403       Complete   2010-02-22        W         GOV           2.933333\n",
       " 404       Complete   2010-02-22        W         GOV           2.515333\n",
       " 405       Complete   2010-02-26        W         GOV           3.429333\n",
       " 406       Complete   2010-02-27        W         GOV           2.599333,\n",
       "      Request Status Arrival Date A/C Size Affiliation  Ground Time (Hrs)\n",
       " 1435       Complete   2010-01-17        W         MIL           2.053333\n",
       " 1436       Complete   2010-01-17        W         MIL           1.828333\n",
       " 1437       Complete   2010-01-17        W         MIL           1.491333\n",
       " 1438       Complete   2010-01-17        W         MIL           1.715333\n",
       " 1439       Complete   2010-01-17        W         MIL           1.342333\n",
       " 1440       Complete   2010-01-17        W         MIL           1.507333\n",
       " 1441       Complete   2010-01-18        W         MIL           2.795333\n",
       " 1442       Complete   2010-01-18        W         MIL           2.057333\n",
       " 1443       Complete   2010-01-18        W         MIL           2.051333\n",
       " 1444       Complete   2010-01-19        W         MIL           1.591333\n",
       " 1445       Complete   2010-01-19        W         MIL           2.277333\n",
       " 1446       Complete   2010-01-21        W         MIL           1.522333\n",
       " 1447       Complete   2010-01-22        W         MIL           1.082333\n",
       " 1448       Complete   2010-01-22        W         MIL           1.675333\n",
       " 1449       Complete   2010-01-22        W         MIL           1.339333\n",
       " 1450       Complete   2010-01-22        W         MIL           1.990333\n",
       " 1451       Complete   2010-01-22        W         MIL           2.131333\n",
       " 1452       Complete   2010-01-24        W         MIL           2.142333\n",
       " 1453       Complete   2010-01-24        W         MIL           1.507333\n",
       " 1454       Complete   2010-01-25        W         MIL           2.377333\n",
       " 1455       Complete   2010-01-27        W         MIL           1.891333\n",
       " 1456       Complete   2010-01-29        W         MIL           2.282333\n",
       " 1457       Complete   2010-01-30        W         MIL           2.332333\n",
       " 1458       Complete   2010-02-06        W         MIL           1.676333\n",
       " 1459       Complete   2010-02-09        W         MIL           2.907333\n",
       " 1460       Complete   2010-02-11        W         MIL           2.021333\n",
       " 1461       Complete   2010-02-15        W         MIL           2.056333\n",
       " 1462       Complete   2010-02-16        W         MIL           2.202333\n",
       " 1463       Complete   2010-02-17        W         MIL           1.303333\n",
       " 1464       Complete   2010-02-18        W         MIL           2.297333\n",
       " 1465       Complete   2010-02-20        W         MIL           1.456333\n",
       " 1466       Complete   2010-02-26        W         MIL           1.668333\n",
       " 1467       Complete   2010-02-26        W         MIL           2.752333,\n",
       "      Request Status Arrival Date A/C Size Affiliation  Ground Time (Hrs)\n",
       " 3154       Complete   2010-01-17        W         NGO           2.351333\n",
       " 3155       Complete   2010-01-17        W         NGO           3.805333\n",
       " 3156       Complete   2010-01-17        W         NGO           4.540333\n",
       " 3157       Complete   2010-01-17        W         NGO           3.088333\n",
       " 3158       Complete   2010-01-18        W         NGO           1.630333\n",
       " ...             ...          ...      ...         ...                ...\n",
       " 3232       Complete   2010-02-27        W         NGO           3.234333\n",
       " 3233       Complete   2010-02-27        W         NGO           2.041333\n",
       " 3234       Complete   2010-02-28        W         NGO           2.158333\n",
       " 3235       Complete   2010-03-01        W         NGO           1.113333\n",
       " 3236       Complete   2010-03-01        W         NGO           2.467333\n",
       " \n",
       " [83 rows x 5 columns]]"
      ]
     },
     "execution_count": 479,
     "metadata": {},
     "output_type": "execute_result"
    }
   ],
   "source": [
    "dfs"
   ]
  },
  {
   "cell_type": "markdown",
   "id": "88fad4ee",
   "metadata": {},
   "source": [
    "### Fitting Ground Time Distributions for 9 plane types"
   ]
  },
  {
   "cell_type": "markdown",
   "id": "7d33fbc9",
   "metadata": {},
   "source": [
    "#### Narrow Government Planes"
   ]
  },
  {
   "cell_type": "code",
   "execution_count": 552,
   "id": "ed80bb1b",
   "metadata": {
    "scrolled": true
   },
   "outputs": [
    {
     "data": {
      "text/html": [
       "<div>\n",
       "<style scoped>\n",
       "    .dataframe tbody tr th:only-of-type {\n",
       "        vertical-align: middle;\n",
       "    }\n",
       "\n",
       "    .dataframe tbody tr th {\n",
       "        vertical-align: top;\n",
       "    }\n",
       "\n",
       "    .dataframe thead th {\n",
       "        text-align: right;\n",
       "    }\n",
       "</style>\n",
       "<table border=\"1\" class=\"dataframe\">\n",
       "  <thead>\n",
       "    <tr style=\"text-align: right;\">\n",
       "      <th></th>\n",
       "      <th>sumsquare_error</th>\n",
       "      <th>aic</th>\n",
       "      <th>bic</th>\n",
       "      <th>kl_div</th>\n",
       "    </tr>\n",
       "  </thead>\n",
       "  <tbody>\n",
       "    <tr>\n",
       "      <th>lognorm</th>\n",
       "      <td>15.836134</td>\n",
       "      <td>204.706372</td>\n",
       "      <td>-729.881225</td>\n",
       "      <td>inf</td>\n",
       "    </tr>\n",
       "    <tr>\n",
       "      <th>gamma</th>\n",
       "      <td>15.837284</td>\n",
       "      <td>204.716917</td>\n",
       "      <td>-729.861990</td>\n",
       "      <td>inf</td>\n",
       "    </tr>\n",
       "    <tr>\n",
       "      <th>norm</th>\n",
       "      <td>16.025876</td>\n",
       "      <td>199.260672</td>\n",
       "      <td>-732.304714</td>\n",
       "      <td>inf</td>\n",
       "    </tr>\n",
       "  </tbody>\n",
       "</table>\n",
       "</div>"
      ],
      "text/plain": [
       "         sumsquare_error         aic         bic  kl_div\n",
       "lognorm        15.836134  204.706372 -729.881225     inf\n",
       "gamma          15.837284  204.716917 -729.861990     inf\n",
       "norm           16.025876  199.260672 -732.304714     inf"
      ]
     },
     "execution_count": 552,
     "metadata": {},
     "output_type": "execute_result"
    },
    {
     "data": {
      "image/png": "[encoded data removed]",
      "text/plain": [
       "<Figure size 432x288 with 1 Axes>"
      ]
     },
     "metadata": {
      "needs_background": "light"
     },
     "output_type": "display_data"
    }
   ],
   "source": [
    "f = Fitter(dfs[0]['Ground Time (Hrs)'], distributions=['lognorm','gamma','norm'])\n",
    "f.fit()\n",
    "f.summary()"
   ]
  },
  {
   "cell_type": "code",
   "execution_count": 553,
   "id": "83f20bf7",
   "metadata": {},
   "outputs": [
    {
     "data": {
      "text/plain": [
       "(1.2227106918238992, 0.2790015639649879)"
      ]
     },
     "execution_count": 553,
     "metadata": {},
     "output_type": "execute_result"
    }
   ],
   "source": [
    "f.fitted_param['norm']"
   ]
  },
  {
   "cell_type": "markdown",
   "id": "36f12396",
   "metadata": {},
   "source": [
    "#### Narrow Military Planes"
   ]
  },
  {
   "cell_type": "code",
   "execution_count": 554,
   "id": "a8a936ce",
   "metadata": {
    "scrolled": true
   },
   "outputs": [
    {
     "data": {
      "text/html": [
       "<div>\n",
       "<style scoped>\n",
       "    .dataframe tbody tr th:only-of-type {\n",
       "        vertical-align: middle;\n",
       "    }\n",
       "\n",
       "    .dataframe tbody tr th {\n",
       "        vertical-align: top;\n",
       "    }\n",
       "\n",
       "    .dataframe thead th {\n",
       "        text-align: right;\n",
       "    }\n",
       "</style>\n",
       "<table border=\"1\" class=\"dataframe\">\n",
       "  <thead>\n",
       "    <tr style=\"text-align: right;\">\n",
       "      <th></th>\n",
       "      <th>sumsquare_error</th>\n",
       "      <th>aic</th>\n",
       "      <th>bic</th>\n",
       "      <th>kl_div</th>\n",
       "    </tr>\n",
       "  </thead>\n",
       "  <tbody>\n",
       "    <tr>\n",
       "      <th>norm</th>\n",
       "      <td>4.046200</td>\n",
       "      <td>253.069307</td>\n",
       "      <td>-5223.723067</td>\n",
       "      <td>inf</td>\n",
       "    </tr>\n",
       "    <tr>\n",
       "      <th>lognorm</th>\n",
       "      <td>4.051169</td>\n",
       "      <td>256.423604</td>\n",
       "      <td>-5215.682275</td>\n",
       "      <td>inf</td>\n",
       "    </tr>\n",
       "    <tr>\n",
       "      <th>gamma</th>\n",
       "      <td>4.064656</td>\n",
       "      <td>258.244107</td>\n",
       "      <td>-5212.498398</td>\n",
       "      <td>inf</td>\n",
       "    </tr>\n",
       "  </tbody>\n",
       "</table>\n",
       "</div>"
      ],
      "text/plain": [
       "         sumsquare_error         aic          bic  kl_div\n",
       "norm            4.046200  253.069307 -5223.723067     inf\n",
       "lognorm         4.051169  256.423604 -5215.682275     inf\n",
       "gamma           4.064656  258.244107 -5212.498398     inf"
      ]
     },
     "execution_count": 554,
     "metadata": {},
     "output_type": "execute_result"
    },
    {
     "data": {
      "image/png": "[encoded data removed]",
      "text/plain": [
       "<Figure size 432x288 with 1 Axes>"
      ]
     },
     "metadata": {
      "needs_background": "light"
     },
     "output_type": "display_data"
    }
   ],
   "source": [
    "f = Fitter(dfs[1]['Ground Time (Hrs)'], distributions=['lognorm','gamma','norm'])\n",
    "f.fit()\n",
    "f.summary()"
   ]
  },
  {
   "cell_type": "code",
   "execution_count": 555,
   "id": "dc8a465a",
   "metadata": {},
   "outputs": [
    {
     "data": {
      "text/plain": [
       "(1.0301089074460683, 0.23696206356796995)"
      ]
     },
     "execution_count": 555,
     "metadata": {},
     "output_type": "execute_result"
    }
   ],
   "source": [
    "f.fitted_param['norm']"
   ]
  },
  {
   "cell_type": "markdown",
   "id": "3f3c4bff",
   "metadata": {},
   "source": [
    "#### Narrow Non-Government Planes"
   ]
  },
  {
   "cell_type": "code",
   "execution_count": 556,
   "id": "24e25c05",
   "metadata": {
    "scrolled": true
   },
   "outputs": [
    {
     "data": {
      "text/html": [
       "<div>\n",
       "<style scoped>\n",
       "    .dataframe tbody tr th:only-of-type {\n",
       "        vertical-align: middle;\n",
       "    }\n",
       "\n",
       "    .dataframe tbody tr th {\n",
       "        vertical-align: top;\n",
       "    }\n",
       "\n",
       "    .dataframe thead th {\n",
       "        text-align: right;\n",
       "    }\n",
       "</style>\n",
       "<table border=\"1\" class=\"dataframe\">\n",
       "  <thead>\n",
       "    <tr style=\"text-align: right;\">\n",
       "      <th></th>\n",
       "      <th>sumsquare_error</th>\n",
       "      <th>aic</th>\n",
       "      <th>bic</th>\n",
       "      <th>kl_div</th>\n",
       "    </tr>\n",
       "  </thead>\n",
       "  <tbody>\n",
       "    <tr>\n",
       "      <th>gamma</th>\n",
       "      <td>1.357170</td>\n",
       "      <td>444.931314</td>\n",
       "      <td>-6187.844367</td>\n",
       "      <td>inf</td>\n",
       "    </tr>\n",
       "    <tr>\n",
       "      <th>lognorm</th>\n",
       "      <td>1.357777</td>\n",
       "      <td>445.237412</td>\n",
       "      <td>-6187.420119</td>\n",
       "      <td>inf</td>\n",
       "    </tr>\n",
       "    <tr>\n",
       "      <th>norm</th>\n",
       "      <td>1.362518</td>\n",
       "      <td>439.065879</td>\n",
       "      <td>-6190.970405</td>\n",
       "      <td>inf</td>\n",
       "    </tr>\n",
       "  </tbody>\n",
       "</table>\n",
       "</div>"
      ],
      "text/plain": [
       "         sumsquare_error         aic          bic  kl_div\n",
       "gamma           1.357170  444.931314 -6187.844367     inf\n",
       "lognorm         1.357777  445.237412 -6187.420119     inf\n",
       "norm            1.362518  439.065879 -6190.970405     inf"
      ]
     },
     "execution_count": 556,
     "metadata": {},
     "output_type": "execute_result"
    },
    {
     "data": {
      "image/png": "[encoded data removed]",
      "text/plain": [
       "<Figure size 432x288 with 1 Axes>"
      ]
     },
     "metadata": {
      "needs_background": "light"
     },
     "output_type": "display_data"
    }
   ],
   "source": [
    "f = Fitter(dfs[2]['Ground Time (Hrs)'], distributions=['lognorm','gamma','norm'])\n",
    "f.fit()\n",
    "f.summary()"
   ]
  },
  {
   "cell_type": "code",
   "execution_count": 557,
   "id": "5202f141",
   "metadata": {},
   "outputs": [
    {
     "data": {
      "text/plain": [
       "(1.6349145569620251, 0.3570900776715849)"
      ]
     },
     "execution_count": 557,
     "metadata": {},
     "output_type": "execute_result"
    }
   ],
   "source": [
    "f.fitted_param['norm']"
   ]
  },
  {
   "cell_type": "markdown",
   "id": "07b3c6b5",
   "metadata": {},
   "source": [
    "#### Small Government Planes"
   ]
  },
  {
   "cell_type": "code",
   "execution_count": 558,
   "id": "52a81cf0",
   "metadata": {},
   "outputs": [
    {
     "data": {
      "text/html": [
       "<div>\n",
       "<style scoped>\n",
       "    .dataframe tbody tr th:only-of-type {\n",
       "        vertical-align: middle;\n",
       "    }\n",
       "\n",
       "    .dataframe tbody tr th {\n",
       "        vertical-align: top;\n",
       "    }\n",
       "\n",
       "    .dataframe thead th {\n",
       "        text-align: right;\n",
       "    }\n",
       "</style>\n",
       "<table border=\"1\" class=\"dataframe\">\n",
       "  <thead>\n",
       "    <tr style=\"text-align: right;\">\n",
       "      <th></th>\n",
       "      <th>sumsquare_error</th>\n",
       "      <th>aic</th>\n",
       "      <th>bic</th>\n",
       "      <th>kl_div</th>\n",
       "    </tr>\n",
       "  </thead>\n",
       "  <tbody>\n",
       "    <tr>\n",
       "      <th>lognorm</th>\n",
       "      <td>70.686603</td>\n",
       "      <td>100.379793</td>\n",
       "      <td>-27.587068</td>\n",
       "      <td>inf</td>\n",
       "    </tr>\n",
       "    <tr>\n",
       "      <th>norm</th>\n",
       "      <td>70.714722</td>\n",
       "      <td>97.767695</td>\n",
       "      <td>-32.199269</td>\n",
       "      <td>inf</td>\n",
       "    </tr>\n",
       "    <tr>\n",
       "      <th>gamma</th>\n",
       "      <td>70.725372</td>\n",
       "      <td>100.614830</td>\n",
       "      <td>-27.529497</td>\n",
       "      <td>inf</td>\n",
       "    </tr>\n",
       "  </tbody>\n",
       "</table>\n",
       "</div>"
      ],
      "text/plain": [
       "         sumsquare_error         aic        bic  kl_div\n",
       "lognorm        70.686603  100.379793 -27.587068     inf\n",
       "norm           70.714722   97.767695 -32.199269     inf\n",
       "gamma          70.725372  100.614830 -27.529497     inf"
      ]
     },
     "execution_count": 558,
     "metadata": {},
     "output_type": "execute_result"
    },
    {
     "data": {
      "image/png": "[encoded data removed]",
      "text/plain": [
       "<Figure size 432x288 with 1 Axes>"
      ]
     },
     "metadata": {
      "needs_background": "light"
     },
     "output_type": "display_data"
    }
   ],
   "source": [
    "f = Fitter(dfs[3]['Ground Time (Hrs)'], distributions=['lognorm','gamma','norm'])\n",
    "f.fit()\n",
    "f.summary()"
   ]
  },
  {
   "cell_type": "code",
   "execution_count": 559,
   "id": "65b1f4e9",
   "metadata": {},
   "outputs": [
    {
     "data": {
      "text/plain": [
       "(0.893, 0.23743344597979715)"
      ]
     },
     "execution_count": 559,
     "metadata": {},
     "output_type": "execute_result"
    }
   ],
   "source": [
    "f.fitted_param['norm']"
   ]
  },
  {
   "cell_type": "markdown",
   "id": "dd08b083",
   "metadata": {},
   "source": [
    "#### Small Military Planes"
   ]
  },
  {
   "cell_type": "code",
   "execution_count": 560,
   "id": "ca3177d7",
   "metadata": {},
   "outputs": [
    {
     "data": {
      "text/html": [
       "<div>\n",
       "<style scoped>\n",
       "    .dataframe tbody tr th:only-of-type {\n",
       "        vertical-align: middle;\n",
       "    }\n",
       "\n",
       "    .dataframe tbody tr th {\n",
       "        vertical-align: top;\n",
       "    }\n",
       "\n",
       "    .dataframe thead th {\n",
       "        text-align: right;\n",
       "    }\n",
       "</style>\n",
       "<table border=\"1\" class=\"dataframe\">\n",
       "  <thead>\n",
       "    <tr style=\"text-align: right;\">\n",
       "      <th></th>\n",
       "      <th>sumsquare_error</th>\n",
       "      <th>aic</th>\n",
       "      <th>bic</th>\n",
       "      <th>kl_div</th>\n",
       "    </tr>\n",
       "  </thead>\n",
       "  <tbody>\n",
       "    <tr>\n",
       "      <th>gamma</th>\n",
       "      <td>177.857751</td>\n",
       "      <td>90.058283</td>\n",
       "      <td>78.019704</td>\n",
       "      <td>inf</td>\n",
       "    </tr>\n",
       "    <tr>\n",
       "      <th>lognorm</th>\n",
       "      <td>178.000979</td>\n",
       "      <td>88.329777</td>\n",
       "      <td>78.076052</td>\n",
       "      <td>inf</td>\n",
       "    </tr>\n",
       "    <tr>\n",
       "      <th>norm</th>\n",
       "      <td>178.001868</td>\n",
       "      <td>85.410020</td>\n",
       "      <td>73.827907</td>\n",
       "      <td>inf</td>\n",
       "    </tr>\n",
       "  </tbody>\n",
       "</table>\n",
       "</div>"
      ],
      "text/plain": [
       "         sumsquare_error        aic        bic  kl_div\n",
       "gamma         177.857751  90.058283  78.019704     inf\n",
       "lognorm       178.000979  88.329777  78.076052     inf\n",
       "norm          178.001868  85.410020  73.827907     inf"
      ]
     },
     "execution_count": 560,
     "metadata": {},
     "output_type": "execute_result"
    },
    {
     "data": {
      "image/png": "[encoded data removed]",
      "text/plain": [
       "<Figure size 432x288 with 1 Axes>"
      ]
     },
     "metadata": {
      "needs_background": "light"
     },
     "output_type": "display_data"
    }
   ],
   "source": [
    "f = Fitter(dfs[4]['Ground Time (Hrs)'], distributions=['lognorm','gamma','norm'])\n",
    "f.fit()\n",
    "f.summary()"
   ]
  },
  {
   "cell_type": "code",
   "execution_count": 561,
   "id": "8b4fc34d",
   "metadata": {},
   "outputs": [
    {
     "data": {
      "text/plain": [
       "(0.9622619047619045, 0.22142953225597986)"
      ]
     },
     "execution_count": 561,
     "metadata": {},
     "output_type": "execute_result"
    }
   ],
   "source": [
    "f.fitted_param['norm']"
   ]
  },
  {
   "cell_type": "markdown",
   "id": "a9deec69",
   "metadata": {},
   "source": [
    "#### Small Non-Government Planes"
   ]
  },
  {
   "cell_type": "code",
   "execution_count": 562,
   "id": "2ae1b696",
   "metadata": {},
   "outputs": [
    {
     "data": {
      "text/html": [
       "<div>\n",
       "<style scoped>\n",
       "    .dataframe tbody tr th:only-of-type {\n",
       "        vertical-align: middle;\n",
       "    }\n",
       "\n",
       "    .dataframe tbody tr th {\n",
       "        vertical-align: top;\n",
       "    }\n",
       "\n",
       "    .dataframe thead th {\n",
       "        text-align: right;\n",
       "    }\n",
       "</style>\n",
       "<table border=\"1\" class=\"dataframe\">\n",
       "  <thead>\n",
       "    <tr style=\"text-align: right;\">\n",
       "      <th></th>\n",
       "      <th>sumsquare_error</th>\n",
       "      <th>aic</th>\n",
       "      <th>bic</th>\n",
       "      <th>kl_div</th>\n",
       "    </tr>\n",
       "  </thead>\n",
       "  <tbody>\n",
       "    <tr>\n",
       "      <th>norm</th>\n",
       "      <td>6.907527</td>\n",
       "      <td>198.657900</td>\n",
       "      <td>-3434.235245</td>\n",
       "      <td>inf</td>\n",
       "    </tr>\n",
       "    <tr>\n",
       "      <th>gamma</th>\n",
       "      <td>6.919443</td>\n",
       "      <td>199.969633</td>\n",
       "      <td>-3426.359320</td>\n",
       "      <td>inf</td>\n",
       "    </tr>\n",
       "    <tr>\n",
       "      <th>lognorm</th>\n",
       "      <td>6.942367</td>\n",
       "      <td>198.800329</td>\n",
       "      <td>-3423.918338</td>\n",
       "      <td>inf</td>\n",
       "    </tr>\n",
       "  </tbody>\n",
       "</table>\n",
       "</div>"
      ],
      "text/plain": [
       "         sumsquare_error         aic          bic  kl_div\n",
       "norm            6.907527  198.657900 -3434.235245     inf\n",
       "gamma           6.919443  199.969633 -3426.359320     inf\n",
       "lognorm         6.942367  198.800329 -3423.918338     inf"
      ]
     },
     "execution_count": 562,
     "metadata": {},
     "output_type": "execute_result"
    },
    {
     "data": {
      "image/png": "[encoded data removed]",
      "text/plain": [
       "<Figure size 432x288 with 1 Axes>"
      ]
     },
     "metadata": {
      "needs_background": "light"
     },
     "output_type": "display_data"
    }
   ],
   "source": [
    "f = Fitter(dfs[5]['Ground Time (Hrs)'], distributions=['lognorm','gamma','norm'])\n",
    "f.fit()\n",
    "f.summary()"
   ]
  },
  {
   "cell_type": "code",
   "execution_count": 563,
   "id": "1fd3dfe5",
   "metadata": {},
   "outputs": [
    {
     "data": {
      "text/plain": [
       "(0.9269878048780488, 0.21228977769967547)"
      ]
     },
     "execution_count": 563,
     "metadata": {},
     "output_type": "execute_result"
    }
   ],
   "source": [
    "f.fitted_param['norm']"
   ]
  },
  {
   "cell_type": "markdown",
   "id": "1cef54a0",
   "metadata": {},
   "source": [
    "#### Wide Government Planes"
   ]
  },
  {
   "cell_type": "code",
   "execution_count": 564,
   "id": "18455bd7",
   "metadata": {},
   "outputs": [
    {
     "data": {
      "text/html": [
       "<div>\n",
       "<style scoped>\n",
       "    .dataframe tbody tr th:only-of-type {\n",
       "        vertical-align: middle;\n",
       "    }\n",
       "\n",
       "    .dataframe tbody tr th {\n",
       "        vertical-align: top;\n",
       "    }\n",
       "\n",
       "    .dataframe thead th {\n",
       "        text-align: right;\n",
       "    }\n",
       "</style>\n",
       "<table border=\"1\" class=\"dataframe\">\n",
       "  <thead>\n",
       "    <tr style=\"text-align: right;\">\n",
       "      <th></th>\n",
       "      <th>sumsquare_error</th>\n",
       "      <th>aic</th>\n",
       "      <th>bic</th>\n",
       "      <th>kl_div</th>\n",
       "    </tr>\n",
       "  </thead>\n",
       "  <tbody>\n",
       "    <tr>\n",
       "      <th>norm</th>\n",
       "      <td>53.730311</td>\n",
       "      <td>205.203673</td>\n",
       "      <td>21.025033</td>\n",
       "      <td>inf</td>\n",
       "    </tr>\n",
       "    <tr>\n",
       "      <th>lognorm</th>\n",
       "      <td>53.741566</td>\n",
       "      <td>207.357999</td>\n",
       "      <td>24.643700</td>\n",
       "      <td>inf</td>\n",
       "    </tr>\n",
       "    <tr>\n",
       "      <th>gamma</th>\n",
       "      <td>54.051932</td>\n",
       "      <td>206.022285</td>\n",
       "      <td>24.856767</td>\n",
       "      <td>inf</td>\n",
       "    </tr>\n",
       "  </tbody>\n",
       "</table>\n",
       "</div>"
      ],
      "text/plain": [
       "         sumsquare_error         aic        bic  kl_div\n",
       "norm           53.730311  205.203673  21.025033     inf\n",
       "lognorm        53.741566  207.357999  24.643700     inf\n",
       "gamma          54.051932  206.022285  24.856767     inf"
      ]
     },
     "execution_count": 564,
     "metadata": {},
     "output_type": "execute_result"
    },
    {
     "data": {
      "image/png": "[encoded data removed]",
      "text/plain": [
       "<Figure size 432x288 with 1 Axes>"
      ]
     },
     "metadata": {
      "needs_background": "light"
     },
     "output_type": "display_data"
    }
   ],
   "source": [
    "f = Fitter(dfs[6]['Ground Time (Hrs)'], distributions=['lognorm','gamma','norm'])\n",
    "f.fit()\n",
    "f.summary()"
   ]
  },
  {
   "cell_type": "code",
   "execution_count": 565,
   "id": "215b02e5",
   "metadata": {},
   "outputs": [
    {
     "data": {
      "text/plain": [
       "(2.3331711711711716, 0.5122246399886884)"
      ]
     },
     "execution_count": 565,
     "metadata": {},
     "output_type": "execute_result"
    }
   ],
   "source": [
    "f.fitted_param['norm']"
   ]
  },
  {
   "cell_type": "markdown",
   "id": "5ca159b0",
   "metadata": {},
   "source": [
    "#### Wide Military Planes"
   ]
  },
  {
   "cell_type": "code",
   "execution_count": 566,
   "id": "37a21538",
   "metadata": {},
   "outputs": [
    {
     "data": {
      "text/html": [
       "<div>\n",
       "<style scoped>\n",
       "    .dataframe tbody tr th:only-of-type {\n",
       "        vertical-align: middle;\n",
       "    }\n",
       "\n",
       "    .dataframe tbody tr th {\n",
       "        vertical-align: top;\n",
       "    }\n",
       "\n",
       "    .dataframe thead th {\n",
       "        text-align: right;\n",
       "    }\n",
       "</style>\n",
       "<table border=\"1\" class=\"dataframe\">\n",
       "  <thead>\n",
       "    <tr style=\"text-align: right;\">\n",
       "      <th></th>\n",
       "      <th>sumsquare_error</th>\n",
       "      <th>aic</th>\n",
       "      <th>bic</th>\n",
       "      <th>kl_div</th>\n",
       "    </tr>\n",
       "  </thead>\n",
       "  <tbody>\n",
       "    <tr>\n",
       "      <th>gamma</th>\n",
       "      <td>123.217149</td>\n",
       "      <td>170.881887</td>\n",
       "      <td>53.965065</td>\n",
       "      <td>inf</td>\n",
       "    </tr>\n",
       "    <tr>\n",
       "      <th>norm</th>\n",
       "      <td>123.219988</td>\n",
       "      <td>169.355373</td>\n",
       "      <td>50.469318</td>\n",
       "      <td>inf</td>\n",
       "    </tr>\n",
       "    <tr>\n",
       "      <th>lognorm</th>\n",
       "      <td>123.286535</td>\n",
       "      <td>171.789566</td>\n",
       "      <td>53.983643</td>\n",
       "      <td>inf</td>\n",
       "    </tr>\n",
       "  </tbody>\n",
       "</table>\n",
       "</div>"
      ],
      "text/plain": [
       "         sumsquare_error         aic        bic  kl_div\n",
       "gamma         123.217149  170.881887  53.965065     inf\n",
       "norm          123.219988  169.355373  50.469318     inf\n",
       "lognorm       123.286535  171.789566  53.983643     inf"
      ]
     },
     "execution_count": 566,
     "metadata": {},
     "output_type": "execute_result"
    },
    {
     "data": {
      "image/png": "[encoded data removed]",
      "text/plain": [
       "<Figure size 432x288 with 1 Axes>"
      ]
     },
     "metadata": {
      "needs_background": "light"
     },
     "output_type": "display_data"
    }
   ],
   "source": [
    "f = Fitter(dfs[7]['Ground Time (Hrs)'], distributions=['lognorm','gamma','norm'])\n",
    "f.fit()\n",
    "f.summary()"
   ]
  },
  {
   "cell_type": "code",
   "execution_count": 567,
   "id": "ca07a297",
   "metadata": {},
   "outputs": [
    {
     "data": {
      "text/plain": [
       "(1.918969696969697, 0.4427123574116254)"
      ]
     },
     "execution_count": 567,
     "metadata": {},
     "output_type": "execute_result"
    }
   ],
   "source": [
    "f.fitted_param['norm']"
   ]
  },
  {
   "cell_type": "markdown",
   "id": "8943cf64",
   "metadata": {},
   "source": [
    "#### Wide Non-Government Planes"
   ]
  },
  {
   "cell_type": "code",
   "execution_count": 568,
   "id": "ffc21b69",
   "metadata": {},
   "outputs": [
    {
     "data": {
      "text/html": [
       "<div>\n",
       "<style scoped>\n",
       "    .dataframe tbody tr th:only-of-type {\n",
       "        vertical-align: middle;\n",
       "    }\n",
       "\n",
       "    .dataframe tbody tr th {\n",
       "        vertical-align: top;\n",
       "    }\n",
       "\n",
       "    .dataframe thead th {\n",
       "        text-align: right;\n",
       "    }\n",
       "</style>\n",
       "<table border=\"1\" class=\"dataframe\">\n",
       "  <thead>\n",
       "    <tr style=\"text-align: right;\">\n",
       "      <th></th>\n",
       "      <th>sumsquare_error</th>\n",
       "      <th>aic</th>\n",
       "      <th>bic</th>\n",
       "      <th>kl_div</th>\n",
       "    </tr>\n",
       "  </thead>\n",
       "  <tbody>\n",
       "    <tr>\n",
       "      <th>gamma</th>\n",
       "      <td>8.714609</td>\n",
       "      <td>342.603917</td>\n",
       "      <td>-173.812184</td>\n",
       "      <td>inf</td>\n",
       "    </tr>\n",
       "    <tr>\n",
       "      <th>lognorm</th>\n",
       "      <td>8.714838</td>\n",
       "      <td>342.621983</td>\n",
       "      <td>-173.810001</td>\n",
       "      <td>inf</td>\n",
       "    </tr>\n",
       "    <tr>\n",
       "      <th>norm</th>\n",
       "      <td>8.723703</td>\n",
       "      <td>341.010684</td>\n",
       "      <td>-178.144454</td>\n",
       "      <td>inf</td>\n",
       "    </tr>\n",
       "  </tbody>\n",
       "</table>\n",
       "</div>"
      ],
      "text/plain": [
       "         sumsquare_error         aic         bic  kl_div\n",
       "gamma           8.714609  342.603917 -173.812184     inf\n",
       "lognorm         8.714838  342.621983 -173.810001     inf\n",
       "norm            8.723703  341.010684 -178.144454     inf"
      ]
     },
     "execution_count": 568,
     "metadata": {},
     "output_type": "execute_result"
    },
    {
     "data": {
      "image/png": "[encoded data removed]",
      "text/plain": [
       "<Figure size 432x288 with 1 Axes>"
      ]
     },
     "metadata": {
      "needs_background": "light"
     },
     "output_type": "display_data"
    }
   ],
   "source": [
    "f = Fitter(dfs[8]['Ground Time (Hrs)'], distributions=['lognorm','gamma','norm'])\n",
    "f.fit()\n",
    "f.summary()"
   ]
  },
  {
   "cell_type": "code",
   "execution_count": 569,
   "id": "f1e9c4ec",
   "metadata": {},
   "outputs": [
    {
     "data": {
      "text/plain": [
       "(2.775971887550201, 0.63342451511202)"
      ]
     },
     "execution_count": 569,
     "metadata": {},
     "output_type": "execute_result"
    }
   ],
   "source": [
    "f.fitted_param['norm']"
   ]
  },
  {
   "cell_type": "markdown",
   "id": "b02d5001",
   "metadata": {},
   "source": [
    "### The previous 9 distributions show that the normal distribution fits the data for ground times just as good or better than the lognormal and gamma distribution. The normal distribution has a chance of allowing for a negative ground time value, however since the standard deviations are about 3 times smaller than the means, there is an extremely small chance of this happening. The mean and standard deviation of each of the 9 distributions is listed under each graph and are also located in the table above as well. "
   ]
  }
 ],
 "metadata": {
  "kernelspec": {
   "display_name": "Python 3 (ipykernel)",
   "language": "python",
   "name": "python3"
  },
  "language_info": {
   "codemirror_mode": {
    "name": "ipython",
    "version": 3
   },
   "file_extension": ".py",
   "mimetype": "text/x-python",
   "name": "python",
   "nbconvert_exporter": "python",
   "pygments_lexer": "ipython3",
   "version": "3.9.7"
  }
 },
 "nbformat": 4,
 "nbformat_minor": 5
}
